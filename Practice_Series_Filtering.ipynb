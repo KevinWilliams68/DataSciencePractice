{
  "nbformat": 4,
  "nbformat_minor": 0,
  "metadata": {
    "colab": {
      "provenance": []
    },
    "kernelspec": {
      "name": "python3",
      "display_name": "Python 3"
    },
    "language_info": {
      "name": "python"
    }
  },
  "cells": [
    {
      "cell_type": "code",
      "execution_count": null,
      "metadata": {
        "colab": {
          "base_uri": "https://localhost:8080/",
          "height": 424
        },
        "id": "Gc5rZKEbqu6C",
        "outputId": "93a4ccc2-0f66-44df-afde-a46e4f3ea930"
      },
      "outputs": [
        {
          "output_type": "execute_result",
          "data": {
            "text/plain": [
              "           Player   I    R    B  Outs    Avg      SR   HS  4s  6s  50  100\n",
              "0         A Bagai  15  343  556    13  26.38   61.69   84  38   0   2    0\n",
              "1     A Balbirnie   6  236  260     6  39.33   90.77   97  20   4   2    0\n",
              "2    A Codrington   5   28   65     5   5.60   43.08   16   2   0   0    0\n",
              "3      A Flintoff  12  248  357    12  20.67   69.47   64  20   7   1    0\n",
              "4        A Flower   7  332  459     7  47.43   72.33   71  30   1   3    0\n",
              "..            ...  ..  ...  ...   ...    ...     ...  ...  ..  ..  ..  ...\n",
              "643   Younis Khan  17  349  493    16  21.81   70.79   72  23   1   2    0\n",
              "644     YS Chahal   1    5    5     1   5.00  100.00    5   1   0   0    0\n",
              "645  Yuvraj Singh  21  738  817    14  52.71   90.33  113  68  13   7    1\n",
              "646        Z Khan  10   52   70     9   5.78   74.29   15   6   0   0    0\n",
              "647    ZE Surkari   6  104  231     6  17.33   45.02   34   7   0   0    0\n",
              "\n",
              "[648 rows x 12 columns]"
            ],
            "text/html": [
              "\n",
              "  <div id=\"df-dbd4e2e3-75f5-4ff9-a19d-db041f98e3f0\" class=\"colab-df-container\">\n",
              "    <div>\n",
              "<style scoped>\n",
              "    .dataframe tbody tr th:only-of-type {\n",
              "        vertical-align: middle;\n",
              "    }\n",
              "\n",
              "    .dataframe tbody tr th {\n",
              "        vertical-align: top;\n",
              "    }\n",
              "\n",
              "    .dataframe thead th {\n",
              "        text-align: right;\n",
              "    }\n",
              "</style>\n",
              "<table border=\"1\" class=\"dataframe\">\n",
              "  <thead>\n",
              "    <tr style=\"text-align: right;\">\n",
              "      <th></th>\n",
              "      <th>Player</th>\n",
              "      <th>I</th>\n",
              "      <th>R</th>\n",
              "      <th>B</th>\n",
              "      <th>Outs</th>\n",
              "      <th>Avg</th>\n",
              "      <th>SR</th>\n",
              "      <th>HS</th>\n",
              "      <th>4s</th>\n",
              "      <th>6s</th>\n",
              "      <th>50</th>\n",
              "      <th>100</th>\n",
              "    </tr>\n",
              "  </thead>\n",
              "  <tbody>\n",
              "    <tr>\n",
              "      <th>0</th>\n",
              "      <td>A Bagai</td>\n",
              "      <td>15</td>\n",
              "      <td>343</td>\n",
              "      <td>556</td>\n",
              "      <td>13</td>\n",
              "      <td>26.38</td>\n",
              "      <td>61.69</td>\n",
              "      <td>84</td>\n",
              "      <td>38</td>\n",
              "      <td>0</td>\n",
              "      <td>2</td>\n",
              "      <td>0</td>\n",
              "    </tr>\n",
              "    <tr>\n",
              "      <th>1</th>\n",
              "      <td>A Balbirnie</td>\n",
              "      <td>6</td>\n",
              "      <td>236</td>\n",
              "      <td>260</td>\n",
              "      <td>6</td>\n",
              "      <td>39.33</td>\n",
              "      <td>90.77</td>\n",
              "      <td>97</td>\n",
              "      <td>20</td>\n",
              "      <td>4</td>\n",
              "      <td>2</td>\n",
              "      <td>0</td>\n",
              "    </tr>\n",
              "    <tr>\n",
              "      <th>2</th>\n",
              "      <td>A Codrington</td>\n",
              "      <td>5</td>\n",
              "      <td>28</td>\n",
              "      <td>65</td>\n",
              "      <td>5</td>\n",
              "      <td>5.60</td>\n",
              "      <td>43.08</td>\n",
              "      <td>16</td>\n",
              "      <td>2</td>\n",
              "      <td>0</td>\n",
              "      <td>0</td>\n",
              "      <td>0</td>\n",
              "    </tr>\n",
              "    <tr>\n",
              "      <th>3</th>\n",
              "      <td>A Flintoff</td>\n",
              "      <td>12</td>\n",
              "      <td>248</td>\n",
              "      <td>357</td>\n",
              "      <td>12</td>\n",
              "      <td>20.67</td>\n",
              "      <td>69.47</td>\n",
              "      <td>64</td>\n",
              "      <td>20</td>\n",
              "      <td>7</td>\n",
              "      <td>1</td>\n",
              "      <td>0</td>\n",
              "    </tr>\n",
              "    <tr>\n",
              "      <th>4</th>\n",
              "      <td>A Flower</td>\n",
              "      <td>7</td>\n",
              "      <td>332</td>\n",
              "      <td>459</td>\n",
              "      <td>7</td>\n",
              "      <td>47.43</td>\n",
              "      <td>72.33</td>\n",
              "      <td>71</td>\n",
              "      <td>30</td>\n",
              "      <td>1</td>\n",
              "      <td>3</td>\n",
              "      <td>0</td>\n",
              "    </tr>\n",
              "    <tr>\n",
              "      <th>...</th>\n",
              "      <td>...</td>\n",
              "      <td>...</td>\n",
              "      <td>...</td>\n",
              "      <td>...</td>\n",
              "      <td>...</td>\n",
              "      <td>...</td>\n",
              "      <td>...</td>\n",
              "      <td>...</td>\n",
              "      <td>...</td>\n",
              "      <td>...</td>\n",
              "      <td>...</td>\n",
              "      <td>...</td>\n",
              "    </tr>\n",
              "    <tr>\n",
              "      <th>643</th>\n",
              "      <td>Younis Khan</td>\n",
              "      <td>17</td>\n",
              "      <td>349</td>\n",
              "      <td>493</td>\n",
              "      <td>16</td>\n",
              "      <td>21.81</td>\n",
              "      <td>70.79</td>\n",
              "      <td>72</td>\n",
              "      <td>23</td>\n",
              "      <td>1</td>\n",
              "      <td>2</td>\n",
              "      <td>0</td>\n",
              "    </tr>\n",
              "    <tr>\n",
              "      <th>644</th>\n",
              "      <td>YS Chahal</td>\n",
              "      <td>1</td>\n",
              "      <td>5</td>\n",
              "      <td>5</td>\n",
              "      <td>1</td>\n",
              "      <td>5.00</td>\n",
              "      <td>100.00</td>\n",
              "      <td>5</td>\n",
              "      <td>1</td>\n",
              "      <td>0</td>\n",
              "      <td>0</td>\n",
              "      <td>0</td>\n",
              "    </tr>\n",
              "    <tr>\n",
              "      <th>645</th>\n",
              "      <td>Yuvraj Singh</td>\n",
              "      <td>21</td>\n",
              "      <td>738</td>\n",
              "      <td>817</td>\n",
              "      <td>14</td>\n",
              "      <td>52.71</td>\n",
              "      <td>90.33</td>\n",
              "      <td>113</td>\n",
              "      <td>68</td>\n",
              "      <td>13</td>\n",
              "      <td>7</td>\n",
              "      <td>1</td>\n",
              "    </tr>\n",
              "    <tr>\n",
              "      <th>646</th>\n",
              "      <td>Z Khan</td>\n",
              "      <td>10</td>\n",
              "      <td>52</td>\n",
              "      <td>70</td>\n",
              "      <td>9</td>\n",
              "      <td>5.78</td>\n",
              "      <td>74.29</td>\n",
              "      <td>15</td>\n",
              "      <td>6</td>\n",
              "      <td>0</td>\n",
              "      <td>0</td>\n",
              "      <td>0</td>\n",
              "    </tr>\n",
              "    <tr>\n",
              "      <th>647</th>\n",
              "      <td>ZE Surkari</td>\n",
              "      <td>6</td>\n",
              "      <td>104</td>\n",
              "      <td>231</td>\n",
              "      <td>6</td>\n",
              "      <td>17.33</td>\n",
              "      <td>45.02</td>\n",
              "      <td>34</td>\n",
              "      <td>7</td>\n",
              "      <td>0</td>\n",
              "      <td>0</td>\n",
              "      <td>0</td>\n",
              "    </tr>\n",
              "  </tbody>\n",
              "</table>\n",
              "<p>648 rows × 12 columns</p>\n",
              "</div>\n",
              "    <div class=\"colab-df-buttons\">\n",
              "\n",
              "  <div class=\"colab-df-container\">\n",
              "    <button class=\"colab-df-convert\" onclick=\"convertToInteractive('df-dbd4e2e3-75f5-4ff9-a19d-db041f98e3f0')\"\n",
              "            title=\"Convert this dataframe to an interactive table.\"\n",
              "            style=\"display:none;\">\n",
              "\n",
              "  <svg xmlns=\"http://www.w3.org/2000/svg\" height=\"24px\" viewBox=\"0 -960 960 960\">\n",
              "    <path d=\"M120-120v-720h720v720H120Zm60-500h600v-160H180v160Zm220 220h160v-160H400v160Zm0 220h160v-160H400v160ZM180-400h160v-160H180v160Zm440 0h160v-160H620v160ZM180-180h160v-160H180v160Zm440 0h160v-160H620v160Z\"/>\n",
              "  </svg>\n",
              "    </button>\n",
              "\n",
              "  <style>\n",
              "    .colab-df-container {\n",
              "      display:flex;\n",
              "      gap: 12px;\n",
              "    }\n",
              "\n",
              "    .colab-df-convert {\n",
              "      background-color: #E8F0FE;\n",
              "      border: none;\n",
              "      border-radius: 50%;\n",
              "      cursor: pointer;\n",
              "      display: none;\n",
              "      fill: #1967D2;\n",
              "      height: 32px;\n",
              "      padding: 0 0 0 0;\n",
              "      width: 32px;\n",
              "    }\n",
              "\n",
              "    .colab-df-convert:hover {\n",
              "      background-color: #E2EBFA;\n",
              "      box-shadow: 0px 1px 2px rgba(60, 64, 67, 0.3), 0px 1px 3px 1px rgba(60, 64, 67, 0.15);\n",
              "      fill: #174EA6;\n",
              "    }\n",
              "\n",
              "    .colab-df-buttons div {\n",
              "      margin-bottom: 4px;\n",
              "    }\n",
              "\n",
              "    [theme=dark] .colab-df-convert {\n",
              "      background-color: #3B4455;\n",
              "      fill: #D2E3FC;\n",
              "    }\n",
              "\n",
              "    [theme=dark] .colab-df-convert:hover {\n",
              "      background-color: #434B5C;\n",
              "      box-shadow: 0px 1px 3px 1px rgba(0, 0, 0, 0.15);\n",
              "      filter: drop-shadow(0px 1px 2px rgba(0, 0, 0, 0.3));\n",
              "      fill: #FFFFFF;\n",
              "    }\n",
              "  </style>\n",
              "\n",
              "    <script>\n",
              "      const buttonEl =\n",
              "        document.querySelector('#df-dbd4e2e3-75f5-4ff9-a19d-db041f98e3f0 button.colab-df-convert');\n",
              "      buttonEl.style.display =\n",
              "        google.colab.kernel.accessAllowed ? 'block' : 'none';\n",
              "\n",
              "      async function convertToInteractive(key) {\n",
              "        const element = document.querySelector('#df-dbd4e2e3-75f5-4ff9-a19d-db041f98e3f0');\n",
              "        const dataTable =\n",
              "          await google.colab.kernel.invokeFunction('convertToInteractive',\n",
              "                                                    [key], {});\n",
              "        if (!dataTable) return;\n",
              "\n",
              "        const docLinkHtml = 'Like what you see? Visit the ' +\n",
              "          '<a target=\"_blank\" href=https://colab.research.google.com/notebooks/data_table.ipynb>data table notebook</a>'\n",
              "          + ' to learn more about interactive tables.';\n",
              "        element.innerHTML = '';\n",
              "        dataTable['output_type'] = 'display_data';\n",
              "        await google.colab.output.renderOutput(dataTable, element);\n",
              "        const docLink = document.createElement('div');\n",
              "        docLink.innerHTML = docLinkHtml;\n",
              "        element.appendChild(docLink);\n",
              "      }\n",
              "    </script>\n",
              "  </div>\n",
              "\n",
              "\n",
              "<div id=\"df-e5118eb0-8078-4c99-ac9c-5d6e201463f1\">\n",
              "  <button class=\"colab-df-quickchart\" onclick=\"quickchart('df-e5118eb0-8078-4c99-ac9c-5d6e201463f1')\"\n",
              "            title=\"Suggest charts\"\n",
              "            style=\"display:none;\">\n",
              "\n",
              "<svg xmlns=\"http://www.w3.org/2000/svg\" height=\"24px\"viewBox=\"0 0 24 24\"\n",
              "     width=\"24px\">\n",
              "    <g>\n",
              "        <path d=\"M19 3H5c-1.1 0-2 .9-2 2v14c0 1.1.9 2 2 2h14c1.1 0 2-.9 2-2V5c0-1.1-.9-2-2-2zM9 17H7v-7h2v7zm4 0h-2V7h2v10zm4 0h-2v-4h2v4z\"/>\n",
              "    </g>\n",
              "</svg>\n",
              "  </button>\n",
              "\n",
              "<style>\n",
              "  .colab-df-quickchart {\n",
              "      --bg-color: #E8F0FE;\n",
              "      --fill-color: #1967D2;\n",
              "      --hover-bg-color: #E2EBFA;\n",
              "      --hover-fill-color: #174EA6;\n",
              "      --disabled-fill-color: #AAA;\n",
              "      --disabled-bg-color: #DDD;\n",
              "  }\n",
              "\n",
              "  [theme=dark] .colab-df-quickchart {\n",
              "      --bg-color: #3B4455;\n",
              "      --fill-color: #D2E3FC;\n",
              "      --hover-bg-color: #434B5C;\n",
              "      --hover-fill-color: #FFFFFF;\n",
              "      --disabled-bg-color: #3B4455;\n",
              "      --disabled-fill-color: #666;\n",
              "  }\n",
              "\n",
              "  .colab-df-quickchart {\n",
              "    background-color: var(--bg-color);\n",
              "    border: none;\n",
              "    border-radius: 50%;\n",
              "    cursor: pointer;\n",
              "    display: none;\n",
              "    fill: var(--fill-color);\n",
              "    height: 32px;\n",
              "    padding: 0;\n",
              "    width: 32px;\n",
              "  }\n",
              "\n",
              "  .colab-df-quickchart:hover {\n",
              "    background-color: var(--hover-bg-color);\n",
              "    box-shadow: 0 1px 2px rgba(60, 64, 67, 0.3), 0 1px 3px 1px rgba(60, 64, 67, 0.15);\n",
              "    fill: var(--button-hover-fill-color);\n",
              "  }\n",
              "\n",
              "  .colab-df-quickchart-complete:disabled,\n",
              "  .colab-df-quickchart-complete:disabled:hover {\n",
              "    background-color: var(--disabled-bg-color);\n",
              "    fill: var(--disabled-fill-color);\n",
              "    box-shadow: none;\n",
              "  }\n",
              "\n",
              "  .colab-df-spinner {\n",
              "    border: 2px solid var(--fill-color);\n",
              "    border-color: transparent;\n",
              "    border-bottom-color: var(--fill-color);\n",
              "    animation:\n",
              "      spin 1s steps(1) infinite;\n",
              "  }\n",
              "\n",
              "  @keyframes spin {\n",
              "    0% {\n",
              "      border-color: transparent;\n",
              "      border-bottom-color: var(--fill-color);\n",
              "      border-left-color: var(--fill-color);\n",
              "    }\n",
              "    20% {\n",
              "      border-color: transparent;\n",
              "      border-left-color: var(--fill-color);\n",
              "      border-top-color: var(--fill-color);\n",
              "    }\n",
              "    30% {\n",
              "      border-color: transparent;\n",
              "      border-left-color: var(--fill-color);\n",
              "      border-top-color: var(--fill-color);\n",
              "      border-right-color: var(--fill-color);\n",
              "    }\n",
              "    40% {\n",
              "      border-color: transparent;\n",
              "      border-right-color: var(--fill-color);\n",
              "      border-top-color: var(--fill-color);\n",
              "    }\n",
              "    60% {\n",
              "      border-color: transparent;\n",
              "      border-right-color: var(--fill-color);\n",
              "    }\n",
              "    80% {\n",
              "      border-color: transparent;\n",
              "      border-right-color: var(--fill-color);\n",
              "      border-bottom-color: var(--fill-color);\n",
              "    }\n",
              "    90% {\n",
              "      border-color: transparent;\n",
              "      border-bottom-color: var(--fill-color);\n",
              "    }\n",
              "  }\n",
              "</style>\n",
              "\n",
              "  <script>\n",
              "    async function quickchart(key) {\n",
              "      const quickchartButtonEl =\n",
              "        document.querySelector('#' + key + ' button');\n",
              "      quickchartButtonEl.disabled = true;  // To prevent multiple clicks.\n",
              "      quickchartButtonEl.classList.add('colab-df-spinner');\n",
              "      try {\n",
              "        const charts = await google.colab.kernel.invokeFunction(\n",
              "            'suggestCharts', [key], {});\n",
              "      } catch (error) {\n",
              "        console.error('Error during call to suggestCharts:', error);\n",
              "      }\n",
              "      quickchartButtonEl.classList.remove('colab-df-spinner');\n",
              "      quickchartButtonEl.classList.add('colab-df-quickchart-complete');\n",
              "    }\n",
              "    (() => {\n",
              "      let quickchartButtonEl =\n",
              "        document.querySelector('#df-e5118eb0-8078-4c99-ac9c-5d6e201463f1 button');\n",
              "      quickchartButtonEl.style.display =\n",
              "        google.colab.kernel.accessAllowed ? 'block' : 'none';\n",
              "    })();\n",
              "  </script>\n",
              "</div>\n",
              "\n",
              "  <div id=\"id_ee9049f3-0ca7-4f51-9a59-6c031a38321c\">\n",
              "    <style>\n",
              "      .colab-df-generate {\n",
              "        background-color: #E8F0FE;\n",
              "        border: none;\n",
              "        border-radius: 50%;\n",
              "        cursor: pointer;\n",
              "        display: none;\n",
              "        fill: #1967D2;\n",
              "        height: 32px;\n",
              "        padding: 0 0 0 0;\n",
              "        width: 32px;\n",
              "      }\n",
              "\n",
              "      .colab-df-generate:hover {\n",
              "        background-color: #E2EBFA;\n",
              "        box-shadow: 0px 1px 2px rgba(60, 64, 67, 0.3), 0px 1px 3px 1px rgba(60, 64, 67, 0.15);\n",
              "        fill: #174EA6;\n",
              "      }\n",
              "\n",
              "      [theme=dark] .colab-df-generate {\n",
              "        background-color: #3B4455;\n",
              "        fill: #D2E3FC;\n",
              "      }\n",
              "\n",
              "      [theme=dark] .colab-df-generate:hover {\n",
              "        background-color: #434B5C;\n",
              "        box-shadow: 0px 1px 3px 1px rgba(0, 0, 0, 0.15);\n",
              "        filter: drop-shadow(0px 1px 2px rgba(0, 0, 0, 0.3));\n",
              "        fill: #FFFFFF;\n",
              "      }\n",
              "    </style>\n",
              "    <button class=\"colab-df-generate\" onclick=\"generateWithVariable('data')\"\n",
              "            title=\"Generate code using this dataframe.\"\n",
              "            style=\"display:none;\">\n",
              "\n",
              "  <svg xmlns=\"http://www.w3.org/2000/svg\" height=\"24px\"viewBox=\"0 0 24 24\"\n",
              "       width=\"24px\">\n",
              "    <path d=\"M7,19H8.4L18.45,9,17,7.55,7,17.6ZM5,21V16.75L18.45,3.32a2,2,0,0,1,2.83,0l1.4,1.43a1.91,1.91,0,0,1,.58,1.4,1.91,1.91,0,0,1-.58,1.4L9.25,21ZM18.45,9,17,7.55Zm-12,3A5.31,5.31,0,0,0,4.9,8.1,5.31,5.31,0,0,0,1,6.5,5.31,5.31,0,0,0,4.9,4.9,5.31,5.31,0,0,0,6.5,1,5.31,5.31,0,0,0,8.1,4.9,5.31,5.31,0,0,0,12,6.5,5.46,5.46,0,0,0,6.5,12Z\"/>\n",
              "  </svg>\n",
              "    </button>\n",
              "    <script>\n",
              "      (() => {\n",
              "      const buttonEl =\n",
              "        document.querySelector('#id_ee9049f3-0ca7-4f51-9a59-6c031a38321c button.colab-df-generate');\n",
              "      buttonEl.style.display =\n",
              "        google.colab.kernel.accessAllowed ? 'block' : 'none';\n",
              "\n",
              "      buttonEl.onclick = () => {\n",
              "        google.colab.notebook.generateWithVariable('data');\n",
              "      }\n",
              "      })();\n",
              "    </script>\n",
              "  </div>\n",
              "\n",
              "    </div>\n",
              "  </div>\n"
            ]
          },
          "metadata": {},
          "execution_count": 1
        }
      ],
      "source": [
        "import pandas as pd\n",
        "data = pd.read_csv('leadersdata.csv')\n",
        "data"
      ]
    },
    {
      "cell_type": "code",
      "source": [
        "data.set_index('Player', inplace=True)"
      ],
      "metadata": {
        "id": "b73WcgHlr2sN"
      },
      "execution_count": null,
      "outputs": []
    },
    {
      "cell_type": "code",
      "source": [
        "# Creating pandas series for each column\n",
        "innings = data['I']\n",
        "runs = data['R']\n",
        "balls = data['B']\n",
        "outs = data['Outs']\n",
        "batting_average = data['Avg']\n",
        "strike_rate = data['SR']\n",
        "highest_score = data['HS']\n",
        "number_of_fours = data['4s']\n",
        "number_of_sixes = data['6s']\n",
        "number_of_fifties = data['50']\n",
        "number_of_hundreds = data['100']"
      ],
      "metadata": {
        "id": "SOEGEaR6r3eF"
      },
      "execution_count": null,
      "outputs": []
    },
    {
      "cell_type": "code",
      "source": [
        "data.dtypes"
      ],
      "metadata": {
        "id": "OOzq2Rk1uo22",
        "outputId": "7c922e12-756f-4209-882c-c0b6ef1c0f7f",
        "colab": {
          "base_uri": "https://localhost:8080/"
        }
      },
      "execution_count": 29,
      "outputs": [
        {
          "output_type": "execute_result",
          "data": {
            "text/plain": [
              "I         int64\n",
              "R        object\n",
              "B        object\n",
              "Outs      int64\n",
              "Avg     float64\n",
              "SR      float64\n",
              "HS        int64\n",
              "4s        int64\n",
              "6s        int64\n",
              "50        int64\n",
              "100       int64\n",
              "dtype: object"
            ]
          },
          "metadata": {},
          "execution_count": 29
        }
      ]
    },
    {
      "cell_type": "code",
      "source": [
        "runs.dtypes"
      ],
      "metadata": {
        "colab": {
          "base_uri": "https://localhost:8080/"
        },
        "id": "YZ2wvdU6vS8b",
        "outputId": "6f128cc6-0421-49bd-baa3-d47b2b292b1e"
      },
      "execution_count": 32,
      "outputs": [
        {
          "output_type": "execute_result",
          "data": {
            "text/plain": [
              "dtype('O')"
            ]
          },
          "metadata": {},
          "execution_count": 32
        }
      ]
    },
    {
      "cell_type": "code",
      "source": [
        "#imported as objects, changing to int64\n",
        "#imported as objects, changing to int64\n",
        "runs = runs.str.replace(',', '').astype(int)\n",
        "balls = balls.str.replace(',', '').astype(int)\n",
        "runs.astype('int64')\n",
        "balls.astype('int64')"
      ],
      "metadata": {
        "colab": {
          "base_uri": "https://localhost:8080/"
        },
        "id": "tRo6Nfb0uv90",
        "outputId": "671d1f2a-536c-434a-db0b-d471c8f02990"
      },
      "execution_count": 35,
      "outputs": [
        {
          "output_type": "execute_result",
          "data": {
            "text/plain": [
              "Player\n",
              "A Bagai         556\n",
              "A Balbirnie     260\n",
              "A Codrington     65\n",
              "A Flintoff      357\n",
              "A Flower        459\n",
              "               ... \n",
              "Younis Khan     493\n",
              "YS Chahal         5\n",
              "Yuvraj Singh    817\n",
              "Z Khan           70\n",
              "ZE Surkari      231\n",
              "Name: B, Length: 648, dtype: int64"
            ]
          },
          "metadata": {},
          "execution_count": 35
        }
      ]
    },
    {
      "cell_type": "markdown",
      "source": [
        "How many players have a batting average greater than 30 in the batting_average series"
      ],
      "metadata": {
        "id": "VFolp1qkq_an"
      }
    },
    {
      "cell_type": "code",
      "source": [
        "(batting_average > 30).sum()"
      ],
      "metadata": {
        "id": "EcFcifScq_lq",
        "colab": {
          "base_uri": "https://localhost:8080/"
        },
        "outputId": "87c6c755-faf6-411c-8b7b-3edf968f603c"
      },
      "execution_count": null,
      "outputs": [
        {
          "output_type": "execute_result",
          "data": {
            "text/plain": [
              "169"
            ]
          },
          "metadata": {},
          "execution_count": 11
        }
      ]
    },
    {
      "cell_type": "markdown",
      "source": [
        "What is the maximum number of runs scored by a player in the runs series"
      ],
      "metadata": {
        "id": "MfmOlClarD3k"
      }
    },
    {
      "cell_type": "code",
      "source": [
        "runs.max()"
      ],
      "metadata": {
        "id": "1XoAb4vhrDWp",
        "colab": {
          "base_uri": "https://localhost:8080/"
        },
        "outputId": "fee54702-b14e-49f4-faa6-e79b3faa9a80"
      },
      "execution_count": 36,
      "outputs": [
        {
          "output_type": "execute_result",
          "data": {
            "text/plain": [
              "1532"
            ]
          },
          "metadata": {},
          "execution_count": 36
        }
      ]
    },
    {
      "cell_type": "markdown",
      "source": [
        "Name the player with maximum runs"
      ],
      "metadata": {
        "id": "w3VmZ10qrF7Q"
      }
    },
    {
      "cell_type": "code",
      "source": [
        "runs.loc[runs == runs.max()]"
      ],
      "metadata": {
        "id": "lppg9B5prFZe",
        "colab": {
          "base_uri": "https://localhost:8080/"
        },
        "outputId": "f5a63d98-4ca9-48c3-e3d3-f4761a90f2c6"
      },
      "execution_count": 37,
      "outputs": [
        {
          "output_type": "execute_result",
          "data": {
            "text/plain": [
              "Player\n",
              "KC Sangakkara    1532\n",
              "Name: R, dtype: int64"
            ]
          },
          "metadata": {},
          "execution_count": 37
        }
      ]
    },
    {
      "cell_type": "markdown",
      "source": [
        "Name the player who played least number of balls"
      ],
      "metadata": {
        "id": "fGm_eOcYrHah"
      }
    },
    {
      "cell_type": "code",
      "source": [
        "balls.loc[balls == balls.min()]"
      ],
      "metadata": {
        "id": "vZJBsOjTrJDO",
        "colab": {
          "base_uri": "https://localhost:8080/"
        },
        "outputId": "b962b601-ac0c-4eef-b34f-292aa472b224"
      },
      "execution_count": 38,
      "outputs": [
        {
          "output_type": "execute_result",
          "data": {
            "text/plain": [
              "Player\n",
              "CJ Jordan        1\n",
              "EC Rainsford     1\n",
              "JJ Bumrah        1\n",
              "KW Richardson    1\n",
              "M Zondeki        1\n",
              "MM Sharma        1\n",
              "PHT Kaushal      1\n",
              "PJK Mooney       1\n",
              "PT Collins       1\n",
              "SW Tait          1\n",
              "XJ Doherty       1\n",
              "Name: B, dtype: int64"
            ]
          },
          "metadata": {},
          "execution_count": 38
        }
      ]
    },
    {
      "cell_type": "markdown",
      "source": [
        "How many players have played more than 500 balls in the balls series"
      ],
      "metadata": {
        "id": "XMNg6PvGrJP-"
      }
    },
    {
      "cell_type": "code",
      "source": [
        "len(balls[balls > 500])"
      ],
      "metadata": {
        "id": "hdoCPBqMrKyJ",
        "colab": {
          "base_uri": "https://localhost:8080/"
        },
        "outputId": "4b078b95-ecf0-465e-bbbc-80d83d1b10ae"
      },
      "execution_count": 41,
      "outputs": [
        {
          "output_type": "execute_result",
          "data": {
            "text/plain": [
              "70"
            ]
          },
          "metadata": {},
          "execution_count": 41
        }
      ]
    },
    {
      "cell_type": "markdown",
      "source": [
        "What is the mean value of the batting_average series"
      ],
      "metadata": {
        "id": "dEuBn6oZrK5T"
      }
    },
    {
      "cell_type": "code",
      "source": [
        "batting_average.mean()"
      ],
      "metadata": {
        "id": "vGcqBLBcrMWa",
        "colab": {
          "base_uri": "https://localhost:8080/"
        },
        "outputId": "bbe766a3-e646-45ad-a0f4-0d10bbbd1299"
      },
      "execution_count": 42,
      "outputs": [
        {
          "output_type": "execute_result",
          "data": {
            "text/plain": [
              "20.89378086419753"
            ]
          },
          "metadata": {},
          "execution_count": 42
        }
      ]
    },
    {
      "cell_type": "markdown",
      "source": [
        "How many players have a strike rate less than 70 in the strike_rate series"
      ],
      "metadata": {
        "id": "E266YvQGrMhW"
      }
    },
    {
      "cell_type": "code",
      "source": [
        "(strike_rate < 70).sum()"
      ],
      "metadata": {
        "id": "gp0G2eclrNy6",
        "colab": {
          "base_uri": "https://localhost:8080/"
        },
        "outputId": "1a1d5f6e-d435-4444-baa9-8e1e5e6af624"
      },
      "execution_count": 45,
      "outputs": [
        {
          "output_type": "execute_result",
          "data": {
            "text/plain": [
              "309"
            ]
          },
          "metadata": {},
          "execution_count": 45
        }
      ]
    },
    {
      "cell_type": "markdown",
      "source": [
        "What is the minimum number of innings played by a player in the innings series"
      ],
      "metadata": {
        "id": "2vkrL-gArN6M"
      }
    },
    {
      "cell_type": "code",
      "source": [
        "innings.min()"
      ],
      "metadata": {
        "id": "ShhM5TSrrPje",
        "colab": {
          "base_uri": "https://localhost:8080/"
        },
        "outputId": "8446eca3-5903-4323-cc1d-0777d91caef0"
      },
      "execution_count": 46,
      "outputs": [
        {
          "output_type": "execute_result",
          "data": {
            "text/plain": [
              "1"
            ]
          },
          "metadata": {},
          "execution_count": 46
        }
      ]
    },
    {
      "cell_type": "markdown",
      "source": [
        "How many players have a batting average greater than 50 in the batting_average series"
      ],
      "metadata": {
        "id": "ndIT4jt7rPtT"
      }
    },
    {
      "cell_type": "code",
      "source": [
        "(batting_average > 50).sum()"
      ],
      "metadata": {
        "id": "2qIXcsSMrRaP",
        "colab": {
          "base_uri": "https://localhost:8080/"
        },
        "outputId": "f394573c-4c6f-4578-c543-507a574e506e"
      },
      "execution_count": 48,
      "outputs": [
        {
          "output_type": "execute_result",
          "data": {
            "text/plain": [
              "52"
            ]
          },
          "metadata": {},
          "execution_count": 48
        }
      ]
    },
    {
      "cell_type": "markdown",
      "source": [
        "How many players have a batting average between 20 and 30 (inclusive) in the batting_average series"
      ],
      "metadata": {
        "id": "VM1LdchvrRkK"
      }
    },
    {
      "cell_type": "code",
      "source": [
        "len(batting_average[(batting_average >= 20) & (batting_average <= 30)])"
      ],
      "metadata": {
        "id": "y-RrV47zrTBQ",
        "colab": {
          "base_uri": "https://localhost:8080/"
        },
        "outputId": "2eb75b73-c7ce-4aa5-84a7-7c35314184b0"
      },
      "execution_count": 55,
      "outputs": [
        {
          "output_type": "execute_result",
          "data": {
            "text/plain": [
              "113"
            ]
          },
          "metadata": {},
          "execution_count": 55
        }
      ]
    },
    {
      "cell_type": "markdown",
      "source": [
        "Calculating the Average Balls Faced by a Player"
      ],
      "metadata": {
        "id": "fLGZDzHMrTK_"
      }
    },
    {
      "cell_type": "code",
      "source": [
        "balls.mean()"
      ],
      "metadata": {
        "id": "XPBy70RCrU6t",
        "colab": {
          "base_uri": "https://localhost:8080/"
        },
        "outputId": "c415843f-a289-475c-c19f-32f59f30ecc2"
      },
      "execution_count": 56,
      "outputs": [
        {
          "output_type": "execute_result",
          "data": {
            "text/plain": [
              "195.14969135802468"
            ]
          },
          "metadata": {},
          "execution_count": 56
        }
      ]
    },
    {
      "cell_type": "markdown",
      "source": [
        "How many players have a strike rate greater than 120 in the strike_rate series"
      ],
      "metadata": {
        "id": "AsguU-y7rVCb"
      }
    },
    {
      "cell_type": "code",
      "source": [
        "(strike_rate > 120).sum()"
      ],
      "metadata": {
        "id": "z6RDtkGarWkH",
        "colab": {
          "base_uri": "https://localhost:8080/"
        },
        "outputId": "b709566b-7d36-4672-fd4e-50ef259dfa50"
      },
      "execution_count": 58,
      "outputs": [
        {
          "output_type": "execute_result",
          "data": {
            "text/plain": [
              "39"
            ]
          },
          "metadata": {},
          "execution_count": 58
        }
      ]
    },
    {
      "cell_type": "markdown",
      "source": [
        "Provide the names of the top three players from the strike_rate series"
      ],
      "metadata": {
        "id": "MBRDL38FrWti"
      }
    },
    {
      "cell_type": "code",
      "source": [
        "strike_rate.sort_values(ascending=False).head(3)"
      ],
      "metadata": {
        "id": "3G_ZBekurYEU",
        "colab": {
          "base_uri": "https://localhost:8080/"
        },
        "outputId": "3be069ac-ca2e-4541-87cc-58cad5356d19"
      },
      "execution_count": 59,
      "outputs": [
        {
          "output_type": "execute_result",
          "data": {
            "text/plain": [
              "Player\n",
              "KD Mills        233.33\n",
              "LD Chandimal    216.67\n",
              "F Behardien     205.56\n",
              "Name: SR, dtype: float64"
            ]
          },
          "metadata": {},
          "execution_count": 59
        }
      ]
    },
    {
      "cell_type": "markdown",
      "source": [
        "Sum of Maximums from number_of_fours and number_of_sixes Series"
      ],
      "metadata": {
        "id": "VIq8esaMrYLr"
      }
    },
    {
      "cell_type": "code",
      "source": [
        "number_of_fours.max() + number_of_sixes.max()"
      ],
      "metadata": {
        "id": "7sBxsVXdraNt",
        "colab": {
          "base_uri": "https://localhost:8080/"
        },
        "outputId": "83ca0613-9d54-46d5-d8cb-17f8d2d082a7"
      },
      "execution_count": 60,
      "outputs": [
        {
          "output_type": "execute_result",
          "data": {
            "text/plain": [
              "196"
            ]
          },
          "metadata": {},
          "execution_count": 60
        }
      ]
    },
    {
      "cell_type": "markdown",
      "source": [
        "How many players have a batting average below 10 in the batting_average series"
      ],
      "metadata": {
        "id": "__4gvoKuraVU"
      }
    },
    {
      "cell_type": "code",
      "source": [
        "(batting_average < 10).sum()"
      ],
      "metadata": {
        "id": "NZl5nnRZrbrI",
        "colab": {
          "base_uri": "https://localhost:8080/"
        },
        "outputId": "f67e1d39-0c88-49f8-fd5c-6de9b06017db"
      },
      "execution_count": 62,
      "outputs": [
        {
          "output_type": "execute_result",
          "data": {
            "text/plain": [
              "220"
            ]
          },
          "metadata": {},
          "execution_count": 62
        }
      ]
    },
    {
      "cell_type": "markdown",
      "source": [
        "Name the player who hit maximum sixes"
      ],
      "metadata": {
        "id": "9wT33_KrrbzC"
      }
    },
    {
      "cell_type": "code",
      "source": [
        "number_of_sixes.sort_values(ascending=False).head(1)"
      ],
      "metadata": {
        "id": "crM2Ai6XrdJ3",
        "colab": {
          "base_uri": "https://localhost:8080/"
        },
        "outputId": "150590a9-b4de-42c5-dead-2b4b812ceca2"
      },
      "execution_count": 64,
      "outputs": [
        {
          "output_type": "execute_result",
          "data": {
            "text/plain": [
              "Player\n",
              "CH Gayle    49\n",
              "Name: 6s, dtype: int64"
            ]
          },
          "metadata": {},
          "execution_count": 64
        }
      ]
    },
    {
      "cell_type": "markdown",
      "source": [
        "How many players have a strike rate between 80 and 90 (inclusive) in the strike_rate series"
      ],
      "metadata": {
        "id": "Toju4kR4rdP-"
      }
    },
    {
      "cell_type": "code",
      "source": [
        "len(strike_rate[(strike_rate >= 80) & (strike_rate <= 90)])"
      ],
      "metadata": {
        "id": "uVqoFK1Oreap",
        "colab": {
          "base_uri": "https://localhost:8080/"
        },
        "outputId": "878ea3c3-96f6-4df6-b85b-2a4d489a965e"
      },
      "execution_count": 69,
      "outputs": [
        {
          "output_type": "execute_result",
          "data": {
            "text/plain": [
              "92"
            ]
          },
          "metadata": {},
          "execution_count": 69
        }
      ]
    },
    {
      "cell_type": "markdown",
      "source": [
        "What is the total number of runs scored by all players in the runs series"
      ],
      "metadata": {
        "id": "RzfeITAxrehs"
      }
    },
    {
      "cell_type": "code",
      "source": [
        "runs.sum()"
      ],
      "metadata": {
        "id": "j51HaVZdrgCD",
        "colab": {
          "base_uri": "https://localhost:8080/"
        },
        "outputId": "ad346d27-bd08-4c47-ce6f-ede1b670b174"
      },
      "execution_count": 70,
      "outputs": [
        {
          "output_type": "execute_result",
          "data": {
            "text/plain": [
              "102041"
            ]
          },
          "metadata": {},
          "execution_count": 70
        }
      ]
    },
    {
      "cell_type": "markdown",
      "source": [
        "What is the range (difference between the maximum and minimum values) of the number_of_fifties series"
      ],
      "metadata": {
        "id": "2513HRqMrgJ0"
      }
    },
    {
      "cell_type": "code",
      "source": [
        "number_of_fifties.max() - number_of_fifties.min()"
      ],
      "metadata": {
        "id": "rpCKPLiPrhYt",
        "colab": {
          "base_uri": "https://localhost:8080/"
        },
        "outputId": "e248b399-e683-427d-ee83-7d7046b12944"
      },
      "execution_count": 71,
      "outputs": [
        {
          "output_type": "execute_result",
          "data": {
            "text/plain": [
              "10"
            ]
          },
          "metadata": {},
          "execution_count": 71
        }
      ]
    },
    {
      "cell_type": "markdown",
      "source": [
        "How many players have a strike rate below 60 in the strike_rate series"
      ],
      "metadata": {
        "id": "6z7fIMGDrhiH"
      }
    },
    {
      "cell_type": "code",
      "source": [
        "(strike_rate < 60).sum()"
      ],
      "metadata": {
        "id": "qP9lQwGRrjMt",
        "colab": {
          "base_uri": "https://localhost:8080/"
        },
        "outputId": "95f7f217-37f3-4a45-b574-28dd55b970b5"
      },
      "execution_count": 72,
      "outputs": [
        {
          "output_type": "execute_result",
          "data": {
            "text/plain": [
              "221"
            ]
          },
          "metadata": {},
          "execution_count": 72
        }
      ]
    },
    {
      "cell_type": "markdown",
      "source": [
        "Calculating the Mean Number of Boundaries (Fours + Sixes) Hit by a Player"
      ],
      "metadata": {
        "id": "Qim2OffTrjU2"
      }
    },
    {
      "cell_type": "code",
      "source": [
        "number_of_fours.mean() + number_of_sixes.mean()"
      ],
      "metadata": {
        "id": "UbWErZAMrkaP",
        "colab": {
          "base_uri": "https://localhost:8080/"
        },
        "outputId": "5b314d10-bf40-4236-d0c7-ab844f4eb7eb"
      },
      "execution_count": 73,
      "outputs": [
        {
          "output_type": "execute_result",
          "data": {
            "text/plain": [
              "17.566358024691358"
            ]
          },
          "metadata": {},
          "execution_count": 73
        }
      ]
    },
    {
      "cell_type": "markdown",
      "source": [
        "Players with highest score in highest_score series"
      ],
      "metadata": {
        "id": "YKRMdg9lrkiZ"
      }
    },
    {
      "cell_type": "code",
      "source": [
        "top_five_scores = highest_score.sort_values(ascending=False).head(5)\n",
        "top_five_scores"
      ],
      "metadata": {
        "colab": {
          "base_uri": "https://localhost:8080/"
        },
        "id": "ZfGsYjiczLz1",
        "outputId": "5925fda7-fb01-4507-b415-d8103425a894"
      },
      "execution_count": 75,
      "outputs": [
        {
          "output_type": "execute_result",
          "data": {
            "text/plain": [
              "Player\n",
              "MJ Guptill    237\n",
              "CH Gayle      215\n",
              "DA Warner     178\n",
              "V Sehwag      175\n",
              "CB Wishart    172\n",
              "Name: HS, dtype: int64"
            ]
          },
          "metadata": {},
          "execution_count": 75
        }
      ]
    }
  ]
}