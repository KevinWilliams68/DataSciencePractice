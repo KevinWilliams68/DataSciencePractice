{
  "nbformat": 4,
  "nbformat_minor": 0,
  "metadata": {
    "colab": {
      "provenance": []
    },
    "kernelspec": {
      "name": "python3",
      "display_name": "Python 3"
    },
    "language_info": {
      "name": "python"
    }
  },
  "cells": [
    {
      "cell_type": "code",
      "source": [
        "import pandas as pd\n",
        "df = pd.read_excel('world_data.xls')\n",
        "df.head()"
      ],
      "metadata": {
        "colab": {
          "base_uri": "https://localhost:8080/",
          "height": 345
        },
        "id": "h-scTr5IigD9",
        "outputId": "e5ca6f62-1fed-4093-86d2-cf14218c114c"
      },
      "execution_count": 5,
      "outputs": [
        {
          "output_type": "execute_result",
          "data": {
            "text/plain": [
              "  Country Name Region Code Country Code  GDP, PPP (current international $)  \\\n",
              "0        Aruba          MA          ABW                                 NaN   \n",
              "1      Andorra          EU          AND                                 NaN   \n",
              "2  Afghanistan          ME          AFG                        6.291267e+10   \n",
              "3       Angola          AF          AGO                        1.844377e+11   \n",
              "4      Albania          EU          ALB                        3.266324e+10   \n",
              "\n",
              "   Population, total  Population CGR 1960-2015  \\\n",
              "0           103889.0                  0.011897   \n",
              "1            70473.0                  0.030622   \n",
              "2         32526562.0                  0.023646   \n",
              "3         25021974.0                  0.028724   \n",
              "4          2889167.0                  0.010702   \n",
              "\n",
              "   Internet users (per 100 people)  Popltn Largest City % of Urban Pop  \\\n",
              "0                        88.661227                                 NaN   \n",
              "1                        96.910000                                 NaN   \n",
              "2                         8.260000                            0.533629   \n",
              "3                        12.400000                            0.499538   \n",
              "4                        63.252933                            0.273431   \n",
              "\n",
              "   2014 Life expectancy at birth, total (years)  \\\n",
              "0                                     75.451098   \n",
              "1                                           NaN   \n",
              "2                                     60.374463   \n",
              "3                                     52.266878   \n",
              "4                                     77.830463   \n",
              "\n",
              "   Literacy rate, adult female (% of females ages 15 and above)  \\\n",
              "0                                          97.513962              \n",
              "1                                                NaN              \n",
              "2                                          23.873850              \n",
              "3                                          60.744801              \n",
              "4                                          96.769691              \n",
              "\n",
              "   Exports of goods and services (% of GDP)  \n",
              "0                                       NaN  \n",
              "1                                       NaN  \n",
              "2                                  0.073278  \n",
              "3                                  0.373074  \n",
              "4                                  0.271050  "
            ],
            "text/html": [
              "\n",
              "  <div id=\"df-f8d320db-6911-44b9-950e-23342a3f298f\" class=\"colab-df-container\">\n",
              "    <div>\n",
              "<style scoped>\n",
              "    .dataframe tbody tr th:only-of-type {\n",
              "        vertical-align: middle;\n",
              "    }\n",
              "\n",
              "    .dataframe tbody tr th {\n",
              "        vertical-align: top;\n",
              "    }\n",
              "\n",
              "    .dataframe thead th {\n",
              "        text-align: right;\n",
              "    }\n",
              "</style>\n",
              "<table border=\"1\" class=\"dataframe\">\n",
              "  <thead>\n",
              "    <tr style=\"text-align: right;\">\n",
              "      <th></th>\n",
              "      <th>Country Name</th>\n",
              "      <th>Region Code</th>\n",
              "      <th>Country Code</th>\n",
              "      <th>GDP, PPP (current international $)</th>\n",
              "      <th>Population, total</th>\n",
              "      <th>Population CGR 1960-2015</th>\n",
              "      <th>Internet users (per 100 people)</th>\n",
              "      <th>Popltn Largest City % of Urban Pop</th>\n",
              "      <th>2014 Life expectancy at birth, total (years)</th>\n",
              "      <th>Literacy rate, adult female (% of females ages 15 and above)</th>\n",
              "      <th>Exports of goods and services (% of GDP)</th>\n",
              "    </tr>\n",
              "  </thead>\n",
              "  <tbody>\n",
              "    <tr>\n",
              "      <th>0</th>\n",
              "      <td>Aruba</td>\n",
              "      <td>MA</td>\n",
              "      <td>ABW</td>\n",
              "      <td>NaN</td>\n",
              "      <td>103889.0</td>\n",
              "      <td>0.011897</td>\n",
              "      <td>88.661227</td>\n",
              "      <td>NaN</td>\n",
              "      <td>75.451098</td>\n",
              "      <td>97.513962</td>\n",
              "      <td>NaN</td>\n",
              "    </tr>\n",
              "    <tr>\n",
              "      <th>1</th>\n",
              "      <td>Andorra</td>\n",
              "      <td>EU</td>\n",
              "      <td>AND</td>\n",
              "      <td>NaN</td>\n",
              "      <td>70473.0</td>\n",
              "      <td>0.030622</td>\n",
              "      <td>96.910000</td>\n",
              "      <td>NaN</td>\n",
              "      <td>NaN</td>\n",
              "      <td>NaN</td>\n",
              "      <td>NaN</td>\n",
              "    </tr>\n",
              "    <tr>\n",
              "      <th>2</th>\n",
              "      <td>Afghanistan</td>\n",
              "      <td>ME</td>\n",
              "      <td>AFG</td>\n",
              "      <td>6.291267e+10</td>\n",
              "      <td>32526562.0</td>\n",
              "      <td>0.023646</td>\n",
              "      <td>8.260000</td>\n",
              "      <td>0.533629</td>\n",
              "      <td>60.374463</td>\n",
              "      <td>23.873850</td>\n",
              "      <td>0.073278</td>\n",
              "    </tr>\n",
              "    <tr>\n",
              "      <th>3</th>\n",
              "      <td>Angola</td>\n",
              "      <td>AF</td>\n",
              "      <td>AGO</td>\n",
              "      <td>1.844377e+11</td>\n",
              "      <td>25021974.0</td>\n",
              "      <td>0.028724</td>\n",
              "      <td>12.400000</td>\n",
              "      <td>0.499538</td>\n",
              "      <td>52.266878</td>\n",
              "      <td>60.744801</td>\n",
              "      <td>0.373074</td>\n",
              "    </tr>\n",
              "    <tr>\n",
              "      <th>4</th>\n",
              "      <td>Albania</td>\n",
              "      <td>EU</td>\n",
              "      <td>ALB</td>\n",
              "      <td>3.266324e+10</td>\n",
              "      <td>2889167.0</td>\n",
              "      <td>0.010702</td>\n",
              "      <td>63.252933</td>\n",
              "      <td>0.273431</td>\n",
              "      <td>77.830463</td>\n",
              "      <td>96.769691</td>\n",
              "      <td>0.271050</td>\n",
              "    </tr>\n",
              "  </tbody>\n",
              "</table>\n",
              "</div>\n",
              "    <div class=\"colab-df-buttons\">\n",
              "\n",
              "  <div class=\"colab-df-container\">\n",
              "    <button class=\"colab-df-convert\" onclick=\"convertToInteractive('df-f8d320db-6911-44b9-950e-23342a3f298f')\"\n",
              "            title=\"Convert this dataframe to an interactive table.\"\n",
              "            style=\"display:none;\">\n",
              "\n",
              "  <svg xmlns=\"http://www.w3.org/2000/svg\" height=\"24px\" viewBox=\"0 -960 960 960\">\n",
              "    <path d=\"M120-120v-720h720v720H120Zm60-500h600v-160H180v160Zm220 220h160v-160H400v160Zm0 220h160v-160H400v160ZM180-400h160v-160H180v160Zm440 0h160v-160H620v160ZM180-180h160v-160H180v160Zm440 0h160v-160H620v160Z\"/>\n",
              "  </svg>\n",
              "    </button>\n",
              "\n",
              "  <style>\n",
              "    .colab-df-container {\n",
              "      display:flex;\n",
              "      gap: 12px;\n",
              "    }\n",
              "\n",
              "    .colab-df-convert {\n",
              "      background-color: #E8F0FE;\n",
              "      border: none;\n",
              "      border-radius: 50%;\n",
              "      cursor: pointer;\n",
              "      display: none;\n",
              "      fill: #1967D2;\n",
              "      height: 32px;\n",
              "      padding: 0 0 0 0;\n",
              "      width: 32px;\n",
              "    }\n",
              "\n",
              "    .colab-df-convert:hover {\n",
              "      background-color: #E2EBFA;\n",
              "      box-shadow: 0px 1px 2px rgba(60, 64, 67, 0.3), 0px 1px 3px 1px rgba(60, 64, 67, 0.15);\n",
              "      fill: #174EA6;\n",
              "    }\n",
              "\n",
              "    .colab-df-buttons div {\n",
              "      margin-bottom: 4px;\n",
              "    }\n",
              "\n",
              "    [theme=dark] .colab-df-convert {\n",
              "      background-color: #3B4455;\n",
              "      fill: #D2E3FC;\n",
              "    }\n",
              "\n",
              "    [theme=dark] .colab-df-convert:hover {\n",
              "      background-color: #434B5C;\n",
              "      box-shadow: 0px 1px 3px 1px rgba(0, 0, 0, 0.15);\n",
              "      filter: drop-shadow(0px 1px 2px rgba(0, 0, 0, 0.3));\n",
              "      fill: #FFFFFF;\n",
              "    }\n",
              "  </style>\n",
              "\n",
              "    <script>\n",
              "      const buttonEl =\n",
              "        document.querySelector('#df-f8d320db-6911-44b9-950e-23342a3f298f button.colab-df-convert');\n",
              "      buttonEl.style.display =\n",
              "        google.colab.kernel.accessAllowed ? 'block' : 'none';\n",
              "\n",
              "      async function convertToInteractive(key) {\n",
              "        const element = document.querySelector('#df-f8d320db-6911-44b9-950e-23342a3f298f');\n",
              "        const dataTable =\n",
              "          await google.colab.kernel.invokeFunction('convertToInteractive',\n",
              "                                                    [key], {});\n",
              "        if (!dataTable) return;\n",
              "\n",
              "        const docLinkHtml = 'Like what you see? Visit the ' +\n",
              "          '<a target=\"_blank\" href=https://colab.research.google.com/notebooks/data_table.ipynb>data table notebook</a>'\n",
              "          + ' to learn more about interactive tables.';\n",
              "        element.innerHTML = '';\n",
              "        dataTable['output_type'] = 'display_data';\n",
              "        await google.colab.output.renderOutput(dataTable, element);\n",
              "        const docLink = document.createElement('div');\n",
              "        docLink.innerHTML = docLinkHtml;\n",
              "        element.appendChild(docLink);\n",
              "      }\n",
              "    </script>\n",
              "  </div>\n",
              "\n",
              "\n",
              "<div id=\"df-26899709-5776-4933-89c7-989b28d48ee7\">\n",
              "  <button class=\"colab-df-quickchart\" onclick=\"quickchart('df-26899709-5776-4933-89c7-989b28d48ee7')\"\n",
              "            title=\"Suggest charts\"\n",
              "            style=\"display:none;\">\n",
              "\n",
              "<svg xmlns=\"http://www.w3.org/2000/svg\" height=\"24px\"viewBox=\"0 0 24 24\"\n",
              "     width=\"24px\">\n",
              "    <g>\n",
              "        <path d=\"M19 3H5c-1.1 0-2 .9-2 2v14c0 1.1.9 2 2 2h14c1.1 0 2-.9 2-2V5c0-1.1-.9-2-2-2zM9 17H7v-7h2v7zm4 0h-2V7h2v10zm4 0h-2v-4h2v4z\"/>\n",
              "    </g>\n",
              "</svg>\n",
              "  </button>\n",
              "\n",
              "<style>\n",
              "  .colab-df-quickchart {\n",
              "      --bg-color: #E8F0FE;\n",
              "      --fill-color: #1967D2;\n",
              "      --hover-bg-color: #E2EBFA;\n",
              "      --hover-fill-color: #174EA6;\n",
              "      --disabled-fill-color: #AAA;\n",
              "      --disabled-bg-color: #DDD;\n",
              "  }\n",
              "\n",
              "  [theme=dark] .colab-df-quickchart {\n",
              "      --bg-color: #3B4455;\n",
              "      --fill-color: #D2E3FC;\n",
              "      --hover-bg-color: #434B5C;\n",
              "      --hover-fill-color: #FFFFFF;\n",
              "      --disabled-bg-color: #3B4455;\n",
              "      --disabled-fill-color: #666;\n",
              "  }\n",
              "\n",
              "  .colab-df-quickchart {\n",
              "    background-color: var(--bg-color);\n",
              "    border: none;\n",
              "    border-radius: 50%;\n",
              "    cursor: pointer;\n",
              "    display: none;\n",
              "    fill: var(--fill-color);\n",
              "    height: 32px;\n",
              "    padding: 0;\n",
              "    width: 32px;\n",
              "  }\n",
              "\n",
              "  .colab-df-quickchart:hover {\n",
              "    background-color: var(--hover-bg-color);\n",
              "    box-shadow: 0 1px 2px rgba(60, 64, 67, 0.3), 0 1px 3px 1px rgba(60, 64, 67, 0.15);\n",
              "    fill: var(--button-hover-fill-color);\n",
              "  }\n",
              "\n",
              "  .colab-df-quickchart-complete:disabled,\n",
              "  .colab-df-quickchart-complete:disabled:hover {\n",
              "    background-color: var(--disabled-bg-color);\n",
              "    fill: var(--disabled-fill-color);\n",
              "    box-shadow: none;\n",
              "  }\n",
              "\n",
              "  .colab-df-spinner {\n",
              "    border: 2px solid var(--fill-color);\n",
              "    border-color: transparent;\n",
              "    border-bottom-color: var(--fill-color);\n",
              "    animation:\n",
              "      spin 1s steps(1) infinite;\n",
              "  }\n",
              "\n",
              "  @keyframes spin {\n",
              "    0% {\n",
              "      border-color: transparent;\n",
              "      border-bottom-color: var(--fill-color);\n",
              "      border-left-color: var(--fill-color);\n",
              "    }\n",
              "    20% {\n",
              "      border-color: transparent;\n",
              "      border-left-color: var(--fill-color);\n",
              "      border-top-color: var(--fill-color);\n",
              "    }\n",
              "    30% {\n",
              "      border-color: transparent;\n",
              "      border-left-color: var(--fill-color);\n",
              "      border-top-color: var(--fill-color);\n",
              "      border-right-color: var(--fill-color);\n",
              "    }\n",
              "    40% {\n",
              "      border-color: transparent;\n",
              "      border-right-color: var(--fill-color);\n",
              "      border-top-color: var(--fill-color);\n",
              "    }\n",
              "    60% {\n",
              "      border-color: transparent;\n",
              "      border-right-color: var(--fill-color);\n",
              "    }\n",
              "    80% {\n",
              "      border-color: transparent;\n",
              "      border-right-color: var(--fill-color);\n",
              "      border-bottom-color: var(--fill-color);\n",
              "    }\n",
              "    90% {\n",
              "      border-color: transparent;\n",
              "      border-bottom-color: var(--fill-color);\n",
              "    }\n",
              "  }\n",
              "</style>\n",
              "\n",
              "  <script>\n",
              "    async function quickchart(key) {\n",
              "      const quickchartButtonEl =\n",
              "        document.querySelector('#' + key + ' button');\n",
              "      quickchartButtonEl.disabled = true;  // To prevent multiple clicks.\n",
              "      quickchartButtonEl.classList.add('colab-df-spinner');\n",
              "      try {\n",
              "        const charts = await google.colab.kernel.invokeFunction(\n",
              "            'suggestCharts', [key], {});\n",
              "      } catch (error) {\n",
              "        console.error('Error during call to suggestCharts:', error);\n",
              "      }\n",
              "      quickchartButtonEl.classList.remove('colab-df-spinner');\n",
              "      quickchartButtonEl.classList.add('colab-df-quickchart-complete');\n",
              "    }\n",
              "    (() => {\n",
              "      let quickchartButtonEl =\n",
              "        document.querySelector('#df-26899709-5776-4933-89c7-989b28d48ee7 button');\n",
              "      quickchartButtonEl.style.display =\n",
              "        google.colab.kernel.accessAllowed ? 'block' : 'none';\n",
              "    })();\n",
              "  </script>\n",
              "</div>\n",
              "\n",
              "    </div>\n",
              "  </div>\n"
            ]
          },
          "metadata": {},
          "execution_count": 5
        }
      ]
    },
    {
      "cell_type": "code",
      "source": [
        "# Converting columns to pandas series\n",
        "country_name = pd.Series(df['Country Name'])\n",
        "country_code = pd.Series(df['Country Code'])\n",
        "population = pd.Series(df['Population, total'])\n",
        "gdp = pd.Series(df['GDP, PPP (current international $)'])\n",
        "internet_users = pd.Series(df['Internet users (per 100 people)'])\n",
        "life_expectancy = pd.Series(df['2014 Life expectancy at birth, total (years)'])\n",
        "literacy_rate = pd.Series(df['Literacy rate, adult female (% of females ages 15 and above)'])\n",
        "exports = pd.Series(df['Exports of goods and services (% of GDP)'])"
      ],
      "metadata": {
        "id": "mpkuGhphk6fw"
      },
      "execution_count": 11,
      "outputs": []
    },
    {
      "cell_type": "markdown",
      "source": [
        "What is the data type of country_name?"
      ],
      "metadata": {
        "id": "vAc4BgyPhJjJ"
      }
    },
    {
      "cell_type": "code",
      "source": [
        "country_name.dtype"
      ],
      "metadata": {
        "colab": {
          "base_uri": "https://localhost:8080/"
        },
        "id": "XRneVcXKhLwz",
        "outputId": "23a16647-cda7-4efe-fcf0-97718b63e2a7"
      },
      "execution_count": 13,
      "outputs": [
        {
          "output_type": "execute_result",
          "data": {
            "text/plain": [
              "dtype('O')"
            ]
          },
          "metadata": {},
          "execution_count": 13
        }
      ]
    },
    {
      "cell_type": "markdown",
      "source": [
        "What is the size of the gdp series?"
      ],
      "metadata": {
        "id": "BEmFJyo-hLTJ"
      }
    },
    {
      "cell_type": "code",
      "source": [
        "gdp.size"
      ],
      "metadata": {
        "colab": {
          "base_uri": "https://localhost:8080/"
        },
        "id": "OuNRRoyshWPP",
        "outputId": "3b552991-d85f-4ea7-a676-1661ba78bdd0"
      },
      "execution_count": 14,
      "outputs": [
        {
          "output_type": "execute_result",
          "data": {
            "text/plain": [
              "264"
            ]
          },
          "metadata": {},
          "execution_count": 14
        }
      ]
    },
    {
      "cell_type": "markdown",
      "source": [
        "What is the data type of the internet_users series?"
      ],
      "metadata": {
        "id": "L5rOsHuhhR9o"
      }
    },
    {
      "cell_type": "code",
      "source": [
        "internet_users.dtype"
      ],
      "metadata": {
        "colab": {
          "base_uri": "https://localhost:8080/"
        },
        "id": "vbgOoXrRhWqe",
        "outputId": "ecfe70f3-3ce9-4b5a-8606-db1997eec9c0"
      },
      "execution_count": 15,
      "outputs": [
        {
          "output_type": "execute_result",
          "data": {
            "text/plain": [
              "dtype('float64')"
            ]
          },
          "metadata": {},
          "execution_count": 15
        }
      ]
    },
    {
      "cell_type": "markdown",
      "source": [
        "What is the value of the first element in the population series?"
      ],
      "metadata": {
        "id": "U9lX4qVDhV0V"
      }
    },
    {
      "cell_type": "code",
      "source": [
        "population[0]"
      ],
      "metadata": {
        "colab": {
          "base_uri": "https://localhost:8080/"
        },
        "id": "cDl1RqDJhZSA",
        "outputId": "ef873eac-847d-4702-b077-4db8b7c07024"
      },
      "execution_count": 16,
      "outputs": [
        {
          "output_type": "execute_result",
          "data": {
            "text/plain": [
              "103889.0"
            ]
          },
          "metadata": {},
          "execution_count": 16
        }
      ]
    },
    {
      "cell_type": "markdown",
      "source": [
        "What is the value of the last element in the life_expectancy series?"
      ],
      "metadata": {
        "id": "zKWStcVohZaY"
      }
    },
    {
      "cell_type": "code",
      "source": [
        "life_expectancy[life_expectancy.size - 1]"
      ],
      "metadata": {
        "colab": {
          "base_uri": "https://localhost:8080/"
        },
        "id": "K9TV3deghbXd",
        "outputId": "60ffc1ab-4a14-4930-9a27-a297712b5e43"
      },
      "execution_count": 21,
      "outputs": [
        {
          "output_type": "execute_result",
          "data": {
            "text/plain": [
              "57.498317073170746"
            ]
          },
          "metadata": {},
          "execution_count": 21
        }
      ]
    },
    {
      "cell_type": "code",
      "source": [
        "life_expectancy.tail(1)"
      ],
      "metadata": {
        "colab": {
          "base_uri": "https://localhost:8080/"
        },
        "id": "tX1F2nxEli8A",
        "outputId": "d69b49ed-2169-4b9f-dfe4-4aceceed0522"
      },
      "execution_count": 22,
      "outputs": [
        {
          "output_type": "execute_result",
          "data": {
            "text/plain": [
              "263    57.498317\n",
              "Name: 2014 Life expectancy at birth, total (years), dtype: float64"
            ]
          },
          "metadata": {},
          "execution_count": 22
        }
      ]
    },
    {
      "cell_type": "markdown",
      "source": [
        "What is the value of the element with index 29 in the literacy_rate series?"
      ],
      "metadata": {
        "id": "iGzDPROOhcyd"
      }
    },
    {
      "cell_type": "code",
      "source": [
        "literacy_rate[29]"
      ],
      "metadata": {
        "colab": {
          "base_uri": "https://localhost:8080/"
        },
        "id": "8mfpuiIQhdkX",
        "outputId": "493a3fbc-d449-4f76-a0d2-25cd4f85d160"
      },
      "execution_count": 23,
      "outputs": [
        {
          "output_type": "execute_result",
          "data": {
            "text/plain": [
              "95.4420318603516"
            ]
          },
          "metadata": {},
          "execution_count": 23
        }
      ]
    },
    {
      "cell_type": "markdown",
      "source": [
        "\n",
        "What is the value of the last element in the gdp series?"
      ],
      "metadata": {
        "id": "lOqb1xRzhgBg"
      }
    },
    {
      "cell_type": "code",
      "source": [
        "gdp[gdp.size - 1]"
      ],
      "metadata": {
        "colab": {
          "base_uri": "https://localhost:8080/"
        },
        "id": "sU6XCt9niBwy",
        "outputId": "de619372-0dac-4372-ed75-580d4acab7ce"
      },
      "execution_count": 24,
      "outputs": [
        {
          "output_type": "execute_result",
          "data": {
            "text/plain": [
              "27984877194.652447"
            ]
          },
          "metadata": {},
          "execution_count": 24
        }
      ]
    },
    {
      "cell_type": "markdown",
      "source": [
        "What is the mean of the internet_users series?"
      ],
      "metadata": {
        "id": "L57vyyjeiB__"
      }
    },
    {
      "cell_type": "code",
      "source": [
        "internet_users.mean()"
      ],
      "metadata": {
        "colab": {
          "base_uri": "https://localhost:8080/"
        },
        "id": "2DmZ3JzuiDwq",
        "outputId": "28a6f58f-6e3d-400d-ae81-b37f4c957847"
      },
      "execution_count": 25,
      "outputs": [
        {
          "output_type": "execute_result",
          "data": {
            "text/plain": [
              "47.55657102325722"
            ]
          },
          "metadata": {},
          "execution_count": 25
        }
      ]
    },
    {
      "cell_type": "markdown",
      "source": [
        "What is the standard deviation of the internet_users series?"
      ],
      "metadata": {
        "id": "futfjkc6iD4c"
      }
    },
    {
      "cell_type": "code",
      "source": [
        "internet_users.std()"
      ],
      "metadata": {
        "colab": {
          "base_uri": "https://localhost:8080/"
        },
        "id": "qKMyskk2iF1s",
        "outputId": "ba25923b-5910-4fe8-e00d-b57a168eae9e"
      },
      "execution_count": 26,
      "outputs": [
        {
          "output_type": "execute_result",
          "data": {
            "text/plain": [
              "27.691717353487643"
            ]
          },
          "metadata": {},
          "execution_count": 26
        }
      ]
    },
    {
      "cell_type": "markdown",
      "source": [
        "What is the median of the exports series?"
      ],
      "metadata": {
        "id": "zrE520vViF9n"
      }
    },
    {
      "cell_type": "code",
      "source": [
        "exports.median()"
      ],
      "metadata": {
        "colab": {
          "base_uri": "https://localhost:8080/"
        },
        "id": "JHp39HfpiHfy",
        "outputId": "9b54e4cd-31ed-4899-8ef3-0eeb6757bbde"
      },
      "execution_count": 27,
      "outputs": [
        {
          "output_type": "execute_result",
          "data": {
            "text/plain": [
              "0.30183071080490165"
            ]
          },
          "metadata": {},
          "execution_count": 27
        }
      ]
    },
    {
      "cell_type": "markdown",
      "source": [
        "What is the minimum value in the life_expectancy series?"
      ],
      "metadata": {
        "id": "NmkWMKY6iHo5"
      }
    },
    {
      "cell_type": "code",
      "source": [
        "life_expectancy.min()"
      ],
      "metadata": {
        "colab": {
          "base_uri": "https://localhost:8080/"
        },
        "id": "RqrfO-NaiJ2D",
        "outputId": "2bed57a9-6367-4902-bc3e-b4cd1f92c2e6"
      },
      "execution_count": 28,
      "outputs": [
        {
          "output_type": "execute_result",
          "data": {
            "text/plain": [
              "48.934731707317084"
            ]
          },
          "metadata": {},
          "execution_count": 28
        }
      ]
    },
    {
      "cell_type": "markdown",
      "source": [
        "What is the average literacy rate of all countries?\n"
      ],
      "metadata": {
        "id": "8aSHdT7BiJ_-"
      }
    },
    {
      "cell_type": "code",
      "source": [
        "literacy_rate.mean()"
      ],
      "metadata": {
        "colab": {
          "base_uri": "https://localhost:8080/"
        },
        "id": "-zP1rALXiNSA",
        "outputId": "ed25a91a-f56d-4c23-a347-1053602bfec0"
      },
      "execution_count": 29,
      "outputs": [
        {
          "output_type": "execute_result",
          "data": {
            "text/plain": [
              "80.91936549162253"
            ]
          },
          "metadata": {},
          "execution_count": 29
        }
      ]
    },
    {
      "cell_type": "markdown",
      "source": [
        "Sort country_name series in ascending order"
      ],
      "metadata": {
        "id": "pWGN_yoRiNak"
      }
    },
    {
      "cell_type": "code",
      "source": [
        "country_name.sort_values(ascending=True)"
      ],
      "metadata": {
        "colab": {
          "base_uri": "https://localhost:8080/"
        },
        "id": "6ralutB2iPS7",
        "outputId": "6d1f69e8-9f53-4aaa-9680-992bb8105b02"
      },
      "execution_count": 30,
      "outputs": [
        {
          "output_type": "execute_result",
          "data": {
            "text/plain": [
              "2             Afghanistan\n",
              "4                 Albania\n",
              "57                Algeria\n",
              "9          American Samoa\n",
              "1                 Andorra\n",
              "              ...        \n",
              "256    West Bank and Gaza\n",
              "257                 World\n",
              "259           Yemen, Rep.\n",
              "262                Zambia\n",
              "263              Zimbabwe\n",
              "Name: Country Name, Length: 264, dtype: object"
            ]
          },
          "metadata": {},
          "execution_count": 30
        }
      ]
    },
    {
      "cell_type": "markdown",
      "source": [
        "Sort multiple series at once\n",
        "country_name and literacy_rate"
      ],
      "metadata": {
        "id": "WCtYs2IQiPaw"
      }
    },
    {
      "cell_type": "code",
      "source": [
        "literacy_rate_sorted = literacy_rate.sort_values()\n",
        "country_name_sorted_by_literacy_rate = country_name[literacy_rate_sorted.index]\n",
        "country_name_sorted_by_literacy_rate"
      ],
      "metadata": {
        "colab": {
          "base_uri": "https://localhost:8080/"
        },
        "id": "vs6G8fHOiaKn",
        "outputId": "6f45adeb-e3b8-46b7-bad2-20349744ddf1"
      },
      "execution_count": 33,
      "outputs": [
        {
          "output_type": "execute_result",
          "data": {
            "text/plain": [
              "171                             Niger\n",
              "156                              Mali\n",
              "82                             Guinea\n",
              "2                         Afghanistan\n",
              "32           Central African Republic\n",
              "                    ...              \n",
              "248                     United States\n",
              "250    St. Vincent and the Grenadines\n",
              "252            British Virgin Islands\n",
              "253             Virgin Islands (U.S.)\n",
              "257                             World\n",
              "Name: Country Name, Length: 264, dtype: object"
            ]
          },
          "metadata": {},
          "execution_count": 33
        }
      ]
    }
  ]
}