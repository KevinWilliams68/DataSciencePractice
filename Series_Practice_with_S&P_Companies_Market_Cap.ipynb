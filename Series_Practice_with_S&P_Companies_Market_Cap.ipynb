{
  "nbformat": 4,
  "nbformat_minor": 0,
  "metadata": {
    "colab": {
      "provenance": []
    },
    "kernelspec": {
      "name": "python3",
      "display_name": "Python 3"
    },
    "language_info": {
      "name": "python"
    }
  },
  "cells": [
    {
      "cell_type": "code",
      "execution_count": 1,
      "metadata": {
        "colab": {
          "base_uri": "https://localhost:8080/"
        },
        "id": "_lVSY8G3oRzt",
        "outputId": "5fc3573b-0683-4d91-aa94-c2d06187892e"
      },
      "outputs": [
        {
          "output_type": "stream",
          "name": "stdout",
          "text": [
            "Collecting datapackage\n",
            "  Downloading datapackage-1.15.2-py2.py3-none-any.whl (85 kB)\n",
            "\u001b[2K     \u001b[90m━━━━━━━━━━━━━━━━━━━━━━━━━━━━━━━━━━━━━━━━\u001b[0m \u001b[32m85.8/85.8 kB\u001b[0m \u001b[31m1.3 MB/s\u001b[0m eta \u001b[36m0:00:00\u001b[0m\n",
            "\u001b[?25hRequirement already satisfied: six>=1.10 in /usr/local/lib/python3.10/dist-packages (from datapackage) (1.16.0)\n",
            "Requirement already satisfied: click>=6.7 in /usr/local/lib/python3.10/dist-packages (from datapackage) (8.1.7)\n",
            "Requirement already satisfied: chardet>=3.0 in /usr/local/lib/python3.10/dist-packages (from datapackage) (5.2.0)\n",
            "Requirement already satisfied: requests>=2.8 in /usr/local/lib/python3.10/dist-packages (from datapackage) (2.31.0)\n",
            "Requirement already satisfied: jsonschema>=2.5 in /usr/local/lib/python3.10/dist-packages (from datapackage) (4.19.2)\n",
            "Collecting unicodecsv>=0.14 (from datapackage)\n",
            "  Downloading unicodecsv-0.14.1.tar.gz (10 kB)\n",
            "  Preparing metadata (setup.py) ... \u001b[?25l\u001b[?25hdone\n",
            "Collecting jsonpointer>=1.10 (from datapackage)\n",
            "  Downloading jsonpointer-2.4-py2.py3-none-any.whl (7.8 kB)\n",
            "Collecting tableschema>=1.12.1 (from datapackage)\n",
            "  Downloading tableschema-1.20.2-py2.py3-none-any.whl (68 kB)\n",
            "\u001b[2K     \u001b[90m━━━━━━━━━━━━━━━━━━━━━━━━━━━━━━━━━━━━━━━━\u001b[0m \u001b[32m68.9/68.9 kB\u001b[0m \u001b[31m1.7 MB/s\u001b[0m eta \u001b[36m0:00:00\u001b[0m\n",
            "\u001b[?25hCollecting tabulator>=1.29 (from datapackage)\n",
            "  Downloading tabulator-1.53.5-py2.py3-none-any.whl (72 kB)\n",
            "\u001b[2K     \u001b[90m━━━━━━━━━━━━━━━━━━━━━━━━━━━━━━━━━━━━━━━━\u001b[0m \u001b[32m72.1/72.1 kB\u001b[0m \u001b[31m3.4 MB/s\u001b[0m eta \u001b[36m0:00:00\u001b[0m\n",
            "\u001b[?25hRequirement already satisfied: attrs>=22.2.0 in /usr/local/lib/python3.10/dist-packages (from jsonschema>=2.5->datapackage) (23.1.0)\n",
            "Requirement already satisfied: jsonschema-specifications>=2023.03.6 in /usr/local/lib/python3.10/dist-packages (from jsonschema>=2.5->datapackage) (2023.11.2)\n",
            "Requirement already satisfied: referencing>=0.28.4 in /usr/local/lib/python3.10/dist-packages (from jsonschema>=2.5->datapackage) (0.32.0)\n",
            "Requirement already satisfied: rpds-py>=0.7.1 in /usr/local/lib/python3.10/dist-packages (from jsonschema>=2.5->datapackage) (0.15.2)\n",
            "Requirement already satisfied: charset-normalizer<4,>=2 in /usr/local/lib/python3.10/dist-packages (from requests>=2.8->datapackage) (3.3.2)\n",
            "Requirement already satisfied: idna<4,>=2.5 in /usr/local/lib/python3.10/dist-packages (from requests>=2.8->datapackage) (3.6)\n",
            "Requirement already satisfied: urllib3<3,>=1.21.1 in /usr/local/lib/python3.10/dist-packages (from requests>=2.8->datapackage) (2.0.7)\n",
            "Requirement already satisfied: certifi>=2017.4.17 in /usr/local/lib/python3.10/dist-packages (from requests>=2.8->datapackage) (2023.11.17)\n",
            "Collecting cached-property>=1.5 (from tableschema>=1.12.1->datapackage)\n",
            "  Downloading cached_property-1.5.2-py2.py3-none-any.whl (7.6 kB)\n",
            "Requirement already satisfied: python-dateutil>=2.4 in /usr/local/lib/python3.10/dist-packages (from tableschema>=1.12.1->datapackage) (2.8.2)\n",
            "Collecting isodate>=0.5.4 (from tableschema>=1.12.1->datapackage)\n",
            "  Downloading isodate-0.6.1-py2.py3-none-any.whl (41 kB)\n",
            "\u001b[2K     \u001b[90m━━━━━━━━━━━━━━━━━━━━━━━━━━━━━━━━━━━━━━━━\u001b[0m \u001b[32m41.7/41.7 kB\u001b[0m \u001b[31m3.8 MB/s\u001b[0m eta \u001b[36m0:00:00\u001b[0m\n",
            "\u001b[?25hCollecting rfc3986>=1.1.0 (from tableschema>=1.12.1->datapackage)\n",
            "  Downloading rfc3986-2.0.0-py2.py3-none-any.whl (31 kB)\n",
            "Collecting boto3>=1.9 (from tabulator>=1.29->datapackage)\n",
            "  Downloading boto3-1.34.4-py3-none-any.whl (139 kB)\n",
            "\u001b[2K     \u001b[90m━━━━━━━━━━━━━━━━━━━━━━━━━━━━━━━━━━━━━━━━\u001b[0m \u001b[32m139.3/139.3 kB\u001b[0m \u001b[31m3.1 MB/s\u001b[0m eta \u001b[36m0:00:00\u001b[0m\n",
            "\u001b[?25hCollecting ijson>=3.0.3 (from tabulator>=1.29->datapackage)\n",
            "  Downloading ijson-3.2.3-cp310-cp310-manylinux_2_17_x86_64.manylinux2014_x86_64.whl (111 kB)\n",
            "\u001b[2K     \u001b[90m━━━━━━━━━━━━━━━━━━━━━━━━━━━━━━━━━━━━━━━━\u001b[0m \u001b[32m111.8/111.8 kB\u001b[0m \u001b[31m6.8 MB/s\u001b[0m eta \u001b[36m0:00:00\u001b[0m\n",
            "\u001b[?25hCollecting jsonlines>=1.1 (from tabulator>=1.29->datapackage)\n",
            "  Downloading jsonlines-4.0.0-py3-none-any.whl (8.7 kB)\n",
            "Requirement already satisfied: sqlalchemy>=0.9.6 in /usr/local/lib/python3.10/dist-packages (from tabulator>=1.29->datapackage) (2.0.23)\n",
            "Collecting linear-tsv>=1.0 (from tabulator>=1.29->datapackage)\n",
            "  Downloading linear-tsv-1.1.0.tar.gz (9.6 kB)\n",
            "  Preparing metadata (setup.py) ... \u001b[?25l\u001b[?25hdone\n",
            "Requirement already satisfied: xlrd>=1.0 in /usr/local/lib/python3.10/dist-packages (from tabulator>=1.29->datapackage) (2.0.1)\n",
            "Requirement already satisfied: openpyxl>=2.6 in /usr/local/lib/python3.10/dist-packages (from tabulator>=1.29->datapackage) (3.1.2)\n",
            "Collecting botocore<1.35.0,>=1.34.4 (from boto3>=1.9->tabulator>=1.29->datapackage)\n",
            "  Downloading botocore-1.34.4-py3-none-any.whl (11.8 MB)\n",
            "\u001b[2K     \u001b[90m━━━━━━━━━━━━━━━━━━━━━━━━━━━━━━━━━━━━━━━━\u001b[0m \u001b[32m11.8/11.8 MB\u001b[0m \u001b[31m47.7 MB/s\u001b[0m eta \u001b[36m0:00:00\u001b[0m\n",
            "\u001b[?25hCollecting jmespath<2.0.0,>=0.7.1 (from boto3>=1.9->tabulator>=1.29->datapackage)\n",
            "  Downloading jmespath-1.0.1-py3-none-any.whl (20 kB)\n",
            "Collecting s3transfer<0.10.0,>=0.9.0 (from boto3>=1.9->tabulator>=1.29->datapackage)\n",
            "  Downloading s3transfer-0.9.0-py3-none-any.whl (82 kB)\n",
            "\u001b[2K     \u001b[90m━━━━━━━━━━━━━━━━━━━━━━━━━━━━━━━━━━━━━━━━\u001b[0m \u001b[32m82.0/82.0 kB\u001b[0m \u001b[31m3.8 MB/s\u001b[0m eta \u001b[36m0:00:00\u001b[0m\n",
            "\u001b[?25hRequirement already satisfied: et-xmlfile in /usr/local/lib/python3.10/dist-packages (from openpyxl>=2.6->tabulator>=1.29->datapackage) (1.1.0)\n",
            "Requirement already satisfied: typing-extensions>=4.2.0 in /usr/local/lib/python3.10/dist-packages (from sqlalchemy>=0.9.6->tabulator>=1.29->datapackage) (4.5.0)\n",
            "Requirement already satisfied: greenlet!=0.4.17 in /usr/local/lib/python3.10/dist-packages (from sqlalchemy>=0.9.6->tabulator>=1.29->datapackage) (3.0.2)\n",
            "Building wheels for collected packages: unicodecsv, linear-tsv\n",
            "  Building wheel for unicodecsv (setup.py) ... \u001b[?25l\u001b[?25hdone\n",
            "  Created wheel for unicodecsv: filename=unicodecsv-0.14.1-py3-none-any.whl size=10745 sha256=cc4a98fdff56a9fe1f8e0a852e3d8ab1aa4725282c52edded1c711b38a72ebda\n",
            "  Stored in directory: /root/.cache/pip/wheels/9c/ea/66/8e45247b09052a933eb1a680b7c64802298faba58aac9b346b\n",
            "  Building wheel for linear-tsv (setup.py) ... \u001b[?25l\u001b[?25hdone\n",
            "  Created wheel for linear-tsv: filename=linear_tsv-1.1.0-py3-none-any.whl size=7382 sha256=ae7f466f0d25c4ff3928edcdc0d2d82bbd4b7eea4e8dbc3a19f82841528d5ba8\n",
            "  Stored in directory: /root/.cache/pip/wheels/23/48/78/150e3d7e444b9950aca72218794076a117b6b6afa3d5f077a0\n",
            "Successfully built unicodecsv linear-tsv\n",
            "Installing collected packages: unicodecsv, ijson, cached-property, rfc3986, linear-tsv, jsonpointer, jsonlines, jmespath, isodate, botocore, s3transfer, boto3, tabulator, tableschema, datapackage\n",
            "Successfully installed boto3-1.34.4 botocore-1.34.4 cached-property-1.5.2 datapackage-1.15.2 ijson-3.2.3 isodate-0.6.1 jmespath-1.0.1 jsonlines-4.0.0 jsonpointer-2.4 linear-tsv-1.1.0 rfc3986-2.0.0 s3transfer-0.9.0 tableschema-1.20.2 tabulator-1.53.5 unicodecsv-0.14.1\n"
          ]
        }
      ],
      "source": [
        "pip install datapackage"
      ]
    },
    {
      "cell_type": "code",
      "source": [
        "from datapackage import Package\n",
        "\n",
        "package = Package('https://datahub.io/core/s-and-p-500-companies-financials/datapackage.json')\n",
        "\n",
        "# print list of all resources:\n",
        "print(package.resource_names)\n",
        "\n",
        "# print processed tabular data (if exists any)\n",
        "for resource in package.resources:\n",
        "    if resource.descriptor['datahub']['type'] == 'derived/csv':\n",
        "        print(resource.read())"
      ],
      "metadata": {
        "colab": {
          "base_uri": "https://localhost:8080/"
        },
        "id": "BPsNSwANpjT1",
        "outputId": "f1a20998-4e72-4f9c-8abc-a74d37548d53"
      },
      "execution_count": 2,
      "outputs": [
        {
          "output_type": "stream",
          "name": "stdout",
          "text": [
            "['validation_report', 'constituents_csv', 'constituents-financials_csv', 'constituents_json', 'constituents-financials_json', 's-and-p-500-companies-financials_zip', 'constituents', 'constituents-financials']\n",
            "[['MMM', '3M Company', 'Industrials'], ['AOS', 'A.O. Smith Corp', 'Industrials'], ['ABT', 'Abbott Laboratories', 'Health Care'], ['ABBV', 'AbbVie Inc.', 'Health Care'], ['ACN', 'Accenture plc', 'Information Technology'], ['ATVI', 'Activision Blizzard', 'Information Technology'], ['AYI', 'Acuity Brands Inc', 'Industrials'], ['ADBE', 'Adobe Systems Inc', 'Information Technology'], ['AAP', 'Advance Auto Parts', 'Consumer Discretionary'], ['AMD', 'Advanced Micro Devices Inc', 'Information Technology'], ['AES', 'AES Corp', 'Utilities'], ['AET', 'Aetna Inc', 'Health Care'], ['AMG', 'Affiliated Managers Group Inc', 'Financials'], ['AFL', 'AFLAC Inc', 'Financials'], ['A', 'Agilent Technologies Inc', 'Health Care'], ['APD', 'Air Products & Chemicals Inc', 'Materials'], ['AKAM', 'Akamai Technologies Inc', 'Information Technology'], ['ALK', 'Alaska Air Group Inc', 'Industrials'], ['ALB', 'Albemarle Corp', 'Materials'], ['ARE', 'Alexandria Real Estate Equities Inc', 'Real Estate'], ['ALXN', 'Alexion Pharmaceuticals', 'Health Care'], ['ALGN', 'Align Technology', 'Health Care'], ['ALLE', 'Allegion', 'Industrials'], ['AGN', 'Allergan, Plc', 'Health Care'], ['ADS', 'Alliance Data Systems', 'Information Technology'], ['LNT', 'Alliant Energy Corp', 'Utilities'], ['ALL', 'Allstate Corp', 'Financials'], ['GOOGL', 'Alphabet Inc Class A', 'Information Technology'], ['GOOG', 'Alphabet Inc Class C', 'Information Technology'], ['MO', 'Altria Group Inc', 'Consumer Staples'], ['AMZN', 'Amazon.com Inc', 'Consumer Discretionary'], ['AEE', 'Ameren Corp', 'Utilities'], ['AAL', 'American Airlines Group', 'Industrials'], ['AEP', 'American Electric Power', 'Utilities'], ['AXP', 'American Express Co', 'Financials'], ['AIG', 'American International Group, Inc.', 'Financials'], ['AMT', 'American Tower Corp A', 'Real Estate'], ['AWK', 'American Water Works Company Inc', 'Utilities'], ['AMP', 'Ameriprise Financial', 'Financials'], ['ABC', 'AmerisourceBergen Corp', 'Health Care'], ['AME', 'AMETEK Inc', 'Industrials'], ['AMGN', 'Amgen Inc', 'Health Care'], ['APH', 'Amphenol Corp', 'Information Technology'], ['APC', 'Anadarko Petroleum Corp', 'Energy'], ['ADI', 'Analog Devices, Inc.', 'Information Technology'], ['ANDV', 'Andeavor', 'Energy'], ['ANSS', 'ANSYS', 'Information Technology'], ['ANTM', 'Anthem Inc.', 'Health Care'], ['AON', 'Aon plc', 'Financials'], ['APA', 'Apache Corporation', 'Energy'], ['AIV', 'Apartment Investment & Management', 'Real Estate'], ['AAPL', 'Apple Inc.', 'Information Technology'], ['AMAT', 'Applied Materials Inc', 'Information Technology'], ['APTV', 'Aptiv Plc', 'Consumer Discretionary'], ['ADM', 'Archer-Daniels-Midland Co', 'Consumer Staples'], ['ARNC', 'Arconic Inc', 'Industrials'], ['AJG', 'Arthur J. Gallagher & Co.', 'Financials'], ['AIZ', 'Assurant Inc', 'Financials'], ['T', 'AT&T Inc', 'Telecommunication Services'], ['ADSK', 'Autodesk Inc', 'Information Technology'], ['ADP', 'Automatic Data Processing', 'Information Technology'], ['AZO', 'AutoZone Inc', 'Consumer Discretionary'], ['AVB', 'AvalonBay Communities, Inc.', 'Real Estate'], ['AVY', 'Avery Dennison Corp', 'Materials'], ['BHGE', 'Baker Hughes, a GE Company', 'Energy'], ['BLL', 'Ball Corp', 'Materials'], ['BAC', 'Bank of America Corp', 'Financials'], ['BAX', 'Baxter International Inc.', 'Health Care'], ['BBT', 'BB&T Corporation', 'Financials'], ['BDX', 'Becton Dickinson', 'Health Care'], ['BRK.B', 'Berkshire Hathaway', 'Financials'], ['BBY', 'Best Buy Co. Inc.', 'Consumer Discretionary'], ['BIIB', 'Biogen Inc.', 'Health Care'], ['BLK', 'BlackRock', 'Financials'], ['HRB', 'Block H&R', 'Financials'], ['BA', 'Boeing Company', 'Industrials'], ['BWA', 'BorgWarner', 'Consumer Discretionary'], ['BXP', 'Boston Properties', 'Real Estate'], ['BSX', 'Boston Scientific', 'Health Care'], ['BHF', 'Brighthouse Financial Inc', 'Financials'], ['BMY', 'Bristol-Myers Squibb', 'Health Care'], ['AVGO', 'Broadcom', 'Information Technology'], ['BF.B', 'Brown-Forman Corp.', 'Consumer Staples'], ['CHRW', 'C. H. Robinson Worldwide', 'Industrials'], ['CA', 'CA, Inc.', 'Information Technology'], ['COG', 'Cabot Oil & Gas', 'Energy'], ['CDNS', 'Cadence Design Systems', 'Information Technology'], ['CPB', 'Campbell Soup', 'Consumer Staples'], ['COF', 'Capital One Financial', 'Financials'], ['CAH', 'Cardinal Health Inc.', 'Health Care'], ['KMX', 'Carmax Inc', 'Consumer Discretionary'], ['CCL', 'Carnival Corp.', 'Consumer Discretionary'], ['CAT', 'Caterpillar Inc.', 'Industrials'], ['CBOE', 'CBOE Holdings', 'Financials'], ['CBG', 'CBRE Group', 'Real Estate'], ['CBS', 'CBS Corp.', 'Consumer Discretionary'], ['CELG', 'Celgene Corp.', 'Health Care'], ['CNC', 'Centene Corporation', 'Health Care'], ['CNP', 'CenterPoint Energy', 'Utilities'], ['CTL', 'CenturyLink Inc', 'Telecommunication Services'], ['CERN', 'Cerner', 'Health Care'], ['CF', 'CF Industries Holdings Inc', 'Materials'], ['SCHW', 'Charles Schwab Corporation', 'Financials'], ['CHTR', 'Charter Communications', 'Consumer Discretionary'], ['CHK', 'Chesapeake Energy', 'Energy'], ['CVX', 'Chevron Corp.', 'Energy'], ['CMG', 'Chipotle Mexican Grill', 'Consumer Discretionary'], ['CB', 'Chubb Limited', 'Financials'], ['CHD', 'Church & Dwight', 'Consumer Staples'], ['CI', 'CIGNA Corp.', 'Health Care'], ['XEC', 'Cimarex Energy', 'Energy'], ['CINF', 'Cincinnati Financial', 'Financials'], ['CTAS', 'Cintas Corporation', 'Industrials'], ['CSCO', 'Cisco Systems', 'Information Technology'], ['C', 'Citigroup Inc.', 'Financials'], ['CFG', 'Citizens Financial Group', 'Financials'], ['CTXS', 'Citrix Systems', 'Information Technology'], ['CME', 'CME Group Inc.', 'Financials'], ['CMS', 'CMS Energy', 'Utilities'], ['KO', 'Coca-Cola Company (The)', 'Consumer Staples'], ['CTSH', 'Cognizant Technology Solutions', 'Information Technology'], ['CL', 'Colgate-Palmolive', 'Consumer Staples'], ['CMCSA', 'Comcast Corp.', 'Consumer Discretionary'], ['CMA', 'Comerica Inc.', 'Financials'], ['CAG', 'Conagra Brands', 'Consumer Staples'], ['CXO', 'Concho Resources', 'Energy'], ['COP', 'ConocoPhillips', 'Energy'], ['ED', 'Consolidated Edison', 'Utilities'], ['STZ', 'Constellation Brands', 'Consumer Staples'], ['GLW', 'Corning Inc.', 'Information Technology'], ['COST', 'Costco Wholesale Corp.', 'Consumer Staples'], ['COTY', 'Coty, Inc', 'Consumer Staples'], ['CCI', 'Crown Castle International Corp.', 'Real Estate'], ['CSRA', 'CSRA Inc.', 'Information Technology'], ['CSX', 'CSX Corp.', 'Industrials'], ['CMI', 'Cummins Inc.', 'Industrials'], ['CVS', 'CVS Health', 'Consumer Staples'], ['DHI', 'D. R. Horton', 'Consumer Discretionary'], ['DHR', 'Danaher Corp.', 'Health Care'], ['DRI', 'Darden Restaurants', 'Consumer Discretionary'], ['DVA', 'DaVita Inc.', 'Health Care'], ['DE', 'Deere & Co.', 'Industrials'], ['DAL', 'Delta Air Lines Inc.', 'Industrials'], ['XRAY', 'Dentsply Sirona', 'Health Care'], ['DVN', 'Devon Energy Corp.', 'Energy'], ['DLR', 'Digital Realty Trust Inc', 'Real Estate'], ['DFS', 'Discover Financial Services', 'Financials'], ['DISCA', 'Discovery Communications-A', 'Consumer Discretionary'], ['DISCK', 'Discovery Communications-C', 'Consumer Discretionary'], ['DISH', 'Dish Network', 'Consumer Discretionary'], ['DG', 'Dollar General', 'Consumer Discretionary'], ['DLTR', 'Dollar Tree', 'Consumer Discretionary'], ['D', 'Dominion Energy', 'Utilities'], ['DOV', 'Dover Corp.', 'Industrials'], ['DWDP', 'DowDuPont', 'Materials'], ['DPS', 'Dr Pepper Snapple Group', 'Consumer Staples'], ['DTE', 'DTE Energy Co.', 'Utilities'], ['DUK', 'Duke Energy', 'Utilities'], ['DRE', 'Duke Realty Corp', 'Real Estate'], ['DXC', 'DXC Technology', 'Information Technology'], ['ETFC', 'E*Trade', 'Financials'], ['EMN', 'Eastman Chemical', 'Materials'], ['ETN', 'Eaton Corporation', 'Industrials'], ['EBAY', 'eBay Inc.', 'Information Technology'], ['ECL', 'Ecolab Inc.', 'Materials'], ['EIX', \"Edison Int'l\", 'Utilities'], ['EW', 'Edwards Lifesciences', 'Health Care'], ['EA', 'Electronic Arts', 'Information Technology'], ['EMR', 'Emerson Electric Company', 'Industrials'], ['ETR', 'Entergy Corp.', 'Utilities'], ['EVHC', 'Envision Healthcare', 'Health Care'], ['EOG', 'EOG Resources', 'Energy'], ['EQT', 'EQT Corporation', 'Energy'], ['EFX', 'Equifax Inc.', 'Industrials'], ['EQIX', 'Equinix', 'Real Estate'], ['EQR', 'Equity Residential', 'Real Estate'], ['ESS', 'Essex Property Trust, Inc.', 'Real Estate'], ['EL', 'Estee Lauder Cos.', 'Consumer Staples'], ['RE', 'Everest Re Group Ltd.', 'Financials'], ['ES', 'Eversource Energy', 'Utilities'], ['EXC', 'Exelon Corp.', 'Utilities'], ['EXPE', 'Expedia Inc.', 'Consumer Discretionary'], ['EXPD', 'Expeditors International', 'Industrials'], ['ESRX', 'Express Scripts', 'Health Care'], ['EXR', 'Extra Space Storage', 'Real Estate'], ['XOM', 'Exxon Mobil Corp.', 'Energy'], ['FFIV', 'F5 Networks', 'Information Technology'], ['FB', 'Facebook, Inc.', 'Information Technology'], ['FAST', 'Fastenal Co', 'Industrials'], ['FRT', 'Federal Realty Investment Trust', 'Real Estate'], ['FDX', 'FedEx Corporation', 'Industrials'], ['FIS', 'Fidelity National Information Services', 'Information Technology'], ['FITB', 'Fifth Third Bancorp', 'Financials'], ['FE', 'FirstEnergy Corp', 'Utilities'], ['FISV', 'Fiserv Inc', 'Information Technology'], ['FLIR', 'FLIR Systems', 'Information Technology'], ['FLS', 'Flowserve Corporation', 'Industrials'], ['FLR', 'Fluor Corp.', 'Industrials'], ['FMC', 'FMC Corporation', 'Materials'], ['FL', 'Foot Locker Inc', 'Consumer Discretionary'], ['F', 'Ford Motor', 'Consumer Discretionary'], ['FTV', 'Fortive Corp', 'Industrials'], ['FBHS', 'Fortune Brands Home & Security', 'Industrials'], ['BEN', 'Franklin Resources', 'Financials'], ['FCX', 'Freeport-McMoRan Inc.', 'Materials'], ['GPS', 'Gap Inc.', 'Consumer Discretionary'], ['GRMN', 'Garmin Ltd.', 'Consumer Discretionary'], ['IT', 'Gartner Inc', 'Information Technology'], ['GD', 'General Dynamics', 'Industrials'], ['GE', 'General Electric', 'Industrials'], ['GGP', 'General Growth Properties Inc.', 'Real Estate'], ['GIS', 'General Mills', 'Consumer Staples'], ['GM', 'General Motors', 'Consumer Discretionary'], ['GPC', 'Genuine Parts', 'Consumer Discretionary'], ['GILD', 'Gilead Sciences', 'Health Care'], ['GPN', 'Global Payments Inc.', 'Information Technology'], ['GS', 'Goldman Sachs Group', 'Financials'], ['GT', 'Goodyear Tire & Rubber', 'Consumer Discretionary'], ['GWW', 'Grainger (W.W.) Inc.', 'Industrials'], ['HAL', 'Halliburton Co.', 'Energy'], ['HBI', 'Hanesbrands Inc', 'Consumer Discretionary'], ['HOG', 'Harley-Davidson', 'Consumer Discretionary'], ['HRS', 'Harris Corporation', 'Information Technology'], ['HIG', 'Hartford Financial Svc.Gp.', 'Financials'], ['HAS', 'Hasbro Inc.', 'Consumer Discretionary'], ['HCA', 'HCA Holdings', 'Health Care'], ['HCP', 'HCP Inc.', 'Real Estate'], ['HP', 'Helmerich & Payne', 'Energy'], ['HSIC', 'Henry Schein', 'Health Care'], ['HES', 'Hess Corporation', 'Energy'], ['HPE', 'Hewlett Packard Enterprise', 'Information Technology'], ['HLT', 'Hilton Worldwide Holdings Inc', 'Consumer Discretionary'], ['HOLX', 'Hologic', 'Health Care'], ['HD', 'Home Depot', 'Consumer Discretionary'], ['HON', \"Honeywell Int'l Inc.\", 'Industrials'], ['HRL', 'Hormel Foods Corp.', 'Consumer Staples'], ['HST', 'Host Hotels & Resorts', 'Real Estate'], ['HPQ', 'HP Inc.', 'Information Technology'], ['HUM', 'Humana Inc.', 'Health Care'], ['HBAN', 'Huntington Bancshares', 'Financials'], ['HII', 'Huntington Ingalls Industries', 'Industrials'], ['IDXX', 'IDEXX Laboratories', 'Health Care'], ['INFO', 'IHS Markit Ltd.', 'Industrials'], ['ITW', 'Illinois Tool Works', 'Industrials'], ['ILMN', 'Illumina Inc', 'Health Care'], ['INCY', 'Incyte', 'Health Care'], ['IR', 'Ingersoll-Rand PLC', 'Industrials'], ['INTC', 'Intel Corp.', 'Information Technology'], ['ICE', 'Intercontinental Exchange', 'Financials'], ['IBM', 'International Business Machines', 'Information Technology'], ['IP', 'International Paper', 'Materials'], ['IPG', 'Interpublic Group', 'Consumer Discretionary'], ['IFF', 'Intl Flavors & Fragrances', 'Materials'], ['INTU', 'Intuit Inc.', 'Information Technology'], ['ISRG', 'Intuitive Surgical Inc.', 'Health Care'], ['IVZ', 'Invesco Ltd.', 'Financials'], ['IQV', 'IQVIA Holdings Inc.', 'Health Care'], ['IRM', 'Iron Mountain Incorporated', 'Real Estate'], ['JBHT', 'J. B. Hunt Transport Services', 'Industrials'], ['JEC', 'Jacobs Engineering Group', 'Industrials'], ['SJM', 'JM Smucker', 'Consumer Staples'], ['JNJ', 'Johnson & Johnson', 'Health Care'], ['JCI', 'Johnson Controls International', 'Industrials'], ['JPM', 'JPMorgan Chase & Co.', 'Financials'], ['JNPR', 'Juniper Networks', 'Information Technology'], ['KSU', 'Kansas City Southern', 'Industrials'], ['K', 'Kellogg Co.', 'Consumer Staples'], ['KEY', 'KeyCorp', 'Financials'], ['KMB', 'Kimberly-Clark', 'Consumer Staples'], ['KIM', 'Kimco Realty', 'Real Estate'], ['KMI', 'Kinder Morgan', 'Energy'], ['KLAC', 'KLA-Tencor Corp.', 'Information Technology'], ['KSS', \"Kohl's Corp.\", 'Consumer Discretionary'], ['KHC', 'Kraft Heinz Co', 'Consumer Staples'], ['KR', 'Kroger Co.', 'Consumer Staples'], ['LB', 'L Brands Inc.', 'Consumer Discretionary'], ['LLL', 'L-3 Communications Holdings', 'Industrials'], ['LH', 'Laboratory Corp. of America Holding', 'Health Care'], ['LRCX', 'Lam Research', 'Information Technology'], ['LEG', 'Leggett & Platt', 'Consumer Discretionary'], ['LEN', 'Lennar Corp.', 'Consumer Discretionary'], ['LUK', 'Leucadia National Corp.', 'Financials'], ['LLY', 'Lilly (Eli) & Co.', 'Health Care'], ['LNC', 'Lincoln National', 'Financials'], ['LKQ', 'LKQ Corporation', 'Consumer Discretionary'], ['LMT', 'Lockheed Martin Corp.', 'Industrials'], ['L', 'Loews Corp.', 'Financials'], ['LOW', \"Lowe's Cos.\", 'Consumer Discretionary'], ['LYB', 'LyondellBasell', 'Materials'], ['MTB', 'M&T Bank Corp.', 'Financials'], ['MAC', 'Macerich', 'Real Estate'], ['M', \"Macy's Inc.\", 'Consumer Discretionary'], ['MRO', 'Marathon Oil Corp.', 'Energy'], ['MPC', 'Marathon Petroleum', 'Energy'], ['MAR', \"Marriott Int'l.\", 'Consumer Discretionary'], ['MMC', 'Marsh & McLennan', 'Financials'], ['MLM', 'Martin Marietta Materials', 'Materials'], ['MAS', 'Masco Corp.', 'Industrials'], ['MA', 'Mastercard Inc.', 'Information Technology'], ['MAT', 'Mattel Inc.', 'Consumer Discretionary'], ['MKC', 'McCormick & Co.', 'Consumer Staples'], ['MCD', \"McDonald's Corp.\", 'Consumer Discretionary'], ['MCK', 'McKesson Corp.', 'Health Care'], ['MDT', 'Medtronic plc', 'Health Care'], ['MRK', 'Merck & Co.', 'Health Care'], ['MET', 'MetLife Inc.', 'Financials'], ['MTD', 'Mettler Toledo', 'Health Care'], ['MGM', 'MGM Resorts International', 'Consumer Discretionary'], ['KORS', 'Michael Kors Holdings', 'Consumer Discretionary'], ['MCHP', 'Microchip Technology', 'Information Technology'], ['MU', 'Micron Technology', 'Information Technology'], ['MSFT', 'Microsoft Corp.', 'Information Technology'], ['MAA', 'Mid-America Apartments', 'Real Estate'], ['MHK', 'Mohawk Industries', 'Consumer Discretionary'], ['TAP', 'Molson Coors Brewing Company', 'Consumer Staples'], ['MDLZ', 'Mondelez International', 'Consumer Staples'], ['MON', 'Monsanto Co.', 'Materials'], ['MNST', 'Monster Beverage', 'Consumer Staples'], ['MCO', \"Moody's Corp\", 'Financials'], ['MS', 'Morgan Stanley', 'Financials'], ['MSI', 'Motorola Solutions Inc.', 'Information Technology'], ['MYL', 'Mylan N.V.', 'Health Care'], ['NDAQ', 'Nasdaq, Inc.', 'Financials'], ['NOV', 'National Oilwell Varco Inc.', 'Energy'], ['NAVI', 'Navient', 'Financials'], ['NTAP', 'NetApp', 'Information Technology'], ['NFLX', 'Netflix Inc.', 'Information Technology'], ['NWL', 'Newell Brands', 'Consumer Discretionary'], ['NFX', 'Newfield Exploration Co', 'Energy'], ['NEM', 'Newmont Mining Corporation', 'Materials'], ['NWSA', 'News Corp. Class A', 'Consumer Discretionary'], ['NWS', 'News Corp. Class B', 'Consumer Discretionary'], ['NEE', 'NextEra Energy', 'Utilities'], ['NLSN', 'Nielsen Holdings', 'Industrials'], ['NKE', 'Nike', 'Consumer Discretionary'], ['NI', 'NiSource Inc.', 'Utilities'], ['NBL', 'Noble Energy Inc', 'Energy'], ['JWN', 'Nordstrom', 'Consumer Discretionary'], ['NSC', 'Norfolk Southern Corp.', 'Industrials'], ['NTRS', 'Northern Trust Corp.', 'Financials'], ['NOC', 'Northrop Grumman Corp.', 'Industrials'], ['NCLH', 'Norwegian Cruise Line', 'Consumer Discretionary'], ['NRG', 'NRG Energy', 'Utilities'], ['NUE', 'Nucor Corp.', 'Materials'], ['NVDA', 'Nvidia Corporation', 'Information Technology'], ['ORLY', \"O'Reilly Automotive\", 'Consumer Discretionary'], ['OXY', 'Occidental Petroleum', 'Energy'], ['OMC', 'Omnicom Group', 'Consumer Discretionary'], ['OKE', 'ONEOK', 'Energy'], ['ORCL', 'Oracle Corp.', 'Information Technology'], ['PCAR', 'PACCAR Inc.', 'Industrials'], ['PKG', 'Packaging Corporation of America', 'Materials'], ['PH', 'Parker-Hannifin', 'Industrials'], ['PDCO', 'Patterson Companies', 'Health Care'], ['PAYX', 'Paychex Inc.', 'Information Technology'], ['PYPL', 'PayPal', 'Information Technology'], ['PNR', 'Pentair Ltd.', 'Industrials'], ['PBCT', \"People's United Financial\", 'Financials'], ['PEP', 'PepsiCo Inc.', 'Consumer Staples'], ['PKI', 'PerkinElmer', 'Health Care'], ['PRGO', 'Perrigo', 'Health Care'], ['PFE', 'Pfizer Inc.', 'Health Care'], ['PCG', 'PG&E Corp.', 'Utilities'], ['PM', 'Philip Morris International', 'Consumer Staples'], ['PSX', 'Phillips 66', 'Energy'], ['PNW', 'Pinnacle West Capital', 'Utilities'], ['PXD', 'Pioneer Natural Resources', 'Energy'], ['PNC', 'PNC Financial Services', 'Financials'], ['RL', 'Polo Ralph Lauren Corp.', 'Consumer Discretionary'], ['PPG', 'PPG Industries', 'Materials'], ['PPL', 'PPL Corp.', 'Utilities'], ['PX', 'Praxair Inc.', 'Materials'], ['PCLN', 'Priceline.com Inc', 'Consumer Discretionary'], ['PFG', 'Principal Financial Group', 'Financials'], ['PG', 'Procter & Gamble', 'Consumer Staples'], ['PGR', 'Progressive Corp.', 'Financials'], ['PLD', 'Prologis', 'Real Estate'], ['PRU', 'Prudential Financial', 'Financials'], ['PEG', 'Public Serv. Enterprise Inc.', 'Utilities'], ['PSA', 'Public Storage', 'Real Estate'], ['PHM', 'Pulte Homes Inc.', 'Consumer Discretionary'], ['PVH', 'PVH Corp.', 'Consumer Discretionary'], ['QRVO', 'Qorvo', 'Information Technology'], ['QCOM', 'QUALCOMM Inc.', 'Information Technology'], ['PWR', 'Quanta Services Inc.', 'Industrials'], ['DGX', 'Quest Diagnostics', 'Health Care'], ['RRC', 'Range Resources Corp.', 'Energy'], ['RJF', 'Raymond James Financial Inc.', 'Financials'], ['RTN', 'Raytheon Co.', 'Industrials'], ['O', 'Realty Income Corporation', 'Real Estate'], ['RHT', 'Red Hat Inc.', 'Information Technology'], ['REG', 'Regency Centers Corporation', 'Real Estate'], ['REGN', 'Regeneron', 'Health Care'], ['RF', 'Regions Financial Corp.', 'Financials'], ['RSG', 'Republic Services Inc', 'Industrials'], ['RMD', 'ResMed', 'Health Care'], ['RHI', 'Robert Half International', 'Industrials'], ['ROK', 'Rockwell Automation Inc.', 'Industrials'], ['COL', 'Rockwell Collins', 'Industrials'], ['ROP', 'Roper Technologies', 'Industrials'], ['ROST', 'Ross Stores', 'Consumer Discretionary'], ['RCL', 'Royal Caribbean Cruises Ltd', 'Consumer Discretionary'], ['SPGI', 'S&P Global, Inc.', 'Financials'], ['CRM', 'Salesforce.com', 'Information Technology'], ['SBAC', 'SBA Communications', 'Real Estate'], ['SCG', 'SCANA Corp', 'Utilities'], ['SLB', 'Schlumberger Ltd.', 'Energy'], ['SNI', 'Scripps Networks Interactive Inc.', 'Consumer Discretionary'], ['STX', 'Seagate Technology', 'Information Technology'], ['SEE', 'Sealed Air', 'Materials'], ['SRE', 'Sempra Energy', 'Utilities'], ['SHW', 'Sherwin-Williams', 'Materials'], ['SIG', 'Signet Jewelers', 'Consumer Discretionary'], ['SPG', 'Simon Property Group Inc', 'Real Estate'], ['SWKS', 'Skyworks Solutions', 'Information Technology'], ['SLG', 'SL Green Realty', 'Real Estate'], ['SNA', 'Snap-On Inc.', 'Consumer Discretionary'], ['SO', 'Southern Co.', 'Utilities'], ['LUV', 'Southwest Airlines', 'Industrials'], ['SWK', 'Stanley Black & Decker', 'Consumer Discretionary'], ['SBUX', 'Starbucks Corp.', 'Consumer Discretionary'], ['STT', 'State Street Corp.', 'Financials'], ['SRCL', 'Stericycle Inc', 'Industrials'], ['SYK', 'Stryker Corp.', 'Health Care'], ['STI', 'SunTrust Banks', 'Financials'], ['SYMC', 'Symantec Corp.', 'Information Technology'], ['SYF', 'Synchrony Financial', 'Financials'], ['SNPS', 'Synopsys Inc.', 'Information Technology'], ['SYY', 'Sysco Corp.', 'Consumer Staples'], ['TROW', 'T. Rowe Price Group', 'Financials'], ['TPR', 'Tapestry, Inc.', 'Consumer Discretionary'], ['TGT', 'Target Corp.', 'Consumer Discretionary'], ['TEL', 'TE Connectivity Ltd.', 'Information Technology'], ['FTI', 'TechnipFMC', 'Energy'], ['TXN', 'Texas Instruments', 'Information Technology'], ['TXT', 'Textron Inc.', 'Industrials'], ['BK', 'The Bank of New York Mellon Corp.', 'Financials'], ['CLX', 'The Clorox Company', 'Consumer Staples'], ['COO', 'The Cooper Companies', 'Health Care'], ['HSY', 'The Hershey Company', 'Consumer Staples'], ['MOS', 'The Mosaic Company', 'Materials'], ['TRV', 'The Travelers Companies Inc.', 'Financials'], ['DIS', 'The Walt Disney Company', 'Consumer Discretionary'], ['TMO', 'Thermo Fisher Scientific', 'Health Care'], ['TIF', 'Tiffany & Co.', 'Consumer Discretionary'], ['TWX', 'Time Warner Inc.', 'Consumer Discretionary'], ['TJX', 'TJX Companies Inc.', 'Consumer Discretionary'], ['TMK', 'Torchmark Corp.', 'Financials'], ['TSS', 'Total System Services', 'Information Technology'], ['TSCO', 'Tractor Supply Company', 'Consumer Discretionary'], ['TDG', 'TransDigm Group', 'Industrials'], ['TRIP', 'TripAdvisor', 'Consumer Discretionary'], ['FOXA', 'Twenty-First Century Fox Class A', 'Consumer Discretionary'], ['FOX', 'Twenty-First Century Fox Class B', 'Consumer Discretionary'], ['TSN', 'Tyson Foods', 'Consumer Staples'], ['USB', 'U.S. Bancorp', 'Financials'], ['UDR', 'UDR Inc', 'Real Estate'], ['ULTA', 'Ulta Salon Cosmetics & Fragrance Inc', 'Consumer Discretionary'], ['UAA', 'Under Armour Class A', 'Consumer Discretionary'], ['UA', 'Under Armour Class C', 'Consumer Discretionary'], ['UNP', 'Union Pacific', 'Industrials'], ['UAL', 'United Continental Holdings', 'Industrials'], ['UNH', 'United Health Group Inc.', 'Health Care'], ['UPS', 'United Parcel Service', 'Industrials'], ['URI', 'United Rentals, Inc.', 'Industrials'], ['UTX', 'United Technologies', 'Industrials'], ['UHS', 'Universal Health Services, Inc.', 'Health Care'], ['UNM', 'Unum Group', 'Financials'], ['VFC', 'V.F. Corp.', 'Consumer Discretionary'], ['VLO', 'Valero Energy', 'Energy'], ['VAR', 'Varian Medical Systems', 'Health Care'], ['VTR', 'Ventas Inc', 'Real Estate'], ['VRSN', 'Verisign Inc.', 'Information Technology'], ['VRSK', 'Verisk Analytics', 'Industrials'], ['VZ', 'Verizon Communications', 'Telecommunication Services'], ['VRTX', 'Vertex Pharmaceuticals Inc', 'Health Care'], ['VIAB', 'Viacom Inc.', 'Consumer Discretionary'], ['V', 'Visa Inc.', 'Information Technology'], ['VNO', 'Vornado Realty Trust', 'Real Estate'], ['VMC', 'Vulcan Materials', 'Materials'], ['WMT', 'Wal-Mart Stores', 'Consumer Staples'], ['WBA', 'Walgreens Boots Alliance', 'Consumer Staples'], ['WM', 'Waste Management Inc.', 'Industrials'], ['WAT', 'Waters Corporation', 'Health Care'], ['WEC', 'Wec Energy Group Inc', 'Utilities'], ['WFC', 'Wells Fargo', 'Financials'], ['HCN', 'Welltower Inc.', 'Real Estate'], ['WDC', 'Western Digital', 'Information Technology'], ['WU', 'Western Union Co', 'Information Technology'], ['WRK', 'WestRock Company', 'Materials'], ['WY', 'Weyerhaeuser Corp.', 'Real Estate'], ['WHR', 'Whirlpool Corp.', 'Consumer Discretionary'], ['WMB', 'Williams Cos.', 'Energy'], ['WLTW', 'Willis Towers Watson', 'Financials'], ['WYN', 'Wyndham Worldwide', 'Consumer Discretionary'], ['WYNN', 'Wynn Resorts Ltd', 'Consumer Discretionary'], ['XEL', 'Xcel Energy Inc', 'Utilities'], ['XRX', 'Xerox Corp.', 'Information Technology'], ['XLNX', 'Xilinx Inc', 'Information Technology'], ['XL', 'XL Capital', 'Financials'], ['XYL', 'Xylem Inc.', 'Industrials'], ['YUM', 'Yum! Brands Inc', 'Consumer Discretionary'], ['ZBH', 'Zimmer Biomet Holdings', 'Health Care'], ['ZION', 'Zions Bancorp', 'Financials'], ['ZTS', 'Zoetis', 'Health Care']]\n",
            "[['MMM', '3M Company', 'Industrials', Decimal('222.89'), Decimal('24.31'), Decimal('2.3328617'), Decimal('7.92'), Decimal('259.77'), Decimal('175.49'), Decimal('138721055226'), Decimal('9048000000'), Decimal('4.3902707'), Decimal('11.34'), 'http://www.sec.gov/cgi-bin/browse-edgar?action=getcompany&CIK=MMM'], ['AOS', 'A.O. Smith Corp', 'Industrials', Decimal('60.24'), Decimal('27.76'), Decimal('1.1479592'), Decimal('1.7'), Decimal('68.39'), Decimal('48.925'), Decimal('10783419933'), Decimal('601000000'), Decimal('3.5754826'), Decimal('6.35'), 'http://www.sec.gov/cgi-bin/browse-edgar?action=getcompany&CIK=AOS'], ['ABT', 'Abbott Laboratories', 'Health Care', Decimal('56.27'), Decimal('22.51'), Decimal('1.9089824'), Decimal('0.26'), Decimal('64.6'), Decimal('42.28'), Decimal('102121042306'), Decimal('5744000000'), Decimal('3.7404804'), Decimal('3.19'), 'http://www.sec.gov/cgi-bin/browse-edgar?action=getcompany&CIK=ABT'], ['ABBV', 'AbbVie Inc.', 'Health Care', Decimal('108.48'), Decimal('19.41'), Decimal('2.4995599'), Decimal('3.29'), Decimal('125.86'), Decimal('60.05'), Decimal('181386347059'), Decimal('10310000000'), Decimal('6.291571'), Decimal('26.14'), 'http://www.sec.gov/cgi-bin/browse-edgar?action=getcompany&CIK=ABBV'], ['ACN', 'Accenture plc', 'Information Technology', Decimal('150.51'), Decimal('25.47'), Decimal('1.7144699'), Decimal('5.44'), Decimal('162.6'), Decimal('114.82'), Decimal('98765855553'), Decimal('5643228000'), Decimal('2.604117'), Decimal('10.62'), 'http://www.sec.gov/cgi-bin/browse-edgar?action=getcompany&CIK=ACN'], ['ATVI', 'Activision Blizzard', 'Information Technology', Decimal('65.83'), Decimal('31.8'), Decimal('0.43190324'), Decimal('1.28'), Decimal('74.945'), Decimal('38.93'), Decimal('52518668144'), Decimal('2704000000'), Decimal('10.59512'), Decimal('5.16'), 'http://www.sec.gov/cgi-bin/browse-edgar?action=getcompany&CIK=ATVI'], ['AYI', 'Acuity Brands Inc', 'Industrials', Decimal('145.41'), Decimal('18.22'), Decimal('0.35118526'), Decimal('7.43'), Decimal('225.36'), Decimal('142'), Decimal('6242377704'), Decimal('587800000'), Decimal('1.7953473'), Decimal('3.55'), 'http://www.sec.gov/cgi-bin/browse-edgar?action=getcompany&CIK=AYI'], ['ADBE', 'Adobe Systems Inc', 'Information Technology', Decimal('185.16'), Decimal('52.31'), Decimal('0'), Decimal('3.39'), Decimal('204.45'), Decimal('114.451'), Decimal('94550214268'), Decimal('2538040000'), Decimal('13.092818'), Decimal('11.06'), 'http://www.sec.gov/cgi-bin/browse-edgar?action=getcompany&CIK=ADBE'], ['AAP', 'Advance Auto Parts', 'Consumer Discretionary', Decimal('109.63'), Decimal('19.54'), Decimal('0.21832074'), Decimal('6.19'), Decimal('169.55'), Decimal('78.81'), Decimal('8123611867'), Decimal('853941000'), Decimal('1.1301061'), Decimal('2.51'), 'http://www.sec.gov/cgi-bin/browse-edgar?action=getcompany&CIK=AAP'], ['AMD', 'Advanced Micro Devices Inc', 'Information Technology', Decimal('11.22'), Decimal('187'), Decimal('0'), Decimal('0.03'), Decimal('15.65'), Decimal('9.7'), Decimal('11191663795'), Decimal('339000000'), Decimal('2.1091955'), Decimal('21.47'), 'http://www.sec.gov/cgi-bin/browse-edgar?action=getcompany&CIK=AMD'], ['AES', 'AES Corp', 'Utilities', Decimal('10.06'), Decimal('9.96'), Decimal('4.961832'), Decimal('-1.72'), Decimal('12.05'), Decimal('10'), Decimal('6920851212'), Decimal('3001000000'), Decimal('0.65951383'), Decimal('2.2'), 'http://www.sec.gov/cgi-bin/browse-edgar?action=getcompany&CIK=AES'], ['AET', 'Aetna Inc', 'Health Care', Decimal('178'), Decimal('18.11'), Decimal('1.101989'), Decimal('5.75'), Decimal('194.4'), Decimal('119.51'), Decimal('59197016353'), Decimal('4139000000'), Decimal('0.9923546'), Decimal('3.79'), 'http://www.sec.gov/cgi-bin/browse-edgar?action=getcompany&CIK=AET'], ['AMG', 'Affiliated Managers Group Inc', 'Financials', Decimal('179.11'), Decimal('12.24'), Decimal('0.6387395'), Decimal('12.07'), Decimal('216.995'), Decimal('148.81'), Decimal('10442174371'), Decimal('1261400000'), Decimal('4.591235'), Decimal('2.89'), 'http://www.sec.gov/cgi-bin/browse-edgar?action=getcompany&CIK=AMG'], ['AFL', 'AFLAC Inc', 'Financials', Decimal('83.25'), Decimal('12.24'), Decimal('2.4299066'), Decimal('11.01'), Decimal('91.73'), Decimal('68.8'), Decimal('33422948000'), Decimal('0'), Decimal('1.5429344'), Decimal('1.53'), 'http://www.sec.gov/cgi-bin/browse-edgar?action=getcompany&CIK=AFL'], ['A', 'Agilent Technologies Inc', 'Health Care', Decimal('65.05'), Decimal('27.45'), Decimal('0.8756979'), Decimal('2.1'), Decimal('75'), Decimal('49.23'), Decimal('21984606918'), Decimal('1094000000'), Decimal('6.493563'), Decimal('4.56'), 'http://www.sec.gov/cgi-bin/browse-edgar?action=getcompany&CIK=A'], ['APD', 'Air Products & Chemicals Inc', 'Materials', Decimal('152.8'), Decimal('24.22'), Decimal('2.7811136'), Decimal('13.66'), Decimal('175.17'), Decimal('133.6301'), Decimal('34638387128'), Decimal('2542500000'), Decimal('4.1163683'), Decimal('3.35'), 'http://www.sec.gov/cgi-bin/browse-edgar?action=getcompany&CIK=APD'], ['AKAM', 'Akamai Technologies Inc', 'Information Technology', Decimal('62.49'), Decimal('32.55'), Decimal('0'), Decimal('1.79'), Decimal('69.56'), Decimal('44.65'), Decimal('10906904066'), Decimal('789517000'), Decimal('5.8546524'), Decimal('3.25'), 'http://www.sec.gov/cgi-bin/browse-edgar?action=getcompany&CIK=AKAM'], ['ALK', 'Alaska Air Group Inc', 'Industrials', Decimal('64.04'), Decimal('9.66'), Decimal('1.9928383'), Decimal('8.28'), Decimal('101.43'), Decimal('59.25'), Decimal('7903173734'), Decimal('1665000000'), Decimal('0.9801092'), Decimal('2.21'), 'http://www.sec.gov/cgi-bin/browse-edgar?action=getcompany&CIK=ALK'], ['ALB', 'Albemarle Corp', 'Materials', Decimal('105.18'), Decimal('26.03'), Decimal('1.2004126'), Decimal('5.66'), Decimal('144.99'), Decimal('90.35'), Decimal('11782151266'), Decimal('686030000'), Decimal('5.3666205'), Decimal('2.98'), 'http://www.sec.gov/cgi-bin/browse-edgar?action=getcompany&CIK=ALB'], ['ARE', 'Alexandria Real Estate Equities Inc', 'Real Estate', Decimal('114.58'), Decimal('19.03'), Decimal('3.0262272'), Decimal('1.57'), Decimal('134.37'), Decimal('106.89'), Decimal('12043374429'), Decimal('0'), Decimal('10.492155'), Decimal('2.07'), 'http://www.sec.gov/cgi-bin/browse-edgar?action=getcompany&CIK=ARE'], ['ALXN', 'Alexion Pharmaceuticals', 'Health Care', Decimal('108.47'), Decimal('22.18'), Decimal('0'), Decimal('1.77'), Decimal('149.34'), Decimal('96.18'), Decimal('26172439795'), Decimal('1072000000'), Decimal('9.720562'), Decimal('2.82'), 'http://www.sec.gov/cgi-bin/browse-edgar?action=getcompany&CIK=ALXN'], ['ALGN', 'Align Technology', 'Health Care', Decimal('220.71'), Decimal('56.59'), Decimal('0'), Decimal('2.84'), Decimal('287.32'), Decimal('92.61'), Decimal('18788041378'), Decimal('380326000'), Decimal('13.138819'), Decimal('16.44'), 'http://www.sec.gov/cgi-bin/browse-edgar?action=getcompany&CIK=ALGN'], ['ALLE', 'Allegion', 'Industrials', Decimal('77.32'), Decimal('21.07'), Decimal('0.8004002'), Decimal('2.37'), Decimal('89.81'), Decimal('66.72'), Decimal('7599609494'), Decimal('531800000'), Decimal('4.265232'), Decimal('20.48'), 'http://www.sec.gov/cgi-bin/browse-edgar?action=getcompany&CIK=ALLE'], ['AGN', 'Allergan, Plc', 'Health Care', Decimal('164.2'), Decimal('10.65'), Decimal('1.643289'), Decimal('38.35'), Decimal('256.8'), Decimal('160.07'), Decimal('56668833898'), Decimal('-2888100000'), Decimal('4.820115'), Decimal('0.83'), 'http://www.sec.gov/cgi-bin/browse-edgar?action=getcompany&CIK=AGN'], ['ADS', 'Alliance Data Systems', 'Information Technology', Decimal('240.6'), Decimal('13.02'), Decimal('0.9240122'), Decimal('14.13'), Decimal('278.33'), Decimal('209'), Decimal('13632608582'), Decimal('2143200000'), Decimal('1.7282298'), Decimal('8.28'), 'http://www.sec.gov/cgi-bin/browse-edgar?action=getcompany&CIK=ADS'], ['LNT', 'Alliant Energy Corp', 'Utilities', Decimal('37.14'), Decimal('19.86'), Decimal('3.5733333'), Decimal('1.65'), Decimal('45.55'), Decimal('36.84'), Decimal('8670163500'), Decimal('1168400000'), Decimal('3.4331481'), Decimal('2.13'), 'http://www.sec.gov/cgi-bin/browse-edgar?action=getcompany&CIK=LNT'], ['ALL', 'Allstate Corp', 'Financials', Decimal('90.06'), Decimal('13.26'), Decimal('1.5278208'), Decimal('4.68'), Decimal('105.36'), Decimal('77.73'), Decimal('34759468905'), Decimal('0'), Decimal('1.2085556'), Decimal('1.67'), 'http://www.sec.gov/cgi-bin/browse-edgar?action=getcompany&CIK=ALL'], ['GOOGL', 'Alphabet Inc Class A', 'Information Technology', Decimal('1007.71'), Decimal('31.48'), Decimal('0'), Decimal('22.27'), Decimal('1198'), Decimal('824.3'), Decimal('733823966137'), Decimal('34217000000'), Decimal('6.801692'), Decimal('4.7'), 'http://www.sec.gov/cgi-bin/browse-edgar?action=getcompany&CIK=GOOGL'], ['GOOG', 'Alphabet Inc Class C', 'Information Technology', Decimal('1001.52'), Decimal('40.29'), Decimal('0'), Decimal('22.27'), Decimal('1186.89'), Decimal('803.1903'), Decimal('728535558140'), Decimal('32714000000'), Decimal('6.772653'), Decimal('4.67'), 'http://www.sec.gov/cgi-bin/browse-edgar?action=getcompany&CIK=GOOG'], ['MO', 'Altria Group Inc', 'Consumer Staples', Decimal('64.05'), Decimal('18.89'), Decimal('3.9526875'), Decimal('5.31'), Decimal('77.79'), Decimal('60.01'), Decimal('126985101434'), Decimal('10773000000'), Decimal('4.945682'), Decimal('10.32'), 'http://www.sec.gov/cgi-bin/browse-edgar?action=getcompany&CIK=MO'], ['AMZN', 'Amazon.com Inc', 'Consumer Discretionary', Decimal('1350.5'), Decimal('296.16'), Decimal('0'), Decimal('6.16'), Decimal('1498'), Decimal('812.5'), Decimal('685873374731'), Decimal('16132000000'), Decimal('3.927053'), Decimal('24.28'), 'http://www.sec.gov/cgi-bin/browse-edgar?action=getcompany&CIK=AMZN'], ['AEE', 'Ameren Corp', 'Utilities', Decimal('52.59'), Decimal('20.38'), Decimal('3.4404964'), Decimal('2.68'), Decimal('64.89'), Decimal('51.81'), Decimal('12905744906'), Decimal('2298000000'), Decimal('2.693119'), Decimal('1.79'), 'http://www.sec.gov/cgi-bin/browse-edgar?action=getcompany&CIK=AEE'], ['AAL', 'American Airlines Group', 'Industrials', Decimal('48.6'), Decimal('9.92'), Decimal('0.7782101'), Decimal('3.91'), Decimal('59.08'), Decimal('39.21'), Decimal('24594852352'), Decimal('5761000000'), Decimal('0.58022565'), Decimal('6.03'), 'http://www.sec.gov/cgi-bin/browse-edgar?action=getcompany&CIK=AAL'], ['AEP', 'American Electric Power', 'Utilities', Decimal('63.38'), Decimal('17.32'), Decimal('3.8479443'), Decimal('1.24'), Decimal('78.07'), Decimal('62.69'), Decimal('31701916517'), Decimal('4450800000'), Decimal('2.7489934'), Decimal('1.81'), 'http://www.sec.gov/cgi-bin/browse-edgar?action=getcompany&CIK=AEP'], ['AXP', 'American Express Co', 'Financials', Decimal('88.34'), Decimal('15'), Decimal('1.4955667'), Decimal('2.9'), Decimal('102.385'), Decimal('75.51'), Decimal('80410990000'), Decimal('0'), Decimal('2.273575'), Decimal('3.75'), 'http://www.sec.gov/cgi-bin/browse-edgar?action=getcompany&CIK=AXP'], ['AIG', 'American International Group, Inc.', 'Financials', Decimal('58.28'), Decimal('23.22'), Decimal('2.1167521'), Decimal('-0.76'), Decimal('67.3'), Decimal('57.85'), Decimal('54360073164'), Decimal('0'), Decimal('1.4686536'), Decimal('0.75'), 'http://www.sec.gov/cgi-bin/browse-edgar?action=getcompany&CIK=AIG'], ['AMT', 'American Tower Corp A', 'Real Estate', Decimal('133.57'), Decimal('20.68'), Decimal('2'), Decimal('1.97'), Decimal('155.28'), Decimal('103.36'), Decimal('59213892640'), Decimal('3792383000'), Decimal('11.954137'), Decimal('9.22'), 'http://www.sec.gov/cgi-bin/browse-edgar?action=getcompany&CIK=AMT'], ['AWK', 'American Water Works Company Inc', 'Utilities', Decimal('76.06'), Decimal('26.23'), Decimal('2.129297'), Decimal('2.63'), Decimal('92.37'), Decimal('71.89'), Decimal('13906146184'), Decimal('1711000000'), Decimal('5.553833'), Decimal('2.55'), 'http://www.sec.gov/cgi-bin/browse-edgar?action=getcompany&CIK=AWK'], ['AMP', 'Ameriprise Financial', 'Financials', Decimal('152.5'), Decimal('12.41'), Decimal('2.0735743'), Decimal('9.44'), Decimal('183.9'), Decimal('118.84'), Decimal('23472126000'), Decimal('0'), Decimal('1.9493247'), Decimal('3.73'), 'http://www.sec.gov/cgi-bin/browse-edgar?action=getcompany&CIK=AMP'], ['ABC', 'AmerisourceBergen Corp', 'Health Care', Decimal('91.55'), Decimal('15.54'), Decimal('1.6132456'), Decimal('1.64'), Decimal('106.27'), Decimal('71.9'), Decimal('20587704101'), Decimal('991884000'), Decimal('0.17396984'), Decimal('9.73'), 'http://www.sec.gov/cgi-bin/browse-edgar?action=getcompany&CIK=ABC'], ['AME', 'AMETEK Inc', 'Industrials', Decimal('72.05'), Decimal('27.61'), Decimal('0.75512403'), Decimal('2.94'), Decimal('78.51'), Decimal('51.31'), Decimal('17139651923'), Decimal('1025763000'), Decimal('4.015368'), Decimal('4.54'), 'http://www.sec.gov/cgi-bin/browse-edgar?action=getcompany&CIK=AME'], ['AMGN', 'Amgen Inc', 'Health Care', Decimal('173.12'), Decimal('13.76'), Decimal('2.9751508'), Decimal('2.57'), Decimal('201.23'), Decimal('152.16'), Decimal('128133340000'), Decimal('11945000000'), Decimal('5.58192'), Decimal('3.91'), 'http://www.sec.gov/cgi-bin/browse-edgar?action=getcompany&CIK=AMGN'], ['APH', 'Amphenol Corp', 'Information Technology', Decimal('84.44'), Decimal('25.9'), Decimal('0.8608971'), Decimal('2.05'), Decimal('93.62'), Decimal('67.26'), Decimal('26955335395'), Decimal('1671700000'), Decimal('3.85675'), Decimal('6.64'), 'http://www.sec.gov/cgi-bin/browse-edgar?action=getcompany&CIK=APH'], ['APC', 'Anadarko Petroleum Corp', 'Energy', Decimal('56.2'), Decimal('-21.29'), Decimal('1.7029973'), Decimal('-5.9'), Decimal('70'), Decimal('39.96'), Decimal('32129091747'), Decimal('3115000000'), Decimal('3.9682212'), Decimal('2.88'), 'http://www.sec.gov/cgi-bin/browse-edgar?action=getcompany&CIK=APC'], ['ADI', 'Analog Devices, Inc.', 'Information Technology', Decimal('82.68'), Decimal('17.67'), Decimal('2.108963'), Decimal('2.11'), Decimal('98.38'), Decimal('74.65'), Decimal('31811578855'), Decimal('1663384000'), Decimal('8.00391'), Decimal('3.13'), 'http://www.sec.gov/cgi-bin/browse-edgar?action=getcompany&CIK=ADI'], ['ANDV', 'Andeavor', 'Energy', Decimal('96.9'), Decimal('18.78'), Decimal('2.3454583'), Decimal('6.13'), Decimal('121.71'), Decimal('75.11'), Decimal('15696449735'), Decimal('2548000000'), Decimal('0.6618165'), Decimal('1.7'), 'http://www.sec.gov/cgi-bin/browse-edgar?action=getcompany&CIK=ANDV'], ['ANSS', 'ANSYS', 'Information Technology', Decimal('148.84'), Decimal('42.53'), Decimal('0'), Decimal('2.99'), Decimal('164.9'), Decimal('94.52'), Decimal('13155919129'), Decimal('458515000'), Decimal('16.8134'), Decimal('5.79'), 'http://www.sec.gov/cgi-bin/browse-edgar?action=getcompany&CIK=ANSS'], ['ANTM', 'Anthem Inc.', 'Health Care', Decimal('230.57'), Decimal('19.23'), Decimal('1.2581781'), Decimal('14.36'), Decimal('267.95'), Decimal('156.81'), Decimal('61221978627'), Decimal('0'), Decimal('0.6696521'), Decimal('2.28'), 'http://www.sec.gov/cgi-bin/browse-edgar?action=getcompany&CIK=ANTM'], ['AON', 'Aon plc', 'Financials', Decimal('136.05'), Decimal('20.8'), Decimal('1.0245464'), Decimal('4.66'), Decimal('152.78'), Decimal('113.2201'), Decimal('35123123422'), Decimal('1858000000'), Decimal('3.4972682'), Decimal('6.78'), 'http://www.sec.gov/cgi-bin/browse-edgar?action=getcompany&CIK=AON'], ['APA', 'Apache Corporation', 'Energy', Decimal('37.73'), Decimal('-251.53'), Decimal('2.528445'), Decimal('-3.72'), Decimal('57.9'), Decimal('38.14'), Decimal('15066280977'), Decimal('3265000000'), Decimal('3.651366'), Decimal('2.22'), 'http://www.sec.gov/cgi-bin/browse-edgar?action=getcompany&CIK=APA'], ['AIV', 'Apartment Investment & Management', 'Real Estate', Decimal('38.21'), Decimal('15.6'), Decimal('3.876562'), Decimal('1.95'), Decimal('46.855'), Decimal('38.85'), Decimal('6156884142'), Decimal('874871000'), Decimal('6.187621'), Decimal('4.69'), 'http://www.sec.gov/cgi-bin/browse-edgar?action=getcompany&CIK=AIV'], ['AAPL', 'Apple Inc.', 'Information Technology', Decimal('155.15'), Decimal('16.86'), Decimal('1.5795412'), Decimal('9.2'), Decimal('180.1'), Decimal('131.12'), Decimal('809508034020'), Decimal('79386000000'), Decimal('3.4586093'), Decimal('5.66'), 'http://www.sec.gov/cgi-bin/browse-edgar?action=getcompany&CIK=AAPL'], ['AMAT', 'Applied Materials Inc', 'Information Technology', Decimal('45.75'), Decimal('14.08'), Decimal('0.8215239'), Decimal('3.17'), Decimal('60.89'), Decimal('34.58'), Decimal('51296481503'), Decimal('4336000000'), Decimal('4.7020154'), Decimal('5.44'), 'http://www.sec.gov/cgi-bin/browse-edgar?action=getcompany&CIK=AMAT'], ['APTV', 'Aptiv Plc', 'Consumer Discretionary', Decimal('89.27'), Decimal('69.74'), Decimal('0.9392678'), Decimal('5.05'), Decimal('96.91'), Decimal('82.97'), Decimal('24906530300'), Decimal('2370000000'), Decimal('1.5025798'), Decimal('7.56'), 'http://www.sec.gov/cgi-bin/browse-edgar?action=getcompany&CIK=APTV'], ['ADM', 'Archer-Daniels-Midland Co', 'Consumer Staples', Decimal('41.35'), Decimal('17.45'), Decimal('3.1761081'), Decimal('2.17'), Decimal('47.44'), Decimal('38.59'), Decimal('23594770663'), Decimal('2927000000'), Decimal('0.52478915'), Decimal('1.29'), 'http://www.sec.gov/cgi-bin/browse-edgar?action=getcompany&CIK=ADM'], ['ARNC', 'Arconic Inc', 'Industrials', Decimal('24.45'), Decimal('20.21'), Decimal('0.9561753'), Decimal('-0.21'), Decimal('31.17'), Decimal('21.755'), Decimal('12123300000'), Decimal('1517000000'), Decimal('0.94214815'), None, 'http://www.sec.gov/cgi-bin/browse-edgar?action=getcompany&CIK=ARNC'], ['AJG', 'Arthur J. Gallagher & Co.', 'Financials', Decimal('64.4'), Decimal('21.05'), Decimal('2.4807138'), Decimal('2.54'), Decimal('70.55'), Decimal('53.63'), Decimal('11968488290'), Decimal('888000000'), Decimal('1.9400215'), Decimal('2.92'), 'http://www.sec.gov/cgi-bin/browse-edgar?action=getcompany&CIK=AJG'], ['AIZ', 'Assurant Inc', 'Financials', Decimal('85.16'), Decimal('33.27'), Decimal('2.5313594'), Decimal('9.08'), Decimal('106.985'), Decimal('85.91'), Decimal('4653993594'), Decimal('0'), Decimal('0.9821866'), Decimal('1.12'), 'http://www.sec.gov/cgi-bin/browse-edgar?action=getcompany&CIK=AIZ'], ['T', 'AT&T Inc', 'Telecommunication Services', Decimal('35.57'), Decimal('12.14'), Decimal('5.4156513'), Decimal('4.76'), Decimal('42.7'), Decimal('32.55'), Decimal('226713270000'), Decimal('49653000000'), Decimal('1.4083152'), Decimal('1.8'), 'http://www.sec.gov/cgi-bin/browse-edgar?action=getcompany&CIK=T'], ['ADSK', 'Autodesk Inc', 'Information Technology', Decimal('104.81'), Decimal('-77.07'), Decimal('0'), Decimal('-2.61'), Decimal('131.1'), Decimal('81.75'), Decimal('24348294504'), Decimal('-378100000'), Decimal('16.50682'), Decimal('224.13'), 'http://www.sec.gov/cgi-bin/browse-edgar?action=getcompany&CIK=ADSK'], ['ADP', 'Automatic Data Processing', 'Information Technology', Decimal('108.25'), Decimal('29.34'), Decimal('2.2190912'), Decimal('3.85'), Decimal('125.24'), Decimal('95.5'), Decimal('50337702249'), Decimal('2767400000'), Decimal('4.0483294'), Decimal('12.86'), 'http://www.sec.gov/cgi-bin/browse-edgar?action=getcompany&CIK=ADP'], ['AZO', 'AutoZone Inc', 'Consumer Discretionary', Decimal('718.57'), Decimal('16.31'), Decimal('0'), Decimal('44.09'), Decimal('797.89'), Decimal('491.13'), Decimal('19922021415'), Decimal('2347304000'), Decimal('1.8510429'), Decimal('136.23'), 'http://www.sec.gov/cgi-bin/browse-edgar?action=getcompany&CIK=AZO'], ['AVB', 'AvalonBay Communities, Inc.', 'Real Estate', Decimal('154.94'), Decimal('17.97'), Decimal('3.7149355'), Decimal('6.36'), Decimal('199.52'), Decimal('156.01'), Decimal('21856547430'), Decimal('1331579000'), Decimal('10.251216'), Decimal('2.12'), 'http://www.sec.gov/cgi-bin/browse-edgar?action=getcompany&CIK=AVB'], ['AVY', 'Avery Dennison Corp', 'Materials', Decimal('110.77'), Decimal('22.11'), Decimal('1.5682175'), Decimal('3.11'), Decimal('123.67'), Decimal('78.471'), Decimal('10104814319'), Decimal('831200000'), Decimal('1.5206499'), Decimal('8.83'), 'http://www.sec.gov/cgi-bin/browse-edgar?action=getcompany&CIK=AVY'], ['BHGE', 'Baker Hughes, a GE Company', 'Energy', Decimal('27.5'), Decimal('305.56'), Decimal('2.4991322'), Decimal('-0.31'), Decimal('57.73'), Decimal('28.03'), Decimal('32995712852'), Decimal('285000000'), Decimal('1.9390045'), Decimal('2.25'), 'http://www.sec.gov/cgi-bin/browse-edgar?action=getcompany&CIK=BHGE'], ['BLL', 'Ball Corp', 'Materials', Decimal('38.44'), Decimal('20.56'), Decimal('1.0170354'), Decimal('0.85'), Decimal('43.24'), Decimal('35.6'), Decimal('13767688518'), Decimal('1317000000'), Decimal('1.5696399'), Decimal('3.62'), 'http://www.sec.gov/cgi-bin/browse-edgar?action=getcompany&CIK=BLL'], ['BAC', 'Bank of America Corp', 'Financials', Decimal('29.74'), Decimal('16.34'), Decimal('1.536'), Decimal('1.55'), Decimal('32.67'), Decimal('22.07'), Decimal('321478200969'), Decimal('0'), Decimal('3.2011874'), Decimal('1.24'), 'http://www.sec.gov/cgi-bin/browse-edgar?action=getcompany&CIK=BAC'], ['BAX', 'Baxter International Inc.', 'Health Care', Decimal('62.56'), Decimal('25.12'), Decimal('0.97635394'), Decimal('1.29'), Decimal('72.58'), Decimal('48.15'), Decimal('35713732553'), Decimal('1832000000'), Decimal('3.4394414'), Decimal('3.77'), 'http://www.sec.gov/cgi-bin/browse-edgar?action=getcompany&CIK=BAX'], ['BBT', 'BB&T Corporation', 'Financials', Decimal('51.07'), Decimal('16.26'), Decimal('2.4526198'), Decimal('2.74'), Decimal('55.99'), Decimal('41.17'), Decimal('42087562920'), Decimal('0'), Decimal('3.4552107'), Decimal('1.55'), 'http://www.sec.gov/cgi-bin/browse-edgar?action=getcompany&CIK=BBT'], ['BDX', 'Becton Dickinson', 'Health Care', Decimal('211.44'), Decimal('22.28'), Decimal('1.3518385'), Decimal('4.65'), Decimal('248.3888'), Decimal('175.66'), Decimal('50910180308'), Decimal('1537000000'), Decimal('5.6912947'), Decimal('3.98'), 'http://www.sec.gov/cgi-bin/browse-edgar?action=getcompany&CIK=BDX'], ['BRK.B', 'Berkshire Hathaway', 'Financials', Decimal('191.42'), Decimal('30.43'), Decimal('0'), Decimal('9.76'), Decimal('217.62'), Decimal('160.93'), Decimal('261401203633'), Decimal('0'), Decimal('1.4328232'), Decimal('1.58'), 'http://www.sec.gov/cgi-bin/browse-edgar?action=getcompany&CIK=BRK.B'], ['BBY', 'Best Buy Co. Inc.', 'Consumer Discretionary', Decimal('68.79'), Decimal('19.22'), Decimal('1.9085041'), Decimal('3.81'), Decimal('78.59'), Decimal('41.67'), Decimal('20831186176'), Decimal('2555000000'), Decimal('0.76715523'), Decimal('4.79'), 'http://www.sec.gov/cgi-bin/browse-edgar?action=getcompany&CIK=BBY'], ['BIIB', 'Biogen Inc.', 'Health Care', Decimal('311.79'), Decimal('14.3'), Decimal('0'), Decimal('11.94'), Decimal('370.57'), Decimal('244.28'), Decimal('69157726427'), Decimal('6511400000'), Decimal('5.737439'), Decimal('5.51'), 'http://www.sec.gov/cgi-bin/browse-edgar?action=getcompany&CIK=BIIB'], ['BLK', 'BlackRock', 'Financials', Decimal('509.38'), Decimal('22.49'), Decimal('2.1643558'), Decimal('30.3'), Decimal('594.52'), Decimal('368'), Decimal('85907759858'), Decimal('5684000000'), Decimal('6.9158196'), Decimal('2.95'), 'http://www.sec.gov/cgi-bin/browse-edgar?action=getcompany&CIK=BLK'], ['HRB', 'Block H&R', 'Financials', Decimal('25.19'), Decimal('12.29'), Decimal('3.7296038'), Decimal('1.92'), Decimal('31.8'), Decimal('19.85'), Decimal('5381433872'), Decimal('894754000'), Decimal('2.0188456'), Decimal('205.41'), 'http://www.sec.gov/cgi-bin/browse-edgar?action=getcompany&CIK=HRB'], ['BA', 'Boeing Company', 'Industrials', Decimal('329.66'), Decimal('27.29'), Decimal('1.9648397'), Decimal('13.47'), Decimal('361.45'), Decimal('163.69'), Decimal('205617405233'), Decimal('12476000000'), Decimal('2.1560605'), Decimal('182.86'), 'http://www.sec.gov/cgi-bin/browse-edgar?action=getcompany&CIK=BA'], ['BWA', 'BorgWarner', 'Consumer Discretionary', Decimal('51.94'), Decimal('14.15'), Decimal('1.2363636'), Decimal('0.55'), Decimal('58.22'), Decimal('37.54'), Decimal('11596117445'), Decimal('867900000'), Decimal('1.5831376'), Decimal('2.89'), 'http://www.sec.gov/cgi-bin/browse-edgar?action=getcompany&CIK=BWA'], ['BXP', 'Boston Properties', 'Real Estate', Decimal('112.09'), Decimal('18.05'), Decimal('2.7744062'), Decimal('2.93'), Decimal('140.13'), Decimal('111.87'), Decimal('17799878487'), Decimal('1546846000'), Decimal('6.839459'), Decimal('3.15'), 'http://www.sec.gov/cgi-bin/browse-edgar?action=getcompany&CIK=BXP'], ['BSX', 'Boston Scientific', 'Health Care', Decimal('25.2'), Decimal('20'), Decimal('0'), Decimal('0.07'), Decimal('29.93'), Decimal('23.29'), Decimal('36142506007'), Decimal('1726000000'), Decimal('4.055685'), Decimal('4.78'), 'http://www.sec.gov/cgi-bin/browse-edgar?action=getcompany&CIK=BSX'], ['BHF', 'Brighthouse Financial Inc', 'Financials', Decimal('55.44'), Decimal('22.63'), Decimal('0'), Decimal('-24.62'), Decimal('75'), Decimal('52.751'), Decimal('7066613254'), Decimal('0'), Decimal('1.4188358'), Decimal('0.51'), 'http://www.sec.gov/cgi-bin/browse-edgar?action=getcompany&CIK=BHF'], ['BMY', 'Bristol-Myers Squibb', 'Health Care', Decimal('62.69'), Decimal('20.83'), Decimal('2.5546863'), Decimal('2.65'), Decimal('66.1'), Decimal('51.12'), Decimal('102506501960'), Decimal('5170000000'), Decimal('6.503231'), Decimal('6.75'), 'http://www.sec.gov/cgi-bin/browse-edgar?action=getcompany&CIK=BMY'], ['AVGO', 'Broadcom', 'Information Technology', Decimal('229.57'), Decimal('15.94'), Decimal('2.9488583'), Decimal('4.01'), Decimal('285.68'), Decimal('202.61'), Decimal('92791974933'), Decimal('7016000000'), Decimal('6.961893'), Decimal('4.4'), 'http://www.sec.gov/cgi-bin/browse-edgar?action=getcompany&CIK=AVGO'], ['BF.B', 'Brown-Forman Corp.', 'Consumer Staples', Decimal('63.33'), Decimal('37.04'), Decimal('1.1216964'), Decimal('1.7'), Decimal('69.9028'), Decimal('45.415'), Decimal('5498033502'), Decimal('1139000000'), Decimal('1.8411398'), Decimal('12.36'), 'http://www.sec.gov/cgi-bin/browse-edgar?action=getcompany&CIK=BF.B'], ['CHRW', 'C. H. Robinson Worldwide', 'Industrials', Decimal('90.47'), Decimal('26'), Decimal('1.987685'), Decimal('3.57'), Decimal('100.18'), Decimal('63.41'), Decimal('12932483889'), Decimal('868096000'), Decimal('0.85282737'), Decimal('9.31'), 'http://www.sec.gov/cgi-bin/browse-edgar?action=getcompany&CIK=CHRW'], ['CA', 'CA, Inc.', 'Information Technology', Decimal('32.66'), Decimal('14.32'), Decimal('3'), Decimal('1.85'), Decimal('36.56'), Decimal('30.45'), Decimal('14175422936'), Decimal('1613000000'), Decimal('3.3742425'), Decimal('2.44'), 'http://www.sec.gov/cgi-bin/browse-edgar?action=getcompany&CIK=CA'], ['COG', 'Cabot Oil & Gas', 'Energy', Decimal('23.01'), Decimal('60.55'), Decimal('1.0269576'), Decimal('-0.92'), Decimal('29.57'), Decimal('21.4'), Decimal('10808821635'), Decimal('404951000'), Decimal('8.636729'), Decimal('4.21'), 'http://www.sec.gov/cgi-bin/browse-edgar?action=getcompany&CIK=COG'], ['CDNS', 'Cadence Design Systems', 'Information Technology', Decimal('36.82'), Decimal('34.09'), Decimal('0'), Decimal('0.74'), Decimal('46'), Decimal('29.01'), Decimal('10890625200'), Decimal('455607000'), Decimal('5.751737'), Decimal('10.98'), 'http://www.sec.gov/cgi-bin/browse-edgar?action=getcompany&CIK=CDNS'], ['CPB', 'Campbell Soup', 'Consumer Staples', Decimal('44.83'), Decimal('14.84'), Decimal('3.125'), Decimal('2.89'), Decimal('64.23'), Decimal('43.5'), Decimal('13467193376'), Decimal('1683000000'), Decimal('2.3898203'), Decimal('7.91'), 'http://www.sec.gov/cgi-bin/browse-edgar?action=getcompany&CIK=CPB'], ['COF', 'Capital One Financial', 'Financials', Decimal('91.8'), Decimal('11.85'), Decimal('1.6306564'), Decimal('3.45'), Decimal('106.5'), Decimal('76.05'), Decimal('47637260000'), Decimal('0'), Decimal('1.5931405'), Decimal('0.94'), 'http://www.sec.gov/cgi-bin/browse-edgar?action=getcompany&CIK=COF'], ['CAH', 'Cardinal Health Inc.', 'Health Care', Decimal('66.63'), Decimal('12.29'), Decimal('2.8394227'), Decimal('4.04'), Decimal('84.88'), Decimal('54.66'), Decimal('20493281175'), Decimal('1913000000'), Decimal('0.21131156'), Decimal('3.03'), 'http://www.sec.gov/cgi-bin/browse-edgar?action=getcompany&CIK=CAH'], ['KMX', 'Carmax Inc', 'Consumer Discretionary', Decimal('64.34'), Decimal('19.44'), Decimal('0'), Decimal('3.97'), Decimal('77.64'), Decimal('54.29'), Decimal('11827453706'), Decimal('1339628000'), Decimal('0.6913859'), Decimal('3.55'), 'http://www.sec.gov/cgi-bin/browse-edgar?action=getcompany&CIK=KMX'], ['CCL', 'Carnival Corp.', 'Consumer Discretionary', Decimal('66.76'), Decimal('17.48'), Decimal('2.6041667'), Decimal('3.58'), Decimal('72.7'), Decimal('54.75'), Decimal('49180044050'), Decimal('4711000000'), Decimal('2.8147783'), Decimal('2'), 'http://www.sec.gov/cgi-bin/browse-edgar?action=getcompany&CIK=CCL'], ['CAT', 'Caterpillar Inc.', 'Industrials', Decimal('145.99'), Decimal('21.22'), Decimal('2.0215108'), Decimal('1.26'), Decimal('173.24'), Decimal('90.34'), Decimal('91822049046'), Decimal('8136000000'), Decimal('2.0468428'), Decimal('5.75'), 'http://www.sec.gov/cgi-bin/browse-edgar?action=getcompany&CIK=CAT'], ['CBOE', 'CBOE Holdings', 'Financials', Decimal('111.15'), Decimal('35.06'), Decimal('0.9426963'), Decimal('2.27'), Decimal('138.54'), Decimal('76.75'), Decimal('12998295607'), Decimal('488406000'), Decimal('8.249042'), Decimal('5.15'), 'http://www.sec.gov/cgi-bin/browse-edgar?action=getcompany&CIK=CBOE'], ['CBG', 'CBRE Group', 'Real Estate', Decimal('41.92'), Decimal('15.82'), Decimal('0'), Decimal('1.69'), Decimal('46.6'), Decimal('30.43'), Decimal('14440591731'), Decimal('1652961000'), Decimal('1.4622321'), Decimal('3.74'), 'http://www.sec.gov/cgi-bin/browse-edgar?action=getcompany&CIK=CBG'], ['CBS', 'CBS Corp.', 'Consumer Discretionary', Decimal('51.8'), Decimal('12.05'), Decimal('1.3473054'), Decimal('2.81'), Decimal('70.095'), Decimal('52.75'), Decimal('20431395736'), Decimal('2841000000'), Decimal('2.1055017'), Decimal('6.91'), 'http://www.sec.gov/cgi-bin/browse-edgar?action=getcompany&CIK=CBS'], ['CELG', 'Celgene Corp.', 'Health Care', Decimal('91.02'), Decimal('13.27'), Decimal('0'), Decimal('3.58'), Decimal('147.17'), Decimal('92.85'), Decimal('74921079154'), Decimal('5233000000'), Decimal('5.830071'), Decimal('7.49'), 'http://www.sec.gov/cgi-bin/browse-edgar?action=getcompany&CIK=CELG'], ['CNC', 'Centene Corporation', 'Health Care', Decimal('100.36'), Decimal('19.12'), Decimal('0'), Decimal('3.23'), Decimal('112.42'), Decimal('65.03'), Decimal('18012494506'), Decimal('2063000000'), Decimal('0.5028663'), Decimal('2.58'), 'http://www.sec.gov/cgi-bin/browse-edgar?action=getcompany&CIK=CNC'], ['CNP', 'CenterPoint Energy', 'Utilities', Decimal('25.85'), Decimal('19.73'), Decimal('4.2109256'), Decimal('1'), Decimal('30.45'), Decimal('25.51'), Decimal('11362043297'), Decimal('2337000000'), Decimal('1.6262617'), Decimal('3.21'), 'http://www.sec.gov/cgi-bin/browse-edgar?action=getcompany&CIK=CNP'], ['CTL', 'CenturyLink Inc', 'Telecommunication Services', Decimal('16.2'), Decimal('8.35'), Decimal('12.661196'), Decimal('1.16'), Decimal('27.61'), Decimal('13.161'), Decimal('18237196861'), Decimal('5577000000'), Decimal('1.4795984'), Decimal('1.39'), 'http://www.sec.gov/cgi-bin/browse-edgar?action=getcompany&CIK=CTL'], ['CERN', 'Cerner', 'Health Care', Decimal('61.22'), Decimal('27.09'), Decimal('0'), Decimal('1.84'), Decimal('73.86'), Decimal('51.2617'), Decimal('21101697598'), Decimal('1523440000'), Decimal('5.5560412'), Decimal('4.62'), 'http://www.sec.gov/cgi-bin/browse-edgar?action=getcompany&CIK=CERN'], ['CF', 'CF Industries Holdings Inc', 'Materials', Decimal('37.46'), Decimal('-59.46'), Decimal('3.0395136'), Decimal('-1.2'), Decimal('43.98'), Decimal('25.04'), Decimal('9209106695'), Decimal('711000000'), Decimal('3.0044448'), Decimal('2.81'), 'http://www.sec.gov/cgi-bin/browse-edgar?action=getcompany&CIK=CF'], ['SCHW', 'Charles Schwab Corporation', 'Financials', Decimal('48.9'), Decimal('29.82'), Decimal('0.76878726'), Decimal('1.61'), Decimal('56.25'), Decimal('37.16'), Decimal('69750188843'), Decimal('0'), Decimal('7.949615'), Decimal('4.51'), 'http://www.sec.gov/cgi-bin/browse-edgar?action=getcompany&CIK=SCHW'], ['CHTR', 'Charter Communications', 'Consumer Discretionary', Decimal('348.65'), Decimal('162.92'), Decimal('0'), Decimal('34.08'), Decimal('408.83'), Decimal('308.3'), Decimal('86708878113'), Decimal('14694000000'), Decimal('2.1208634'), Decimal('2.27'), 'http://www.sec.gov/cgi-bin/browse-edgar?action=getcompany&CIK=CHTR'], ['CHK', 'Chesapeake Energy', 'Energy', Decimal('2.82'), Decimal('4.7'), Decimal('0'), Decimal('-6.44'), Decimal('6.59'), Decimal('2.8'), Decimal('2626102121'), Decimal('1470000000'), Decimal('0.40765184'), Decimal('1.84'), 'http://www.sec.gov/cgi-bin/browse-edgar?action=getcompany&CIK=CHK'], ['CVX', 'Chevron Corp.', 'Energy', Decimal('112.3'), Decimal('27.52'), Decimal('3.885853'), Decimal('4.85'), Decimal('133.88'), Decimal('102.55'), Decimal('218978820159'), Decimal('28877000000'), Decimal('1.6489863'), Decimal('1.71'), 'http://www.sec.gov/cgi-bin/browse-edgar?action=getcompany&CIK=CVX'], ['CMG', 'Chipotle Mexican Grill', 'Consumer Discretionary', Decimal('266.01'), Decimal('45.86'), Decimal('0'), Decimal('0.8'), Decimal('499'), Decimal('263'), Decimal('7685283970'), Decimal('401293000'), Decimal('2.5523853'), Decimal('6.11'), 'http://www.sec.gov/cgi-bin/browse-edgar?action=getcompany&CIK=CMG'], ['CB', 'Chubb Limited', 'Financials', Decimal('140.39'), Decimal('17.5'), Decimal('1.9251627'), Decimal('8.2'), Decimal('157.5'), Decimal('130.17'), Decimal('68424670566'), Decimal('0'), Decimal('2.0985637'), Decimal('1.35'), 'http://www.sec.gov/cgi-bin/browse-edgar?action=getcompany&CIK=CB'], ['CHD', 'Church & Dwight', 'Consumer Staples', Decimal('47.38'), Decimal('24.42'), Decimal('1.8366054'), Decimal('2.92'), Decimal('54.1799'), Decimal('43.21'), Decimal('11838963451'), Decimal('868000000'), Decimal('3.1682448'), Decimal('6.28'), 'http://www.sec.gov/cgi-bin/browse-edgar?action=getcompany&CIK=CHD'], ['CI', 'CIGNA Corp.', 'Health Care', Decimal('189.27'), Decimal('18.11'), Decimal('0.020466639'), Decimal('7.2'), Decimal('227.13'), Decimal('141.93'), Decimal('47680910480'), Decimal('0'), Decimal('1.550762'), Decimal('3.39'), 'http://www.sec.gov/cgi-bin/browse-edgar?action=getcompany&CIK=CI'], ['XEC', 'Cimarex Energy', 'Energy', Decimal('100.19'), Decimal('26.37'), Decimal('0.30214334'), Decimal('-4.64'), Decimal('136.31'), Decimal('89.49'), Decimal('10089082025'), Decimal('1061056000'), Decimal('7.556446'), Decimal('4.28'), 'http://www.sec.gov/cgi-bin/browse-edgar?action=getcompany&CIK=XEC'], ['CINF', 'Cincinnati Financial', 'Financials', Decimal('70.34'), Decimal('27.48'), Decimal('2.918904'), Decimal('3.55'), Decimal('81.98'), Decimal('68.24'), Decimal('11916533018'), Decimal('0'), Decimal('2.756679'), Decimal('1.6'), 'http://www.sec.gov/cgi-bin/browse-edgar?action=getcompany&CIK=CINF'], ['CTAS', 'Cintas Corporation', 'Industrials', Decimal('149.32'), Decimal('32.75'), Decimal('1.0344827'), Decimal('4.38'), Decimal('169.96'), Decimal('113.79'), Decimal('16676145923'), Decimal('1097295000'), Decimal('2.7614057'), Decimal('6.53'), 'http://www.sec.gov/cgi-bin/browse-edgar?action=getcompany&CIK=CTAS'], ['CSCO', 'Cisco Systems', 'Information Technology', Decimal('38.77'), Decimal('17.87'), Decimal('2.8755577'), Decimal('1.91'), Decimal('42.98'), Decimal('30.36'), Decimal('199425716482'), Decimal('15447000000'), Decimal('5.484418'), Decimal('3.07'), 'http://www.sec.gov/cgi-bin/browse-edgar?action=getcompany&CIK=CSCO'], ['C', 'Citigroup Inc.', 'Financials', Decimal('71.87'), Decimal('13.48'), Decimal('1.7068943'), Decimal('-3.1'), Decimal('80.7'), Decimal('56.14'), Decimal('192709302000'), Decimal('0'), Decimal('2.1857586'), Decimal('0.9'), 'http://www.sec.gov/cgi-bin/browse-edgar?action=getcompany&CIK=C'], ['CFG', 'Citizens Financial Group', 'Financials', Decimal('42.19'), Decimal('16.04'), Decimal('1.9625335'), Decimal('3.27'), Decimal('48.23'), Decimal('31.51'), Decimal('22008050974'), Decimal('0'), Decimal('3.3917346'), Decimal('1.08'), 'http://www.sec.gov/cgi-bin/browse-edgar?action=getcompany&CIK=CFG'], ['CTXS', 'Citrix Systems', 'Information Technology', Decimal('84.53'), Decimal('20.37'), Decimal('0'), Decimal('-0.24'), Decimal('95'), Decimal('73.3346'), Decimal('13199167493'), Decimal('810268000'), Decimal('4.7538714'), Decimal('6.73'), 'http://www.sec.gov/cgi-bin/browse-edgar?action=getcompany&CIK=CTXS'], ['CME', 'CME Group Inc.', 'Financials', Decimal('153.04'), Decimal('32.15'), Decimal('3.6828613'), Decimal('11.94'), Decimal('163'), Decimal('114.8176'), Decimal('54423298745'), Decimal('2851800000'), Decimal('14.881806'), Decimal('2.51'), 'http://www.sec.gov/cgi-bin/browse-edgar?action=getcompany&CIK=CME'], ['CMS', 'CMS Energy', 'Utilities', Decimal('41.77'), Decimal('21.42'), Decimal('3.3918407'), Decimal('1.99'), Decimal('50.85'), Decimal('41.07'), Decimal('11873960824'), Decimal('2099000000'), Decimal('2.4711676'), Decimal('2.65'), 'http://www.sec.gov/cgi-bin/browse-edgar?action=getcompany&CIK=CMS'], ['KO', 'Coca-Cola Company (The)', 'Consumer Staples', Decimal('43.1'), Decimal('22.8'), Decimal('3.3213644'), Decimal('1.49'), Decimal('48.615'), Decimal('40.22'), Decimal('189855335601'), Decimal('8589000000'), Decimal('6.822138'), Decimal('8.65'), 'http://www.sec.gov/cgi-bin/browse-edgar?action=getcompany&CIK=KO'], ['CTSH', 'Cognizant Technology Solutions', 'Information Technology', Decimal('75.16'), Decimal('22.44'), Decimal('1.0454783'), Decimal('2.54'), Decimal('79.28'), Decimal('54.76'), Decimal('45119684067'), Decimal('2946000000'), Decimal('3.9678397'), Decimal('3.94'), 'http://www.sec.gov/cgi-bin/browse-edgar?action=getcompany&CIK=CTSH'], ['CL', 'Colgate-Palmolive', 'Consumer Staples', Decimal('68.95'), Decimal('24.02'), Decimal('2.2801766'), Decimal('2.28'), Decimal('77.91'), Decimal('66.26'), Decimal('61616643498'), Decimal('4064000000'), Decimal('4.000737'), Decimal('236.42'), 'http://www.sec.gov/cgi-bin/browse-edgar?action=getcompany&CIK=CL'], ['CMCSA', 'Comcast Corp.', 'Consumer Discretionary', Decimal('38.19'), Decimal('18.54'), Decimal('1.8929017'), Decimal('4.74'), Decimal('44'), Decimal('34.78'), Decimal('186476996883'), Decimal('28675000000'), Decimal('2.1797748'), Decimal('2.65'), 'http://www.sec.gov/cgi-bin/browse-edgar?action=getcompany&CIK=CMCSA'], ['CMA', 'Comerica Inc.', 'Financials', Decimal('89.18'), Decimal('18.89'), Decimal('1.2823253'), Decimal('4.13'), Decimal('98.18'), Decimal('64.04'), Decimal('16274969256'), Decimal('0'), Decimal('4.905472'), Decimal('1.96'), 'http://www.sec.gov/cgi-bin/browse-edgar?action=getcompany&CIK=CMA'], ['CAG', 'Conagra Brands', 'Consumer Staples', Decimal('35.49'), Decimal('18.2'), Decimal('2.3683476'), Decimal('1.46'), Decimal('41.68'), Decimal('32.16'), Decimal('14379717835'), Decimal('1281200000'), Decimal('1.8294994'), Decimal('3.86'), 'http://www.sec.gov/cgi-bin/browse-edgar?action=getcompany&CIK=CAG'], ['CXO', 'Concho Resources', 'Energy', Decimal('140.09'), Decimal('84.39'), Decimal('0'), Decimal('-11.04'), Decimal('162.91'), Decimal('106.73'), Decimal('22021882339'), Decimal('2151190000'), Decimal('12.271951'), Decimal('2.61'), 'http://www.sec.gov/cgi-bin/browse-edgar?action=getcompany&CIK=CXO'], ['COP', 'ConocoPhillips', 'Energy', Decimal('53.24'), Decimal('72.93'), Decimal('2.049254'), Decimal('-0.65'), Decimal('61.315'), Decimal('42.265'), Decimal('65482462410'), Decimal('5328000000'), Decimal('2.0764177'), Decimal('2.16'), 'http://www.sec.gov/cgi-bin/browse-edgar?action=getcompany&CIK=COP'], ['ED', 'Consolidated Edison', 'Utilities', Decimal('74.73'), Decimal('18.64'), Decimal('3.8001595'), Decimal('4.1'), Decimal('89.7'), Decimal('72.63'), Decimal('23335777662'), Decimal('4288000000'), Decimal('2.960244'), Decimal('1.58'), 'http://www.sec.gov/cgi-bin/browse-edgar?action=getcompany&CIK=ED'], ['STZ', 'Constellation Brands', 'Consumer Staples', Decimal('208.73'), Decimal('30.92'), Decimal('0.9712818'), Decimal('8.71'), Decimal('229.5'), Decimal('152.01'), Decimal('41697453163'), Decimal('3033300000'), Decimal('5.145596'), Decimal('5.14'), 'http://www.sec.gov/cgi-bin/browse-edgar?action=getcompany&CIK=STZ'], ['GLW', 'Corning Inc.', 'Information Technology', Decimal('28.45'), Decimal('16.45'), Decimal('2.0791416'), Decimal('-0.78'), Decimal('35.1'), Decimal('26.31'), Decimal('25759280346'), Decimal('2970000000'), Decimal('2.544682'), Decimal('1.71'), 'http://www.sec.gov/cgi-bin/browse-edgar?action=getcompany&CIK=GLW'], ['COST', 'Costco Wholesale Corp.', 'Consumer Staples', Decimal('178.61'), Decimal('30.69'), Decimal('1.0917627'), Decimal('6.09'), Decimal('199.88'), Decimal('150'), Decimal('80439804508'), Decimal('5679000000'), Decimal('0.61203885'), Decimal('7.24'), 'http://www.sec.gov/cgi-bin/browse-edgar?action=getcompany&CIK=COST'], ['COTY', 'Coty, Inc', 'Consumer Staples', Decimal('19.96'), Decimal('24.64'), Decimal('2.860412'), Decimal('-0.63'), Decimal('21.175'), Decimal('14.24'), Decimal('13101112504'), Decimal('211400000'), Decimal('2.0061796'), Decimal('1.37'), 'http://www.sec.gov/cgi-bin/browse-edgar?action=getcompany&CIK=COTY'], ['CCI', 'Crown Castle International Corp.', 'Real Estate', Decimal('103.81'), Decimal('21.45'), Decimal('3.862069'), Decimal('1.02'), Decimal('114.97'), Decimal('86.93'), Decimal('44183023189'), Decimal('2292600000'), Decimal('10.125291'), Decimal('3.54'), 'http://www.sec.gov/cgi-bin/browse-edgar?action=getcompany&CIK=CCI'], ['CSRA', 'CSRA Inc.', 'Information Technology', Decimal('30.85'), Decimal('15.12'), Decimal('1.275917'), Decimal('1.83'), Decimal('33.79'), Decimal('27.38'), Decimal('5134501276'), Decimal('543000000'), Decimal('1.3324839'), Decimal('11.37'), 'http://www.sec.gov/cgi-bin/browse-edgar?action=getcompany&CIK=CSRA'], ['CSX', 'CSX Corp.', 'Industrials', Decimal('50.47'), Decimal('21.94'), Decimal('1.5102888'), Decimal('6.07'), Decimal('60.04'), Decimal('45.41'), Decimal('47340511707'), Decimal('5003000000'), Decimal('4.216355'), Decimal('4.27'), 'http://www.sec.gov/cgi-bin/browse-edgar?action=getcompany&CIK=CSX'], ['CMI', 'Cummins Inc.', 'Industrials', Decimal('165.73'), Decimal('16.83'), Decimal('2.5008683'), Decimal('8.23'), Decimal('194.18'), Decimal('143.8301'), Decimal('28669230787'), Decimal('2924000000'), Decimal('1.9406168'), Decimal('3.89'), 'http://www.sec.gov/cgi-bin/browse-edgar?action=getcompany&CIK=CMI'], ['CVS', 'CVS Health', 'Consumer Staples', Decimal('70.55'), Decimal('12.36'), Decimal('2.6899798'), Decimal('4.91'), Decimal('84'), Decimal('66.45'), Decimal('75323141722'), Decimal('11704000000'), Decimal('0.549852'), Decimal('2.13'), 'http://www.sec.gov/cgi-bin/browse-edgar?action=getcompany&CIK=CVS'], ['DHI', 'D. R. Horton', 'Consumer Discretionary', Decimal('44.55'), Decimal('16.32'), Decimal('1.0801469'), Decimal('2.73'), Decimal('53.32'), Decimal('29.3716'), Decimal('17390873686'), Decimal('1691000000'), Decimal('1.1931022'), Decimal('2.17'), 'http://www.sec.gov/cgi-bin/browse-edgar?action=getcompany&CIK=DHI'], ['DHR', 'Danaher Corp.', 'Health Care', Decimal('92.16'), Decimal('22.87'), Decimal('0.5879265'), Decimal('3.53'), Decimal('104.82'), Decimal('78.97'), Decimal('66351150000'), Decimal('4339800000'), Decimal('3.688278'), Decimal('2.65'), 'http://www.sec.gov/cgi-bin/browse-edgar?action=getcompany&CIK=DHR'], ['DRI', 'Darden Restaurants', 'Consumer Discretionary', Decimal('91.33'), Decimal('22.72'), Decimal('2.6503997'), Decimal('3.81'), Decimal('100.11'), Decimal('71.7'), Decimal('11745595320'), Decimal('997600000'), Decimal('1.5278828'), Decimal('5.89'), 'http://www.sec.gov/cgi-bin/browse-edgar?action=getcompany&CIK=DRI'], ['DVA', 'DaVita Inc.', 'Health Care', Decimal('71.91'), Decimal('20.55'), Decimal('0'), Decimal('4.3'), Decimal('80.71'), Decimal('52.51'), Decimal('13685178000'), Decimal('2252294000'), Decimal('1.1451397'), Decimal('2.79'), 'http://www.sec.gov/cgi-bin/browse-edgar?action=getcompany&CIK=DVA'], ['DE', 'Deere & Co.', 'Industrials', Decimal('153.66'), Decimal('23.14'), Decimal('1.4866204'), Decimal('6.64'), Decimal('171.96'), Decimal('106.72'), Decimal('52186628646'), Decimal('4053300000'), Decimal('2.3746448'), Decimal('5.31'), 'http://www.sec.gov/cgi-bin/browse-edgar?action=getcompany&CIK=DE'], ['DAL', 'Delta Air Lines Inc.', 'Industrials', Decimal('51.23'), Decimal('10.37'), Decimal('2.2655525'), Decimal('4.94'), Decimal('60.79'), Decimal('43.81'), Decimal('38393603535'), Decimal('8348000000'), Decimal('0.91792434'), Decimal('2.67'), 'http://www.sec.gov/cgi-bin/browse-edgar?action=getcompany&CIK=DAL'], ['XRAY', 'Dentsply Sirona', 'Health Care', Decimal('56.85'), Decimal('22.65'), Decimal('0.60034305'), Decimal('1.99'), Decimal('68.98'), Decimal('52.535'), Decimal('13390513478'), Decimal('-411100000'), Decimal('4.626262'), Decimal('1.8'), 'http://www.sec.gov/cgi-bin/browse-edgar?action=getcompany&CIK=XRAY'], ['DVN', 'Devon Energy Corp.', 'Energy', Decimal('34.94'), Decimal('23.93'), Decimal('0.6528836'), Decimal('-6.89'), Decimal('47.25'), Decimal('28.7947'), Decimal('19317380000'), Decimal('3723000000'), Decimal('2.0660408'), Decimal('2.85'), 'http://www.sec.gov/cgi-bin/browse-edgar?action=getcompany&CIK=DVN'], ['DLR', 'Digital Realty Trust Inc', 'Real Estate', Decimal('98.96'), Decimal('16.55'), Decimal('3.5710857'), Decimal('2.19'), Decimal('127.23'), Decimal('101.101'), Decimal('21400952517'), Decimal('1260662000'), Decimal('12.434961'), Decimal('2.32'), 'http://www.sec.gov/cgi-bin/browse-edgar?action=getcompany&CIK=DLR'], ['DFS', 'Discover Financial Services', 'Financials', Decimal('72.4'), Decimal('12.13'), Decimal('1.8269607'), Decimal('5.41'), Decimal('81.93'), Decimal('57.5'), Decimal('27433540000'), Decimal('0'), Decimal('2.3610325'), Decimal('2.52'), 'http://www.sec.gov/cgi-bin/browse-edgar?action=getcompany&CIK=DFS'], ['DISCA', 'Discovery Communications-A', 'Consumer Discretionary', Decimal('22.87'), Decimal('11'), Decimal('0'), Decimal('1.96'), Decimal('30.25'), Decimal('15.99'), Decimal('8763756733'), Decimal('2100000000'), Decimal('1.804088'), Decimal('1.5'), 'http://www.sec.gov/cgi-bin/browse-edgar?action=getcompany&CIK=DISCA'], ['DISCK', 'Discovery Communications-C', 'Consumer Discretionary', Decimal('21.58'), Decimal('10.37'), Decimal('0'), Decimal('1.96'), Decimal('29.18'), Decimal('14.99'), Decimal('8320262123'), Decimal('2100000000'), Decimal('1.7147918'), Decimal('1.43'), 'http://www.sec.gov/cgi-bin/browse-edgar?action=getcompany&CIK=DISCK'], ['DISH', 'Dish Network', 'Consumer Discretionary', Decimal('43.77'), Decimal('16.09'), Decimal('0'), Decimal('3.06'), Decimal('66.5'), Decimal('42.48'), Decimal('21032719056'), Decimal('2754331000'), Decimal('1.8521843'), Decimal('3.76'), 'http://www.sec.gov/cgi-bin/browse-edgar?action=getcompany&CIK=DISH'], ['DG', 'Dollar General', 'Consumer Discretionary', Decimal('95.1'), Decimal('21.18'), Decimal('1.0625255'), Decimal('4.43'), Decimal('105.82'), Decimal('65.97'), Decimal('26580644874'), Decimal('2457604000'), Decimal('1.5283886'), Decimal('4.53'), 'http://www.sec.gov/cgi-bin/browse-edgar?action=getcompany&CIK=DG'], ['DLTR', 'Dollar Tree', 'Consumer Discretionary', Decimal('101.58'), Decimal('26.66'), Decimal('0'), Decimal('3.77'), Decimal('116.65'), Decimal('65.63'), Decimal('25151198417'), Decimal('2430300000'), Decimal('1.6097589'), Decimal('4.08'), 'http://www.sec.gov/cgi-bin/browse-edgar?action=getcompany&CIK=DLTR'], ['D', 'Dominion Energy', 'Utilities', Decimal('73.31'), Decimal('20.42'), Decimal('4.5281997'), Decimal('4.91'), Decimal('85.3'), Decimal('71.59'), Decimal('47543571860'), Decimal('6428000000'), Decimal('3.7954214'), Decimal('2.96'), 'http://www.sec.gov/cgi-bin/browse-edgar?action=getcompany&CIK=D'], ['DOV', 'Dover Corp.', 'Industrials', Decimal('96.2'), Decimal('23.87'), Decimal('1.8815053'), Decimal('5.15'), Decimal('109.06'), Decimal('75.51'), Decimal('15566645713'), Decimal('1513291000'), Decimal('1.986176'), Decimal('3.59'), 'http://www.sec.gov/cgi-bin/browse-edgar?action=getcompany&CIK=DOV'], ['DWDP', 'DowDuPont', 'Materials', Decimal('68.21'), Decimal('49.43'), Decimal('2.1529746'), Decimal('1.59'), Decimal('77.08'), Decimal('64.01'), Decimal('165203312427'), Decimal('5250000000'), Decimal('2.6922395'), Decimal('1.54'), 'http://www.sec.gov/cgi-bin/browse-edgar?action=getcompany&CIK=DWDP'], ['DPS', 'Dr Pepper Snapple Group', 'Consumer Staples', Decimal('116.93'), Decimal('26.57'), Decimal('1.9661016'), Decimal('4.54'), Decimal('126.65'), Decimal('83.23'), Decimal('21209783858'), Decimal('1507000000'), Decimal('4.2149186'), Decimal('9.99'), 'http://www.sec.gov/cgi-bin/browse-edgar?action=getcompany&CIK=DPS'], ['DTE', 'DTE Energy Co.', 'Utilities', Decimal('98.49'), Decimal('19.12'), Decimal('3.5559585'), Decimal('4.82'), Decimal('116.74'), Decimal('96.56'), Decimal('17808073691'), Decimal('2790000000'), Decimal('1.9091922'), Decimal('1.95'), 'http://www.sec.gov/cgi-bin/browse-edgar?action=getcompany&CIK=DTE'], ['DUK', 'Duke Energy', 'Utilities', Decimal('74.32'), Decimal('16.7'), Decimal('4.7849464'), Decimal('3.12'), Decimal('91.8'), Decimal('72.93'), Decimal('52078185682'), Decimal('9895000000'), Decimal('2.9348857'), Decimal('1.27'), 'http://www.sec.gov/cgi-bin/browse-edgar?action=getcompany&CIK=DUK'], ['DRE', 'Duke Realty Corp', 'Real Estate', Decimal('24.52'), Decimal('19.77'), Decimal('3.1533308'), Decimal('0.88'), Decimal('30.14'), Decimal('24.73'), Decimal('9035293365'), Decimal('529483000'), Decimal('16.077257'), Decimal('1.94'), 'http://www.sec.gov/cgi-bin/browse-edgar?action=getcompany&CIK=DRE'], ['DXC', 'DXC Technology', 'Information Technology', Decimal('91.92'), Decimal('79.93'), Decimal('0.7493755'), Decimal('-0.89'), Decimal('102.95'), Decimal('67.76'), Decimal('27408621020'), Decimal('1628000000'), Decimal('1.9598055'), Decimal('2.26'), 'http://www.sec.gov/cgi-bin/browse-edgar?action=getcompany&CIK=DXC'], ['ETFC', 'E*Trade', 'Financials', Decimal('48.48'), Decimal('22.14'), Decimal('0'), Decimal('2.15'), Decimal('56'), Decimal('32.25'), Decimal('13754977266'), Decimal('0'), Decimal('5.689136'), Decimal('2.15'), 'http://www.sec.gov/cgi-bin/browse-edgar?action=getcompany&CIK=ETFC'], ['EMN', 'Eastman Chemical', 'Materials', Decimal('93.57'), Decimal('12.28'), Decimal('2.2630835'), Decimal('10.12'), Decimal('104.08'), Decimal('76.02'), Decimal('14226830813'), Decimal('2152000000'), Decimal('1.4904785'), Decimal('2.78'), 'http://www.sec.gov/cgi-bin/browse-edgar?action=getcompany&CIK=EMN'], ['ETN', 'Eaton Corporation', 'Industrials', Decimal('79.41'), Decimal('17.08'), Decimal('2.9404557'), Decimal('6.68'), Decimal('89.85'), Decimal('69.45'), Decimal('35961772000'), Decimal('4253000000'), Decimal('1.8161736'), Decimal('2.17'), 'http://www.sec.gov/cgi-bin/browse-edgar?action=getcompany&CIK=ETN'], ['EBAY', 'eBay Inc.', 'Information Technology', Decimal('41.02'), Decimal('24.86'), Decimal('0'), Decimal('-1.07'), Decimal('46.99'), Decimal('31.89'), Decimal('44216696399'), Decimal('2941000000'), Decimal('4.6720185'), Decimal('3.8'), 'http://www.sec.gov/cgi-bin/browse-edgar?action=getcompany&CIK=EBAY'], ['ECL', 'Ecolab Inc.', 'Materials', Decimal('127.76'), Decimal('28.08'), Decimal('1.2319711'), Decimal('4.14'), Decimal('140.5'), Decimal('119.61'), Decimal('38460272282'), Decimal('2848600000'), Decimal('3.7360687'), Decimal('5.28'), 'http://www.sec.gov/cgi-bin/browse-edgar?action=getcompany&CIK=ECL'], ['EIX', \"Edison Int'l\", 'Utilities', Decimal('58.07'), Decimal('13.23'), Decimal('4.0542803'), Decimal('3.96'), Decimal('83.38'), Decimal('58.76'), Decimal('19447670886'), Decimal('4284000000'), Decimal('2.161095'), Decimal('1.59'), 'http://www.sec.gov/cgi-bin/browse-edgar?action=getcompany&CIK=EIX'], ['EW', 'Edwards Lifesciences', 'Health Care', Decimal('123.78'), Decimal('32.57'), Decimal('0'), Decimal('2.88'), Decimal('138.48'), Decimal('89.2'), Decimal('27447099863'), Decimal('1156700000'), Decimal('7.8283277'), Decimal('8.48'), 'http://www.sec.gov/cgi-bin/browse-edgar?action=getcompany&CIK=EW'], ['EA', 'Electronic Arts', 'Information Technology', Decimal('116.54'), Decimal('34.48'), Decimal('0'), Decimal('3.07'), Decimal('131.01'), Decimal('81.27'), Decimal('37890226992'), Decimal('1560000000'), Decimal('7.4415817'), Decimal('8.54'), 'http://www.sec.gov/cgi-bin/browse-edgar?action=getcompany&CIK=EA'], ['EMR', 'Emerson Electric Company', 'Industrials', Decimal('66.4'), Decimal('25.74'), Decimal('2.813225'), Decimal('2.35'), Decimal('74.45'), Decimal('56.77'), Decimal('44040298425'), Decimal('2542000000'), Decimal('3.6707752'), Decimal('5.01'), 'http://www.sec.gov/cgi-bin/browse-edgar?action=getcompany&CIK=EMR'], ['ETR', 'Entergy Corp.', 'Utilities', Decimal('72.02'), Decimal('10.65'), Decimal('4.892126'), Decimal('-3.26'), Decimal('87.95'), Decimal('69.63'), Decimal('13116894887'), Decimal('880700000'), Decimal('1.5543115'), Decimal('1.54'), 'http://www.sec.gov/cgi-bin/browse-edgar?action=getcompany&CIK=ETR'], ['EVHC', 'Envision Healthcare', 'Health Care', Decimal('35.34'), Decimal('10.91'), Decimal('0'), Decimal('-0.48'), Decimal('73'), Decimal('23.77'), Decimal('4212729247'), Decimal('827200000'), Decimal('1.227099'), Decimal('0.64'), 'http://www.sec.gov/cgi-bin/browse-edgar?action=getcompany&CIK=EVHC'], ['EOG', 'EOG Resources', 'Energy', Decimal('101.04'), Decimal('246.44'), Decimal('0.63339007'), Decimal('-1.98'), Decimal('119'), Decimal('81.99'), Decimal('61164030149'), Decimal('3692749000'), Decimal('8.02302'), Decimal('4.55'), 'http://www.sec.gov/cgi-bin/browse-edgar?action=getcompany&CIK=EOG'], ['EQT', 'EQT Corporation', 'Energy', Decimal('46.25'), Decimal('53.16'), Decimal('0.2518363'), Decimal('-2.69'), Decimal('67.84'), Decimal('47.13'), Decimal('12638828950'), Decimal('1518305000'), Decimal('6.4987307'), Decimal('2.15'), 'http://www.sec.gov/cgi-bin/browse-edgar?action=getcompany&CIK=EQT'], ['EFX', 'Equifax Inc.', 'Industrials', Decimal('114'), Decimal('19.03'), Decimal('1.3265306'), Decimal('4.04'), Decimal('147.02'), Decimal('90.72'), Decimal('14121334618'), Decimal('1141200000'), Decimal('5.6338058'), Decimal('4.59'), 'http://www.sec.gov/cgi-bin/browse-edgar?action=getcompany&CIK=EFX'], ['EQIX', 'Equinix', 'Real Estate', Decimal('409.98'), Decimal('23.06'), Decimal('1.8775817'), Decimal('1.77'), Decimal('495.345'), Decimal('361.9'), Decimal('33333813618'), Decimal('1687152000'), Decimal('10.639136'), Decimal('5.14'), 'http://www.sec.gov/cgi-bin/browse-edgar?action=getcompany&CIK=EQIX'], ['EQR', 'Equity Residential', 'Real Estate', Decimal('55.26'), Decimal('17.6'), Decimal('3.5437918'), Decimal('1.63'), Decimal('70.455'), Decimal('56.07'), Decimal('20925508143'), Decimal('1710686000'), Decimal('8.593619'), Decimal('2.09'), 'http://www.sec.gov/cgi-bin/browse-edgar?action=getcompany&CIK=EQR'], ['ESS', 'Essex Property Trust, Inc.', 'Real Estate', Decimal('218.28'), Decimal('18.66'), Decimal('3.2138102'), Decimal('6.27'), Decimal('270.04'), Decimal('214.03'), Decimal('14383525286'), Decimal('1237886000'), Decimal('14.1830845'), Decimal('2.3'), 'http://www.sec.gov/cgi-bin/browse-edgar?action=getcompany&CIK=ESS'], ['EL', 'Estee Lauder Cos.', 'Consumer Staples', Decimal('131.46'), Decimal('37.78'), Decimal('1.1283498'), Decimal('3.35'), Decimal('138.74'), Decimal('81.69'), Decimal('49543264457'), Decimal('2478000000'), Decimal('3.9522583'), Decimal('10.82'), 'http://www.sec.gov/cgi-bin/browse-edgar?action=getcompany&CIK=EL'], ['RE', 'Everest Re Group Ltd.', 'Financials', Decimal('241.06'), Decimal('27.24'), Decimal('2.1078234'), Decimal('23.71'), Decimal('277.17'), Decimal('208.81'), Decimal('10131892523'), Decimal('0'), Decimal('2.0991988'), Decimal('1.16'), 'http://www.sec.gov/cgi-bin/browse-edgar?action=getcompany&CIK=RE'], ['ES', 'Eversource Energy', 'Utilities', Decimal('56.11'), Decimal('18.22'), Decimal('3.3397784'), Decimal('2.96'), Decimal('66.15'), Decimal('55.2'), Decimal('18027633617'), Decimal('2738713000'), Decimal('3.1134193'), Decimal('1.68'), 'http://www.sec.gov/cgi-bin/browse-edgar?action=getcompany&CIK=ES'], ['EXC', 'Exelon Corp.', 'Utilities', Decimal('35.98'), Decimal('14.51'), Decimal('3.8174274'), Decimal('1.23'), Decimal('42.67'), Decimal('33.3'), Decimal('34734816899'), Decimal('8548000000'), Decimal('1.3933871'), Decimal('1.26'), 'http://www.sec.gov/cgi-bin/browse-edgar?action=getcompany&CIK=EXC'], ['EXPE', 'Expedia Inc.', 'Consumer Discretionary', Decimal('123.03'), Decimal('30.99'), Decimal('0.92785895'), Decimal('1.81'), Decimal('161'), Decimal('115.55'), Decimal('19722178609'), Decimal('1481458000'), Decimal('2.5074897'), Decimal('4.14'), 'http://www.sec.gov/cgi-bin/browse-edgar?action=getcompany&CIK=EXPE'], ['EXPD', 'Expeditors International', 'Industrials', Decimal('60.36'), Decimal('25.26'), Decimal('1.3520038'), Decimal('2.36'), Decimal('67.54'), Decimal('51.96'), Decimal('11040678071'), Decimal('721643000'), Decimal('2.190319'), Decimal('5.55'), 'http://www.sec.gov/cgi-bin/browse-edgar?action=getcompany&CIK=EXPD'], ['ESRX', 'Express Scripts', 'Health Care', Decimal('73.35'), Decimal('10.72'), Decimal('0'), Decimal('5.39'), Decimal('83.485'), Decimal('55.8'), Decimal('42449656350'), Decimal('7309300000'), Decimal('0.57588416'), Decimal('2.65'), 'http://www.sec.gov/cgi-bin/browse-edgar?action=getcompany&CIK=ESRX'], ['EXR', 'Extra Space Storage', 'Real Estate', Decimal('77.56'), Decimal('18.12'), Decimal('3.879632'), Decimal('2.92'), Decimal('88.56'), Decimal('71.34'), Decimal('10133547517'), Decimal('717468000'), Decimal('12.204818'), Decimal('4.54'), 'http://www.sec.gov/cgi-bin/browse-edgar?action=getcompany&CIK=EXR'], ['XOM', 'Exxon Mobil Corp.', 'Energy', Decimal('76.07'), Decimal('21.37'), Decimal('4.0031195'), Decimal('1.88'), Decimal('89.3'), Decimal('76.05'), Decimal('326148660000'), Decimal('39052000000'), Decimal('1.7701944'), Decimal('1.85'), 'http://www.sec.gov/cgi-bin/browse-edgar?action=getcompany&CIK=XOM'], ['FFIV', 'F5 Networks', 'Information Technology', Decimal('137.25'), Decimal('21.21'), Decimal('0'), Decimal('6.51'), Decimal('149.5'), Decimal('114.63'), Decimal('8744185796'), Decimal('629940000'), Decimal('4.1203604'), Decimal('6.86'), 'http://www.sec.gov/cgi-bin/browse-edgar?action=getcompany&CIK=FFIV'], ['FB', 'Facebook, Inc.', 'Information Technology', Decimal('171.58'), Decimal('27.9'), Decimal('0'), Decimal('5.39'), Decimal('195.32'), Decimal('132.44'), Decimal('523423036576'), Decimal('23624000000'), Decimal('13.241967'), Decimal('7.08'), 'http://www.sec.gov/cgi-bin/browse-edgar?action=getcompany&CIK=FB'], ['FAST', 'Fastenal Co', 'Industrials', Decimal('52.15'), Decimal('27.02'), Decimal('2.7798648'), Decimal('2.01'), Decimal('57.815'), Decimal('39.79'), Decimal('15311373377'), Decimal('1009600000'), Decimal('3.472977'), Decimal('7.39'), 'http://www.sec.gov/cgi-bin/browse-edgar?action=getcompany&CIK=FAST'], ['FRT', 'Federal Realty Investment Trust', 'Real Estate', Decimal('108.11'), Decimal('18.35'), Decimal('3.5925992'), Decimal('3.5'), Decimal('143.79'), Decimal('109.74'), Decimal('8077368506'), Decimal('540767000'), Decimal('12.898601'), Decimal('3.98'), 'http://www.sec.gov/cgi-bin/browse-edgar?action=getcompany&CIK=FRT'], ['FDX', 'FedEx Corporation', 'Industrials', Decimal('239.27'), Decimal('19.45'), Decimal('0.7963368'), Decimal('11.07'), Decimal('274.66'), Decimal('182.89'), Decimal('67280478816'), Decimal('8062000000'), Decimal('1.0751684'), Decimal('3.9'), 'http://www.sec.gov/cgi-bin/browse-edgar?action=getcompany&CIK=FDX'], ['FIS', 'Fidelity National Information Services', 'Information Technology', Decimal('92.74'), Decimal('22.08'), Decimal('1.322724'), Decimal('1.72'), Decimal('103.65'), Decimal('77.63'), Decimal('32308459680'), Decimal('2782000000'), Decimal('4.7038417'), Decimal('3.25'), 'http://www.sec.gov/cgi-bin/browse-edgar?action=getcompany&CIK=FIS'], ['FITB', 'Fifth Third Bancorp', 'Financials', Decimal('31.1'), Decimal('16.9'), Decimal('1.9789734'), Decimal('2.85'), Decimal('33.91'), Decimal('23.2'), Decimal('22437653700'), Decimal('0'), Decimal('2.8802848'), Decimal('1.46'), 'http://www.sec.gov/cgi-bin/browse-edgar?action=getcompany&CIK=FITB'], ['FE', 'FirstEnergy Corp', 'Utilities', Decimal('30.64'), Decimal('11.18'), Decimal('4.673807'), Decimal('-14.49'), Decimal('35.22'), Decimal('27.93'), Decimal('13706075072'), Decimal('-5067000000'), Decimal('1.2994481'), Decimal('2.19'), 'http://www.sec.gov/cgi-bin/browse-edgar?action=getcompany&CIK=FE'], ['FISV', 'Fiserv Inc', 'Information Technology', Decimal('133.05'), Decimal('27.32'), Decimal('0'), Decimal('4.14'), Decimal('144.2'), Decimal('106.2'), Decimal('26918949723'), Decimal('1911000000'), Decimal('6.518713'), Decimal('11.54'), 'http://www.sec.gov/cgi-bin/browse-edgar?action=getcompany&CIK=FISV'], ['FLIR', 'FLIR Systems', 'Information Technology', Decimal('46.46'), Decimal('25.53'), Decimal('1.2396694'), Decimal('1.21'), Decimal('52.88'), Decimal('33.75'), Decimal('6706992926'), Decimal('375267000'), Decimal('5.137961'), Decimal('3.52'), 'http://www.sec.gov/cgi-bin/browse-edgar?action=getcompany&CIK=FLIR'], ['FLS', 'Flowserve Corporation', 'Industrials', Decimal('40.82'), Decimal('26.17'), Decimal('1.8291216'), Decimal('1.12'), Decimal('51.92'), Decimal('37.51'), Decimal('5427884956'), Decimal('463066000'), Decimal('2.0803037'), Decimal('3.15'), 'http://www.sec.gov/cgi-bin/browse-edgar?action=getcompany&CIK=FLS'], ['FLR', 'Fluor Corp.', 'Industrials', Decimal('55.31'), Decimal('19.9'), Decimal('1.4726508'), Decimal('1.99'), Decimal('62.09'), Decimal('37.0351'), Decimal('7978485059'), Decimal('709756000'), Decimal('0.5516402'), Decimal('2.4'), 'http://www.sec.gov/cgi-bin/browse-edgar?action=getcompany&CIK=FLR'], ['FMC', 'FMC Corporation', 'Materials', Decimal('80.87'), Decimal('32.48'), Decimal('0.785995'), Decimal('1.56'), Decimal('98.7'), Decimal('56.53'), Decimal('11273961835'), Decimal('557800000'), Decimal('6.0089035'), Decimal('5.26'), 'http://www.sec.gov/cgi-bin/browse-edgar?action=getcompany&CIK=FMC'], ['FL', 'Foot Locker Inc', 'Consumer Discretionary', Decimal('45.88'), Decimal('9.5'), Decimal('2.5827951'), Decimal('4.91'), Decimal('77.86'), Decimal('28.42'), Decimal('5819080328'), Decimal('957000000'), Decimal('1.0362948'), None, 'http://www.sec.gov/cgi-bin/browse-edgar?action=getcompany&CIK=FL'], ['F', 'Ford Motor', 'Consumer Discretionary', Decimal('10.43'), Decimal('5.89'), Decimal('6.7843866'), Decimal('1.9'), Decimal('13.48'), Decimal('10.19'), Decimal('42414328338'), Decimal('9281000000'), Decimal('0.27054095'), Decimal('1.26'), 'http://www.sec.gov/cgi-bin/browse-edgar?action=getcompany&CIK=F'], ['FTV', 'Fortive Corp', 'Industrials', Decimal('69.14'), Decimal('25.05'), Decimal('0.39057052'), Decimal('2.46'), Decimal('76.68'), Decimal('54.8844'), Decimal('24916503061'), Decimal('1508300000'), Decimal('5.1682673'), Decimal('7.17'), 'http://www.sec.gov/cgi-bin/browse-edgar?action=getcompany&CIK=FTV'], ['FBHS', 'Fortune Brands Home & Security', 'Industrials', Decimal('62.44'), Decimal('20.27'), Decimal('1.2618296'), Decimal('3.04'), Decimal('73.62'), Decimal('55.25'), Decimal('9624169008'), Decimal('814500000'), Decimal('1.8434572'), Decimal('3.76'), 'http://www.sec.gov/cgi-bin/browse-edgar?action=getcompany&CIK=FBHS'], ['BEN', 'Franklin Resources', 'Financials', Decimal('38'), Decimal('12.67'), Decimal('2.332657'), Decimal('3'), Decimal('47.65'), Decimal('37.01'), Decimal('21759187973'), Decimal('2711300000'), Decimal('3.399101'), Decimal('1.83'), 'http://www.sec.gov/cgi-bin/browse-edgar?action=getcompany&CIK=BEN'], ['FCX', 'Freeport-McMoRan Inc.', 'Materials', Decimal('17.16'), Decimal('14.67'), Decimal('1.1198208'), Decimal('1.24'), Decimal('20.25'), Decimal('11.05'), Decimal('25853969330'), Decimal('5347000000'), Decimal('1.6538345'), Decimal('3.66'), 'http://www.sec.gov/cgi-bin/browse-edgar?action=getcompany&CIK=FCX'], ['GPS', 'Gap Inc.', 'Consumer Discretionary', Decimal('31.17'), Decimal('15.35'), Decimal('2.8203557'), Decimal('1.69'), Decimal('35.68'), Decimal('21.02'), Decimal('12684517721'), Decimal('1959000000'), Decimal('1.1289738'), Decimal('3.93'), 'http://www.sec.gov/cgi-bin/browse-edgar?action=getcompany&CIK=GPS'], ['GRMN', 'Garmin Ltd.', 'Consumer Discretionary', Decimal('61.13'), Decimal('21.23'), Decimal('3.2339885'), Decimal('2.69'), Decimal('64.96'), Decimal('48.5'), Decimal('11840331607'), Decimal('736798000'), Decimal('5.319881'), Decimal('3.14'), 'http://www.sec.gov/cgi-bin/browse-edgar?action=getcompany&CIK=GRMN'], ['IT', 'Gartner Inc', 'Information Technology', Decimal('114.26'), Decimal('36.86'), Decimal('0'), Decimal('2.31'), Decimal('142.16'), Decimal('97.96'), Decimal('10828314389'), Decimal('234935000'), Decimal('4.894499'), Decimal('13.47'), 'http://www.sec.gov/cgi-bin/browse-edgar?action=getcompany&CIK=IT'], ['GD', 'General Dynamics', 'Industrials', Decimal('206.05'), Decimal('20.71'), Decimal('1.5631542'), Decimal('9.55'), Decimal('229.54'), Decimal('181.94'), Decimal('64180390701'), Decimal('4618000000'), Decimal('2.0481362'), Decimal('5.45'), 'http://www.sec.gov/cgi-bin/browse-edgar?action=getcompany&CIK=GD'], ['GE', 'General Electric', 'Industrials', Decimal('14.45'), Decimal('13.76'), Decimal('3.147541'), Decimal('-0.72'), Decimal('30.59'), Decimal('14.71'), Decimal('132249296250'), Decimal('-206000000'), Decimal('1.0887611'), Decimal('1.7'), 'http://www.sec.gov/cgi-bin/browse-edgar?action=getcompany&CIK=GE'], ['GGP', 'General Growth Properties Inc.', 'Real Estate', Decimal('21.62'), Decimal('13.86'), Decimal('4.005462'), Decimal('1.34'), Decimal('25.72'), Decimal('18.83'), Decimal('21018887283'), Decimal('1740540000'), Decimal('17.003777'), Decimal('2.57'), 'http://www.sec.gov/cgi-bin/browse-edgar?action=getcompany&CIK=GGP'], ['GIS', 'General Mills', 'Consumer Staples', Decimal('53.99'), Decimal('17.53'), Decimal('3.5864594'), Decimal('2.77'), Decimal('63.73'), Decimal('49.65'), Decimal('31098243069'), Decimal('3107600000'), Decimal('2.0389178'), Decimal('7.26'), 'http://www.sec.gov/cgi-bin/browse-edgar?action=getcompany&CIK=GIS'], ['GM', 'General Motors', 'Consumer Discretionary', Decimal('40.75'), Decimal('6.58'), Decimal('3.5857513'), Decimal('6'), Decimal('46.76'), Decimal('31.92'), Decimal('61536606173'), Decimal('23541000000'), Decimal('0.5633218'), Decimal('1.33'), 'http://www.sec.gov/cgi-bin/browse-edgar?action=getcompany&CIK=GM'], ['GPC', 'Genuine Parts', 'Consumer Discretionary', Decimal('96.31'), Decimal('21.17'), Decimal('2.7198548'), Decimal('4.6'), Decimal('107.75'), Decimal('79.86'), Decimal('14554321748'), Decimal('1201517000'), Decimal('1.212236'), Decimal('4.33'), 'http://www.sec.gov/cgi-bin/browse-edgar?action=getcompany&CIK=GPC'], ['GILD', 'Gilead Sciences', 'Health Care', Decimal('78.22'), Decimal('8.16'), Decimal('2.754954'), Decimal('9.95'), Decimal('89.54'), Decimal('63.759'), Decimal('108106822109'), Decimal('17590000000'), Decimal('5.2087464'), Decimal('4.12'), 'http://www.sec.gov/cgi-bin/browse-edgar?action=getcompany&CIK=GILD'], ['GPN', 'Global Payments Inc.', 'Information Technology', Decimal('100.59'), Decimal('27.86'), Decimal('0.037622273'), Decimal('1.58'), Decimal('113.26'), Decimal('76.47'), Decimal('16920023264'), Decimal('960345000'), Decimal('5.775833'), Decimal('4.73'), 'http://www.sec.gov/cgi-bin/browse-edgar?action=getcompany&CIK=GPN'], ['GS', 'Goldman Sachs Group', 'Financials', Decimal('246.35'), Decimal('12.44'), Decimal('1.1668612'), Decimal('8.61'), Decimal('273.79'), Decimal('209.62'), Decimal('96978500251'), Decimal('0'), Decimal('2.309415'), Decimal('1.25'), 'http://www.sec.gov/cgi-bin/browse-edgar?action=getcompany&CIK=GS'], ['GT', 'Goodyear Tire & Rubber', 'Consumer Discretionary', Decimal('30.75'), Decimal('9.92'), Decimal('1.6731402'), Decimal('4.74'), Decimal('37.2'), Decimal('28.81'), Decimal('8244568238'), Decimal('2044000000'), Decimal('0.72725976'), Decimal('1.65'), 'http://www.sec.gov/cgi-bin/browse-edgar?action=getcompany&CIK=GT'], ['GWW', 'Grainger (W.W.) Inc.', 'Industrials', Decimal('258.6'), Decimal('22.57'), Decimal('1.9700643'), Decimal('10.02'), Decimal('298.145'), Decimal('155'), Decimal('14639308205'), Decimal('1279846000'), Decimal('1.3995146'), Decimal('8.1'), 'http://www.sec.gov/cgi-bin/browse-edgar?action=getcompany&CIK=GWW'], ['HAL', 'Halliburton Co.', 'Energy', Decimal('47.41'), Decimal('38.86'), Decimal('1.4489837'), Decimal('-0.53'), Decimal('57.86'), Decimal('38.181'), Decimal('43356557470'), Decimal('2910000000'), Decimal('2.1424224'), Decimal('4.74'), 'http://www.sec.gov/cgi-bin/browse-edgar?action=getcompany&CIK=HAL'], ['HBI', 'Hanesbrands Inc', 'Consumer Discretionary', Decimal('19.57'), Decimal('10.04'), Decimal('2.7322404'), Decimal('1.41'), Decimal('25.73'), Decimal('18.9'), Decimal('8006268615'), Decimal('926153000'), Decimal('1.6339768'), Decimal('6.17'), 'http://www.sec.gov/cgi-bin/browse-edgar?action=getcompany&CIK=HBI'], ['HOG', 'Harley-Davidson', 'Consumer Discretionary', Decimal('47.54'), Decimal('13.7'), Decimal('3.0218647'), Decimal('2.98'), Decimal('63.4'), Decimal('44.52'), Decimal('8158949890'), Decimal('1058817000'), Decimal('1.66195'), Decimal('4.31'), 'http://www.sec.gov/cgi-bin/browse-edgar?action=getcompany&CIK=HOG'], ['HRS', 'Harris Corporation', 'Information Technology', Decimal('149.84'), Decimal('26.38'), Decimal('1.4922442'), Decimal('4.43'), Decimal('160.67'), Decimal('104.16'), Decimal('18140726600'), Decimal('1368000000'), Decimal('2.9516637'), Decimal('5.88'), 'http://www.sec.gov/cgi-bin/browse-edgar?action=getcompany&CIK=HRS'], ['HIG', 'Hartford Financial Svc.Gp.', 'Financials', Decimal('53.34'), Decimal('14.34'), Decimal('1.7901897'), Decimal('2.27'), Decimal('59.2'), Decimal('46.35'), Decimal('19926305632'), Decimal('0'), Decimal('1.3939538'), Decimal('1.15'), 'http://www.sec.gov/cgi-bin/browse-edgar?action=getcompany&CIK=HIG'], ['HAS', 'Hasbro Inc.', 'Consumer Discretionary', Decimal('96.48'), Decimal('20.57'), Decimal('2.2304833'), Decimal('4.34'), Decimal('116.2'), Decimal('87.92'), Decimal('12732072001'), Decimal('1028425000'), Decimal('3.2375681'), Decimal('5.82'), 'http://www.sec.gov/cgi-bin/browse-edgar?action=getcompany&CIK=HAS'], ['HCA', 'HCA Holdings', 'Health Care', Decimal('95.97'), Decimal('14.07'), Decimal('1.4227642'), Decimal('5.94'), Decimal('106.84'), Decimal('71.18'), Decimal('34449052800'), Decimal('8202000000'), Decimal('0.7251921'), None, 'http://www.sec.gov/cgi-bin/browse-edgar?action=getcompany&CIK=HCA'], ['HCP', 'HCP Inc.', 'Real Estate', Decimal('22.64'), Decimal('10.99'), Decimal('6.330197'), Decimal('1.33'), Decimal('33.67'), Decimal('22.8'), Decimal('10967755538'), Decimal('1412684000'), Decimal('8.127109'), Decimal('1.97'), 'http://www.sec.gov/cgi-bin/browse-edgar?action=getcompany&CIK=HCP'], ['HP', 'Helmerich & Payne', 'Energy', Decimal('64.87'), Decimal('-54.51'), Decimal('4.1499925'), Decimal('-1.2'), Decimal('75.02'), Decimal('42.16'), Decimal('7345243806'), Decimal('483673000'), Decimal('3.7385862'), Decimal('1.62'), 'http://www.sec.gov/cgi-bin/browse-edgar?action=getcompany&CIK=HP'], ['HSIC', 'Henry Schein', 'Health Care', Decimal('70.85'), Decimal('19.85'), Decimal('0'), Decimal('3.1'), Decimal('93.495'), Decimal('65.28'), Decimal('11452961984'), Decimal('1033985000'), Decimal('1.262194'), Decimal('3.74'), 'http://www.sec.gov/cgi-bin/browse-edgar?action=getcompany&CIK=HSIC'], ['HES', 'Hess Corporation', 'Energy', Decimal('43'), Decimal('-9.33'), Decimal('2.2670596'), Decimal('-19.94'), Decimal('55.48'), Decimal('37.25'), Decimal('14016129999'), Decimal('-819000000'), Decimal('3.780475'), Decimal('1.08'), 'http://www.sec.gov/cgi-bin/browse-edgar?action=getcompany&CIK=HES'], ['HPE', 'Hewlett Packard Enterprise', 'Information Technology', Decimal('15.04'), Decimal('11.57'), Decimal('1.9280206'), Decimal('0.21'), Decimal('24.88'), Decimal('12.815'), Decimal('24800859640'), Decimal('3683000000'), Decimal('1.4609766'), Decimal('1.06'), 'http://www.sec.gov/cgi-bin/browse-edgar?action=getcompany&CIK=HPE'], ['HLT', 'Hilton Worldwide Holdings Inc', 'Consumer Discretionary', Decimal('78.66'), Decimal('36.42'), Decimal('0.7315289'), Decimal('1.05'), Decimal('88.11'), Decimal('55.79'), Decimal('26242415796'), Decimal('2815000000'), Decimal('3.7628453'), Decimal('17.67'), 'http://www.sec.gov/cgi-bin/browse-edgar?action=getcompany&CIK=HLT'], ['HOLX', 'Hologic', 'Health Care', Decimal('38.8'), Decimal('19.21'), Decimal('0'), Decimal('2.64'), Decimal('46.8'), Decimal('35.76'), Decimal('11181493750'), Decimal('1561000000'), Decimal('4.80335'), Decimal('4'), 'http://www.sec.gov/cgi-bin/browse-edgar?action=getcompany&CIK=HOLX'], ['HD', 'Home Depot', 'Consumer Discretionary', Decimal('181.22'), Decimal('28.1'), Decimal('1.8610487'), Decimal('6.46'), Decimal('207.605'), Decimal('136.82'), Decimal('223378633329'), Decimal('16513000000'), Decimal('2.8964398'), Decimal('84.08'), 'http://www.sec.gov/cgi-bin/browse-edgar?action=getcompany&CIK=HD'], ['HON', \"Honeywell Int'l Inc.\", 'Industrials', Decimal('146.02'), Decimal('20.68'), Decimal('1.9710299'), Decimal('2.08'), Decimal('165.13'), Decimal('119.31'), Decimal('114422168609'), Decimal('8333000000'), Decimal('2.8267899'), Decimal('5.71'), 'http://www.sec.gov/cgi-bin/browse-edgar?action=getcompany&CIK=HON'], ['HRL', 'Hormel Foods Corp.', 'Consumer Staples', Decimal('32.21'), Decimal('20.39'), Decimal('2.2907758'), Decimal('1.57'), Decimal('38'), Decimal('29.75'), Decimal('17338613096'), Decimal('1422305000'), Decimal('2.5174792'), Decimal('3.49'), 'http://www.sec.gov/cgi-bin/browse-edgar?action=getcompany&CIK=HRL'], ['HST', 'Host Hotels & Resorts', 'Real Estate', Decimal('18.75'), Decimal('11.23'), Decimal('4.1131105'), Decimal('1.02'), Decimal('21.53'), Decimal('17.26'), Decimal('14394715334'), Decimal('1547000000'), Decimal('3.5549128'), Decimal('2.02'), 'http://www.sec.gov/cgi-bin/browse-edgar?action=getcompany&CIK=HST'], ['HPQ', 'HP Inc.', 'Information Technology', Decimal('19.92'), Decimal('12.07'), Decimal('2.6270628'), Decimal('1.49'), Decimal('24.1'), Decimal('15.39'), Decimal('34895294088'), Decimal('3700000000'), Decimal('0.8954903'), Decimal('0.66'), 'http://www.sec.gov/cgi-bin/browse-edgar?action=getcompany&CIK=HPQ'], ['HUM', 'Humana Inc.', 'Health Care', Decimal('262.37'), Decimal('22.39'), Decimal('0.6040015'), Decimal('4.06'), Decimal('293.35'), Decimal('189.01'), Decimal('36973617235'), Decimal('0'), Decimal('0.9256895'), Decimal('3.33'), 'http://www.sec.gov/cgi-bin/browse-edgar?action=getcompany&CIK=HUM'], ['HBAN', 'Huntington Bancshares', 'Financials', Decimal('15.1'), Decimal('15.41'), Decimal('2.8132992'), Decimal('1'), Decimal('16.53'), Decimal('12.14'), Decimal('16766497291'), Decimal('0'), Decimal('3.5112102'), Decimal('1.72'), 'http://www.sec.gov/cgi-bin/browse-edgar?action=getcompany&CIK=HBAN'], ['HII', 'Huntington Ingalls Industries', 'Industrials', Decimal('225.37'), Decimal('18.75'), Decimal('1.2264713'), Decimal('12.15'), Decimal('253.44'), Decimal('183.42'), Decimal('10628247899'), Decimal('1107000000'), Decimal('1.8924941'), Decimal('6.04'), 'http://www.sec.gov/cgi-bin/browse-edgar?action=getcompany&CIK=HII'], ['IDXX', 'IDEXX Laboratories', 'Health Care', Decimal('169.28'), Decimal('53.57'), Decimal('0'), Decimal('2.94'), Decimal('198.73'), Decimal('140.63'), Decimal('15422885020'), Decimal('478307000'), Decimal('7.97525'), Decimal('196.21'), 'http://www.sec.gov/cgi-bin/browse-edgar?action=getcompany&CIK=IDXX'], ['INFO', 'IHS Markit Ltd.', 'Industrials', Decimal('43.73'), Decimal('26.19'), Decimal('0'), Decimal('1'), Decimal('49.19'), Decimal('37.82'), Decimal('17969275816'), Decimal('1018900000'), Decimal('5.0604'), Decimal('2.24'), 'http://www.sec.gov/cgi-bin/browse-edgar?action=getcompany&CIK=INFO'], ['ITW', 'Illinois Tool Works', 'Industrials', Decimal('156.15'), Decimal('23.62'), Decimal('1.9089574'), Decimal('4.86'), Decimal('179.07'), Decimal('126.52'), Decimal('55994378108'), Decimal('3924000000'), Decimal('3.9286149'), Decimal('10.99'), 'http://www.sec.gov/cgi-bin/browse-edgar?action=getcompany&CIK=ITW'], ['ILMN', 'Illumina Inc', 'Health Care', Decimal('209.54'), Decimal('52.25'), Decimal('0'), Decimal('4.92'), Decimal('248.97'), Decimal('158.0203'), Decimal('32295200000'), Decimal('1192000000'), Decimal('11.713953'), Decimal('10.89'), 'http://www.sec.gov/cgi-bin/browse-edgar?action=getcompany&CIK=ILMN'], ['INCY', 'Incyte', 'Health Care', Decimal('83.92'), Decimal('-119.89'), Decimal('0'), Decimal('0.54'), Decimal('153.15'), Decimal('84.21'), Decimal('18220961259'), Decimal('-81686000'), Decimal('17.02699'), Decimal('10.25'), 'http://www.sec.gov/cgi-bin/browse-edgar?action=getcompany&CIK=INCY'], ['IR', 'Ingersoll-Rand PLC', 'Industrials', Decimal('87.6'), Decimal('19.38'), Decimal('1.9739007'), Decimal('5.07'), Decimal('97.67'), Decimal('77.26'), Decimal('22785450609'), Decimal('1987100000'), Decimal('1.6147361'), Decimal('3.34'), 'http://www.sec.gov/cgi-bin/browse-edgar?action=getcompany&CIK=IR'], ['INTC', 'Intel Corp.', 'Information Technology', Decimal('42.75'), Decimal('12.32'), Decimal('2.6548672'), Decimal('1.98'), Decimal('50.85'), Decimal('33.23'), Decimal('211536000000'), Decimal('26247000000'), Decimal('3.348876'), Decimal('3.34'), 'http://www.sec.gov/cgi-bin/browse-edgar?action=getcompany&CIK=INTC'], ['ICE', 'Intercontinental Exchange', 'Financials', Decimal('67'), Decimal('22.95'), Decimal('5.4298644'), Decimal('2.37'), Decimal('76.1378'), Decimal('56.8'), Decimal('41373051167'), Decimal('3103000000'), Decimal('9.619987'), Decimal('2.62'), 'http://www.sec.gov/cgi-bin/browse-edgar?action=getcompany&CIK=ICE'], ['IBM', 'International Business Machines', 'Information Technology', Decimal('147.59'), Decimal('10.67'), Decimal('3.8999026'), Decimal('6.11'), Decimal('182.79'), Decimal('139.13'), Decimal('142433003505'), Decimal('16557000000'), Decimal('1.817167'), Decimal('7.7'), 'http://www.sec.gov/cgi-bin/browse-edgar?action=getcompany&CIK=IBM'], ['IP', 'International Paper', 'Materials', Decimal('56.05'), Decimal('15.57'), Decimal('3.206751'), Decimal('5.14'), Decimal('66.94'), Decimal('49.6'), Decimal('24465996443'), Decimal('3004000000'), Decimal('1.0738261'), Decimal('4.99'), 'http://www.sec.gov/cgi-bin/browse-edgar?action=getcompany&CIK=IP'], ['IPG', 'Interpublic Group', 'Consumer Discretionary', Decimal('21.34'), Decimal('15.46'), Decimal('3.3802817'), Decimal('1.49'), Decimal('25.71'), Decimal('18.3'), Decimal('8277363031'), Decimal('1074900000'), Decimal('1.4712903'), Decimal('4.01'), 'http://www.sec.gov/cgi-bin/browse-edgar?action=getcompany&CIK=IPG'], ['IFF', 'Intl Flavors & Fragrances', 'Materials', Decimal('138'), Decimal('24.17'), Decimal('1.9341276'), Decimal('5.05'), Decimal('157.4'), Decimal('116.3'), Decimal('11270040447'), Decimal('699963000'), Decimal('4.4208813'), Decimal('6.34'), 'http://www.sec.gov/cgi-bin/browse-edgar?action=getcompany&CIK=IFF'], ['INTU', 'Intuit Inc.', 'Information Technology', Decimal('152.75'), Decimal('40.52'), Decimal('0.96720195'), Decimal('3.72'), Decimal('170.59'), Decimal('111.9'), Decimal('41233771565'), Decimal('1654000000'), Decimal('9.633731'), Decimal('33.5'), 'http://www.sec.gov/cgi-bin/browse-edgar?action=getcompany&CIK=INTU'], ['ISRG', 'Intuitive Surgical Inc.', 'Health Care', Decimal('381.87'), Decimal('48.58'), Decimal('0'), Decimal('5.67'), Decimal('452'), Decimal('233.10643'), Decimal('44866621303'), Decimal('1153700000'), Decimal('14.655261'), Decimal('9.48'), 'http://www.sec.gov/cgi-bin/browse-edgar?action=getcompany&CIK=ISRG'], ['IVZ', 'Invesco Ltd.', 'Financials', Decimal('31.92'), Decimal('11.87'), Decimal('3.466826'), Decimal('2.74'), Decimal('38.43'), Decimal('29.36'), Decimal('13620847614'), Decimal('1606200000'), Decimal('2.6513786'), Decimal('1.62'), 'http://www.sec.gov/cgi-bin/browse-edgar?action=getcompany&CIK=IVZ'], ['IQV', 'IQVIA Holdings Inc.', 'Health Care', Decimal('95.23'), Decimal('21.74'), Decimal('0'), Decimal('0.76'), Decimal('110.67'), Decimal('75.94'), Decimal('20426488713'), Decimal('1542000000'), Decimal('2.8477087'), Decimal('2.77'), 'http://www.sec.gov/cgi-bin/browse-edgar?action=getcompany&CIK=IQV'], ['IRM', 'Iron Mountain Incorporated', 'Real Estate', Decimal('32.07'), Decimal('15.42'), Decimal('7.08258'), Decimal('0.46'), Decimal('41.53'), Decimal('32.05'), Decimal('9410249279'), Decimal('1116140000'), Decimal('3.2898626'), Decimal('4.97'), 'http://www.sec.gov/cgi-bin/browse-edgar?action=getcompany&CIK=IRM'], ['JBHT', 'J. B. Hunt Transport Services', 'Industrials', Decimal('114.81'), Decimal('30.62'), Decimal('0.8139042'), Decimal('6.19'), Decimal('126.49'), Decimal('83.35'), Decimal('12945366350'), Decimal('1007309000'), Decimal('1.7697402'), Decimal('8.55'), 'http://www.sec.gov/cgi-bin/browse-edgar?action=getcompany&CIK=JBHT'], ['JEC', 'Jacobs Engineering Group', 'Industrials', Decimal('62.82'), Decimal('19.45'), Decimal('0.9089532'), Decimal('2.43'), Decimal('72.18'), Decimal('49.31'), Decimal('9326484316'), Decimal('409832000'), Decimal('1.2129636'), Decimal('2.01'), 'http://www.sec.gov/cgi-bin/browse-edgar?action=getcompany&CIK=JEC'], ['SJM', 'JM Smucker', 'Consumer Staples', Decimal('118.37'), Decimal('15.35'), Decimal('2.6036885'), Decimal('5.1'), Decimal('143.68'), Decimal('99.565'), Decimal('13612394896'), Decimal('1411300000'), Decimal('2.496677'), Decimal('1.88'), 'http://www.sec.gov/cgi-bin/browse-edgar?action=getcompany&CIK=SJM'], ['JNJ', 'Johnson & Johnson', 'Health Care', Decimal('126.36'), Decimal('17.31'), Decimal('2.5566885'), Decimal('0.39'), Decimal('148.32'), Decimal('113.15'), Decimal('353062464971'), Decimal('22430000000'), Decimal('4.6326222'), Decimal('4.74'), 'http://www.sec.gov/cgi-bin/browse-edgar?action=getcompany&CIK=JNJ'], ['JCI', 'Johnson Controls International', 'Industrials', Decimal('36.55'), Decimal('14'), Decimal('2.7659574'), Decimal('1.71'), Decimal('44.37'), Decimal('34.51'), Decimal('34822224800'), Decimal('4295000000'), Decimal('1.1415336'), Decimal('1.69'), 'http://www.sec.gov/cgi-bin/browse-edgar?action=getcompany&CIK=JCI'], ['JPM', 'JPMorgan Chase & Co.', 'Financials', Decimal('107.88'), Decimal('15.43'), Decimal('1.9845841'), Decimal('6.3'), Decimal('117.3529'), Decimal('81.635'), Decimal('386613611000'), Decimal('0'), Decimal('3.3714993'), Decimal('1.6'), 'http://www.sec.gov/cgi-bin/browse-edgar?action=getcompany&CIK=JPM'], ['JNPR', 'Juniper Networks', 'Information Technology', Decimal('24.66'), Decimal('14.09'), Decimal('1.5754234'), Decimal('0.78'), Decimal('30.96'), Decimal('23.87'), Decimal('9267350000'), Decimal('1115500000'), Decimal('1.8543326'), Decimal('1.78'), 'http://www.sec.gov/cgi-bin/browse-edgar?action=getcompany&CIK=JNPR'], ['KSU', 'Kansas City Southern', 'Industrials', Decimal('103.53'), Decimal('19.8'), Decimal('1.3445379'), Decimal('9.16'), Decimal('114.85'), Decimal('81.54'), Decimal('11037040988'), Decimal('1295400000'), Decimal('4.281897'), Decimal('2.39'), 'http://www.sec.gov/cgi-bin/browse-edgar?action=getcompany&CIK=KSU'], ['K', 'Kellogg Co.', 'Consumer Staples', Decimal('65.98'), Decimal('16.5'), Decimal('3.363962'), Decimal('1.95'), Decimal('76.69'), Decimal('58.76'), Decimal('22182794875'), Decimal('1827000000'), Decimal('2.3173764'), Decimal('11.5'), 'http://www.sec.gov/cgi-bin/browse-edgar?action=getcompany&CIK=K'], ['KEY', 'KeyCorp', 'Financials', Decimal('20.08'), Decimal('14.66'), Decimal('1.9876952'), Decimal('1.12'), Decimal('22.22'), Decimal('16.28'), Decimal('22589744920'), Decimal('0'), Decimal('3.270451'), Decimal('1.55'), 'http://www.sec.gov/cgi-bin/browse-edgar?action=getcompany&CIK=KEY'], ['KMB', 'Kimberly-Clark', 'Consumer Staples', Decimal('111.69'), Decimal('17.93'), Decimal('3.5599859'), Decimal('6.41'), Decimal('136.21'), Decimal('109.67'), Decimal('39449596000'), Decimal('4033000000'), Decimal('2.1947837'), Decimal('151.66'), 'http://www.sec.gov/cgi-bin/browse-edgar?action=getcompany&CIK=KMB'], ['KIM', 'Kimco Realty', 'Real Estate', Decimal('14.01'), Decimal('9.28'), Decimal('7.7134986'), Decimal('0.8'), Decimal('25.15'), Decimal('14.33'), Decimal('6180487499'), Decimal('701190000'), Decimal('7.0508943'), Decimal('1.2'), 'http://www.sec.gov/cgi-bin/browse-edgar?action=getcompany&CIK=KIM'], ['KMI', 'Kinder Morgan', 'Energy', Decimal('16.8'), Decimal('25.07'), Decimal('2.891845'), Decimal('0.01'), Decimal('22.75'), Decimal('16.56'), Decimal('38612712234'), Decimal('5981000000'), Decimal('2.823936'), Decimal('1.07'), 'http://www.sec.gov/cgi-bin/browse-edgar?action=getcompany&CIK=KMI'], ['KLAC', 'KLA-Tencor Corp.', 'Information Technology', Decimal('98.54'), Decimal('16.59'), Decimal('2.2988505'), Decimal('5.88'), Decimal('121.65'), Decimal('86.33'), Decimal('16078622033'), Decimal('1506642000'), Decimal('4.3395863'), Decimal('12.93'), 'http://www.sec.gov/cgi-bin/browse-edgar?action=getcompany&CIK=KLAC'], ['KSS', \"Kohl's Corp.\", 'Consumer Discretionary', Decimal('60.34'), Decimal('16.01'), Decimal('3.4965036'), Decimal('3.12'), Decimal('69.14'), Decimal('35.16'), Decimal('10570861198'), Decimal('2286000000'), Decimal('0.8557757'), Decimal('2.04'), 'http://www.sec.gov/cgi-bin/browse-edgar?action=getcompany&CIK=KSS'], ['KHC', 'Kraft Heinz Co', 'Consumer Staples', Decimal('71.58'), Decimal('20.11'), Decimal('3.3990483'), Decimal('2.81'), Decimal('97.77'), Decimal('72.05'), Decimal('89618309338'), Decimal('7832000000'), Decimal('4.6780853'), Decimal('1.54'), 'http://www.sec.gov/cgi-bin/browse-edgar?action=getcompany&CIK=KHC'], ['KR', 'Kroger Co.', 'Consumer Staples', Decimal('27.57'), Decimal('13.07'), Decimal('1.7301039'), Decimal('2.05'), Decimal('34.75'), Decimal('19.69'), Decimal('25471355847'), Decimal('5342000000'), Decimal('0.27961263'), Decimal('4.02'), 'http://www.sec.gov/cgi-bin/browse-edgar?action=getcompany&CIK=KR'], ['LB', 'L Brands Inc.', 'Consumer Discretionary', Decimal('47.77'), Decimal('12.77'), Decimal('4.886988'), Decimal('3.98'), Decimal('63.1'), Decimal('35'), Decimal('13862042842'), Decimal('2329000000'), Decimal('1.7060977'), Decimal('1403.38'), 'http://www.sec.gov/cgi-bin/browse-edgar?action=getcompany&CIK=LB'], ['LLL', 'L-3 Communications Holdings', 'Industrials', Decimal('198.79'), Decimal('23.14'), Decimal('1.4444605'), Decimal('8.51'), Decimal('218.705'), Decimal('159.43'), Decimal('16229343134'), Decimal('1137000000'), Decimal('1.4884604'), Decimal('3.12'), 'http://www.sec.gov/cgi-bin/browse-edgar?action=getcompany&CIK=LLL'], ['LH', 'Laboratory Corp. of America Holding', 'Health Care', Decimal('165.46'), Decimal('17.79'), Decimal('0'), Decimal('7.02'), Decimal('181.715'), Decimal('130.292'), Decimal('17271388000'), Decimal('1861200000'), Decimal('2.2459624'), Decimal('2.71'), 'http://www.sec.gov/cgi-bin/browse-edgar?action=getcompany&CIK=LH'], ['LRCX', 'Lam Research', 'Information Technology', Decimal('162.23'), Decimal('16.29'), Decimal('1.1652974'), Decimal('9.22'), Decimal('219.7'), Decimal('113.1982'), Decimal('27967534829'), Decimal('2967218000'), Decimal('3.0405293'), Decimal('4.52'), 'http://www.sec.gov/cgi-bin/browse-edgar?action=getcompany&CIK=LRCX'], ['LEG', 'Leggett & Platt', 'Consumer Discretionary', Decimal('43.99'), Decimal('17.88'), Decimal('3.1454785'), Decimal('2.76'), Decimal('54.97'), Decimal('42'), Decimal('6034600480'), Decimal('447000000'), Decimal('2.0302901'), Decimal('4.89'), 'http://www.sec.gov/cgi-bin/browse-edgar?action=getcompany&CIK=LEG'], ['LEN', 'Lennar Corp.', 'Consumer Discretionary', Decimal('59.11'), Decimal('15.35'), Decimal('0.26268265'), Decimal('3.38'), Decimal('72.17'), Decimal('43.647053'), Decimal('14615967194'), Decimal('1405319000'), Decimal('1.1468264'), Decimal('1.76'), 'http://www.sec.gov/cgi-bin/browse-edgar?action=getcompany&CIK=LEN'], ['LUK', 'Leucadia National Corp.', 'Financials', Decimal('23.86'), Decimal('15.39'), Decimal('1.5993602'), Decimal('0.33'), Decimal('28.3'), Decimal('22.23'), Decimal('8910389431'), Decimal('2201336000'), Decimal('1.0410156'), Decimal('0.84'), 'http://www.sec.gov/cgi-bin/browse-edgar?action=getcompany&CIK=LUK'], ['LLY', 'Lilly (Eli) & Co.', 'Health Care', Decimal('74.21'), Decimal('17.34'), Decimal('2.9327424'), Decimal('-0.2'), Decimal('89.09'), Decimal('75.71'), Decimal('84475986228'), Decimal('3459800000'), Decimal('3.754678'), Decimal('5.73'), 'http://www.sec.gov/cgi-bin/browse-edgar?action=getcompany&CIK=LLY'], ['LNC', 'Lincoln National', 'Financials', Decimal('73.86'), Decimal('9.49'), Decimal('1.6813145'), Decimal('9.24'), Decimal('86.68'), Decimal('61.45'), Decimal('17123031000'), Decimal('0'), Decimal('1.201944'), Decimal('1.04'), 'http://www.sec.gov/cgi-bin/browse-edgar?action=getcompany&CIK=LNC'], ['LKQ', 'LKQ Corporation', 'Consumer Discretionary', Decimal('38.86'), Decimal('21.35'), Decimal('0'), Decimal('1.5'), Decimal('43.8599'), Decimal('27.85'), Decimal('12469931896'), Decimal('1065614000'), Decimal('1.723609'), Decimal('3.02'), 'http://www.sec.gov/cgi-bin/browse-edgar?action=getcompany&CIK=LKQ'], ['LMT', 'Lockheed Martin Corp.', 'Industrials', Decimal('334.3'), Decimal('24.28'), Decimal('2.315954'), Decimal('6.83'), Decimal('361.79'), Decimal('256.4'), Decimal('98102120000'), Decimal('7115000000'), Decimal('1.8781451'), Decimal('45.55'), 'http://www.sec.gov/cgi-bin/browse-edgar?action=getcompany&CIK=LMT'], ['L', 'Loews Corp.', 'Financials', Decimal('46.05'), Decimal('15.99'), Decimal('4.5131636'), Decimal('1.93'), Decimal('53.59'), Decimal('45.01'), Decimal('16111166935'), Decimal('0'), Decimal('1.5809761'), Decimal('0.85'), 'http://www.sec.gov/cgi-bin/browse-edgar?action=getcompany&CIK=L'], ['LOW', \"Lowe's Cos.\", 'Consumer Discretionary', Decimal('95.01'), Decimal('23.87'), Decimal('1.6413131'), Decimal('3.46'), Decimal('108.98'), Decimal('70.76'), Decimal('82909678852'), Decimal('7858000000'), Decimal('1.5653384'), Decimal('14.1'), 'http://www.sec.gov/cgi-bin/browse-edgar?action=getcompany&CIK=LOW'], ['LYB', 'LyondellBasell', 'Materials', Decimal('105.79'), Decimal('10.35'), Decimal('3.264714'), Decimal('12.25'), Decimal('121.95'), Decimal('78.01'), Decimal('43556650000'), Decimal('6851000000'), Decimal('1.3037612'), Decimal('5.86'), 'http://www.sec.gov/cgi-bin/browse-edgar?action=getcompany&CIK=LYB'], ['MTB', 'M&T Bank Corp.', 'Financials', Decimal('178.35'), Decimal('18.91'), Decimal('1.6218846'), Decimal('8.69'), Decimal('193.85'), Decimal('141.12'), Decimal('27840827434'), Decimal('0'), Decimal('4.6277885'), Decimal('1.79'), 'http://www.sec.gov/cgi-bin/browse-edgar?action=getcompany&CIK=MTB'], ['MAC', 'Macerich', 'Real Estate', Decimal('58.36'), Decimal('14.81'), Decimal('4.9177604'), Decimal('3.43'), Decimal('69.73'), Decimal('52.12'), Decimal('8473119166'), Decimal('503183000'), Decimal('11.394877'), Decimal('2.24'), 'http://www.sec.gov/cgi-bin/browse-edgar?action=getcompany&CIK=MAC'], ['M', \"Macy's Inc.\", 'Consumer Discretionary', Decimal('24'), Decimal('7.67'), Decimal('6.098546'), Decimal('1.98'), Decimal('33.73'), Decimal('17.405'), Decimal('7541063495'), Decimal('2446000000'), Decimal('0.45503208'), Decimal('1.69'), 'http://www.sec.gov/cgi-bin/browse-edgar?action=getcompany&CIK=M'], ['MRO', 'Marathon Oil Corp.', 'Energy', Decimal('15.68'), Decimal('-32'), Decimal('1.2247398'), Decimal('-2.65'), Decimal('19.52'), Decimal('10.55'), Decimal('13875005314'), Decimal('2266000000'), Decimal('4.6578755'), None, 'http://www.sec.gov/cgi-bin/browse-edgar?action=getcompany&CIK=MRO'], ['MPC', 'Marathon Petroleum', 'Energy', Decimal('62.79'), Decimal('16.06'), Decimal('2.8268552'), Decimal('6.85'), Decimal('73.53'), Decimal('47.39'), Decimal('31633740000'), Decimal('5978000000'), Decimal('0.42713487'), Decimal('2.43'), 'http://www.sec.gov/cgi-bin/browse-edgar?action=getcompany&CIK=MPC'], ['MAR', \"Marriott Int'l.\", 'Consumer Discretionary', Decimal('133.88'), Decimal('32.73'), Decimal('0.9452879'), Decimal('2.67'), Decimal('149.21'), Decimal('85.3725'), Decimal('50910130358'), Decimal('2620000000'), Decimal('2.9997249'), Decimal('11.02'), 'http://www.sec.gov/cgi-bin/browse-edgar?action=getcompany&CIK=MAR'], ['MMC', 'Marsh & McLennan', 'Financials', Decimal('79.31'), Decimal('20.23'), Decimal('1.8257059'), Decimal('2.87'), Decimal('86.54'), Decimal('69.33'), Decimal('41819440000'), Decimal('3236000000'), Decimal('2.9848945'), Decimal('5.85'), 'http://www.sec.gov/cgi-bin/browse-edgar?action=getcompany&CIK=MMC'], ['MLM', 'Martin Marietta Materials', 'Materials', Decimal('208.42'), Decimal('30.38'), Decimal('0.8042038'), Decimal('6.63'), Decimal('244.32'), Decimal('191.09'), Decimal('13756812736'), Decimal('975223000'), Decimal('4.416998'), Decimal('3.03'), 'http://www.sec.gov/cgi-bin/browse-edgar?action=getcompany&CIK=MLM'], ['MAS', 'Masco Corp.', 'Industrials', Decimal('40.7'), Decimal('22.12'), Decimal('0.98383695'), Decimal('1.47'), Decimal('46.445'), Decimal('31.29'), Decimal('13428792315'), Decimal('1179000000'), Decimal('2.308266'), Decimal('11.93'), 'http://www.sec.gov/cgi-bin/browse-edgar?action=getcompany&CIK=MAS'], ['MA', 'Mastercard Inc.', 'Information Technology', Decimal('160.62'), Decimal('34.99'), Decimal('0.5926628'), Decimal('3.65'), Decimal('177.11'), Decimal('105.8'), Decimal('187102014193'), Decimal('7113000000'), Decimal('15.020556'), Decimal('26.93'), 'http://www.sec.gov/cgi-bin/browse-edgar?action=getcompany&CIK=MA'], ['MAT', 'Mattel Inc.', 'Consumer Discretionary', Decimal('16'), Decimal('-14.68'), Decimal('0'), Decimal('-3.06'), Decimal('26.3'), Decimal('12.71'), Decimal('5843402350'), Decimal('-203599000'), Decimal('1.1863722'), Decimal('3.87'), 'http://www.sec.gov/cgi-bin/browse-edgar?action=getcompany&CIK=MAT'], ['MKC', 'McCormick & Co.', 'Consumer Staples', Decimal('101.36'), Decimal('23.91'), Decimal('2.0261056'), Decimal('3.73'), Decimal('109.67'), Decimal('90.25'), Decimal('13459353253'), Decimal('815700000'), Decimal('2.7788277'), Decimal('5.2'), 'http://www.sec.gov/cgi-bin/browse-edgar?action=getcompany&CIK=MKC'], ['MCD', \"McDonald's Corp.\", 'Consumer Discretionary', Decimal('158.97'), Decimal('23.83'), Decimal('2.437994'), Decimal('6.36'), Decimal('178.7'), Decimal('124.36'), Decimal('132101623787'), Decimal('10515400000'), Decimal('5.770237'), Decimal('146.07'), 'http://www.sec.gov/cgi-bin/browse-edgar?action=getcompany&CIK=MCD'], ['MCK', 'McKesson Corp.', 'Health Care', Decimal('150.23'), Decimal('11.68'), Decimal('0.8898776'), Decimal('22.74'), Decimal('178.86'), Decimal('133.82'), Decimal('31534840262'), Decimal('7232000000'), Decimal('0.15318617'), Decimal('2.68'), 'http://www.sec.gov/cgi-bin/browse-edgar?action=getcompany&CIK=MCK'], ['MDT', 'Medtronic plc', 'Health Care', Decimal('78.38'), Decimal('17.04'), Decimal('2.2618315'), Decimal('2.89'), Decimal('89.72'), Decimal('75.44'), Decimal('110107062300'), Decimal('9204000000'), Decimal('4.944542'), Decimal('2.14'), 'http://www.sec.gov/cgi-bin/browse-edgar?action=getcompany&CIK=MDT'], ['MRK', 'Merck & Co.', 'Health Care', Decimal('54.73'), Decimal('13.75'), Decimal('3.435934'), Decimal('1.4'), Decimal('66.8'), Decimal('53.63'), Decimal('152241530340'), Decimal('8715000000'), Decimal('5.0893345'), Decimal('4.02'), 'http://www.sec.gov/cgi-bin/browse-edgar?action=getcompany&CIK=MRK'], ['MET', 'MetLife Inc.', 'Financials', Decimal('44.28'), Decimal('8.52'), Decimal('3.4587116'), Decimal('0.63'), Decimal('56.58'), Decimal('44.58'), Decimal('48679364276'), Decimal('0'), Decimal('1.0496864'), Decimal('0.85'), 'http://www.sec.gov/cgi-bin/browse-edgar?action=getcompany&CIK=MET'], ['MTD', 'Mettler Toledo', 'Health Care', Decimal('601'), Decimal('35.56'), Decimal('0'), Decimal('14.24'), Decimal('697.26'), Decimal('459.34'), Decimal('16420774443'), Decimal('666706000'), Decimal('8.372307'), Decimal('31.69'), 'http://www.sec.gov/cgi-bin/browse-edgar?action=getcompany&CIK=MTD'], ['MGM', 'MGM Resorts International', 'Consumer Discretionary', Decimal('33.5'), Decimal('29.65'), Decimal('1.2687428'), Decimal('1.92'), Decimal('38.41'), Decimal('25.15'), Decimal('19633674337'), Decimal('2680385000'), Decimal('2.2276719'), Decimal('3.09'), 'http://www.sec.gov/cgi-bin/browse-edgar?action=getcompany&CIK=MGM'], ['KORS', 'Michael Kors Holdings', 'Consumer Discretionary', Decimal('60.03'), Decimal('14.29'), Decimal('0'), Decimal('3.31'), Decimal('69.95'), Decimal('32.38'), Decimal('10053919023'), Decimal('456600000'), Decimal('3.1455927'), Decimal('5.4'), 'http://www.sec.gov/cgi-bin/browse-edgar?action=getcompany&CIK=KORS'], ['MCHP', 'Microchip Technology', 'Information Technology', Decimal('79.9'), Decimal('21.77'), Decimal('1.7512966'), Decimal('0.66'), Decimal('99.17'), Decimal('69.76'), Decimal('19393095636'), Decimal('997492000'), Decimal('7.4475183'), Decimal('5.9'), 'http://www.sec.gov/cgi-bin/browse-edgar?action=getcompany&CIK=MCHP'], ['MU', 'Micron Technology', 'Information Technology', Decimal('40'), Decimal('9.01'), Decimal('0'), Decimal('4.36'), Decimal('49.89'), Decimal('22.64'), Decimal('48576791974'), Decimal('12541000000'), Decimal('2.1912806'), Decimal('2.02'), 'http://www.sec.gov/cgi-bin/browse-edgar?action=getcompany&CIK=MU'], ['MSFT', 'Microsoft Corp.', 'Information Technology', Decimal('85.01'), Decimal('25.76'), Decimal('1.8747908'), Decimal('2.97'), Decimal('96.07'), Decimal('63.22'), Decimal('689978437468'), Decimal('41079000000'), Decimal('7.1130967'), Decimal('9.49'), 'http://www.sec.gov/cgi-bin/browse-edgar?action=getcompany&CIK=MSFT'], ['MAA', 'Mid-America Apartments', 'Real Estate', Decimal('85.39'), Decimal('14.38'), Decimal('4.19652'), Decimal('2.86'), Decimal('110.95'), Decimal('86.95'), Decimal('9992628990'), Decimal('871483000'), Decimal('6.6291075'), Decimal('1.6'), 'http://www.sec.gov/cgi-bin/browse-edgar?action=getcompany&CIK=MAA'], ['MHK', 'Mohawk Industries', 'Consumer Discretionary', Decimal('256.57'), Decimal('19.08'), Decimal('0'), Decimal('12.48'), Decimal('286.85'), Decimal('209.9'), Decimal('19897356456'), Decimal('1750393000'), Decimal('2.7977824'), Decimal('2.88'), 'http://www.sec.gov/cgi-bin/browse-edgar?action=getcompany&CIK=MHK'], ['TAP', 'Molson Coors Brewing Company', 'Consumer Staples', Decimal('74.51'), Decimal('17.66'), Decimal('2.1533613'), Decimal('9.27'), Decimal('102.14'), Decimal('75.79'), Decimal('12396862128'), Decimal('4708400000'), Decimal('1.2371694'), Decimal('1.34'), 'http://www.sec.gov/cgi-bin/browse-edgar?action=getcompany&CIK=TAP'], ['MDLZ', 'Mondelez International', 'Consumer Staples', Decimal('42.68'), Decimal('19.85'), Decimal('1.9977299'), Decimal('1.91'), Decimal('47.23'), Decimal('39.19'), Decimal('65827817742'), Decimal('4355000000'), Decimal('2.5708609'), Decimal('2.52'), 'http://www.sec.gov/cgi-bin/browse-edgar?action=getcompany&CIK=MDLZ'], ['MON', 'Monsanto Co.', 'Materials', Decimal('119.08'), Decimal('21.53'), Decimal('1.7938709'), Decimal('5.09'), Decimal('123.15'), Decimal('106.97'), Decimal('53076824328'), Decimal('4217000000'), Decimal('3.589782'), Decimal('7.96'), 'http://www.sec.gov/cgi-bin/browse-edgar?action=getcompany&CIK=MON'], ['MNST', 'Monster Beverage', 'Consumer Staples', Decimal('61.99'), Decimal('42.17'), Decimal('0'), Decimal('1.19'), Decimal('70.215'), Decimal('41.02'), Decimal('36403831015'), Decimal('1229478000'), Decimal('14.152587'), Decimal('9.56'), 'http://www.sec.gov/cgi-bin/browse-edgar?action=getcompany&CIK=MNST'], ['MCO', \"Moody's Corp\", 'Financials', Decimal('152.14'), Decimal('26.55'), Decimal('1.114065'), Decimal('1.35'), Decimal('167.23'), Decimal('106.48'), Decimal('30189978000'), Decimal('1238000000'), Decimal('9.932974'), Decimal('73.84'), 'http://www.sec.gov/cgi-bin/browse-edgar?action=getcompany&CIK=MCO'], ['MS', 'Morgan Stanley', 'Financials', Decimal('51.79'), Decimal('14.23'), Decimal('1.8331805'), Decimal('3.09'), Decimal('58.05'), Decimal('40.06'), Decimal('97535400000'), Decimal('0'), Decimal('2.2258842'), Decimal('1.33'), 'http://www.sec.gov/cgi-bin/browse-edgar?action=getcompany&CIK=MS'], ['MSI', 'Motorola Solutions Inc.', 'Information Technology', Decimal('98.74'), Decimal('19.03'), Decimal('2.0266979'), Decimal('-1.08'), Decimal('107.78'), Decimal('77.23'), Decimal('16626039679'), Decimal('1629000000'), Decimal('2.6092634'), Decimal('6.81'), 'http://www.sec.gov/cgi-bin/browse-edgar?action=getcompany&CIK=MSI'], ['MYL', 'Mylan N.V.', 'Health Care', Decimal('39.25'), Decimal('8.35'), Decimal('0'), Decimal('0.93'), Decimal('47.82'), Decimal('29.39'), Decimal('21698849265'), Decimal('3113300000'), Decimal('2.5358944'), Decimal('1.63'), 'http://www.sec.gov/cgi-bin/browse-edgar?action=getcompany&CIK=MYL'], ['NDAQ', 'Nasdaq, Inc.', 'Financials', Decimal('75.21'), Decimal('17.78'), Decimal('1.9671283'), Decimal('4.32'), Decimal('83.29'), Decimal('65.98'), Decimal('12844304115'), Decimal('1212000000'), Decimal('3.2591083'), Decimal('2.25'), 'http://www.sec.gov/cgi-bin/browse-edgar?action=getcompany&CIK=NDAQ'], ['NOV', 'National Oilwell Varco Inc.', 'Energy', Decimal('32.64'), Decimal('-77.71'), Decimal('0.5873715'), Decimal('-6.4'), Decimal('41.895'), Decimal('29.9'), Decimal('12940096785'), Decimal('353000000'), Decimal('2.5209634'), Decimal('0.91'), 'http://www.sec.gov/cgi-bin/browse-edgar?action=getcompany&CIK=NOV'], ['NAVI', 'Navient', 'Financials', Decimal('13.38'), Decimal('7.56'), Decimal('4.5584044'), Decimal('1.01'), Decimal('16.97'), Decimal('11.481'), Decimal('3692691330'), Decimal('0'), Decimal('0.6986579'), Decimal('1.02'), 'http://www.sec.gov/cgi-bin/browse-edgar?action=getcompany&CIK=NAVI'], ['NTAP', 'NetApp', 'Information Technology', Decimal('55.85'), Decimal('26.1'), Decimal('1.3881658'), Decimal('1.81'), Decimal('64.0599'), Decimal('37.43'), Decimal('15375210915'), Decimal('1075000000'), Decimal('3.6687026'), Decimal('5.46'), 'http://www.sec.gov/cgi-bin/browse-edgar?action=getcompany&CIK=NTAP'], ['NFLX', 'Netflix Inc.', 'Information Technology', Decimal('250.1'), Decimal('200.08'), Decimal('0'), Decimal('1.25'), Decimal('286.81'), Decimal('138.26'), Decimal('114805404842'), Decimal('809028000'), Decimal('9.861594'), Decimal('30.8'), 'http://www.sec.gov/cgi-bin/browse-edgar?action=getcompany&CIK=NFLX'], ['NWL', 'Newell Brands', 'Consumer Discretionary', Decimal('27.91'), Decimal('9.72'), Decimal('3.1228786'), Decimal('1.17'), Decimal('55.08'), Decimal('23.85'), Decimal('14438346000'), Decimal('2021400000'), Decimal('1.2810479'), Decimal('1.01'), 'http://www.sec.gov/cgi-bin/browse-edgar?action=getcompany&CIK=NWL'], ['NFX', 'Newfield Exploration Co', 'Energy', Decimal('26.38'), Decimal('13.12'), Decimal('0'), Decimal('-6.5'), Decimal('43.74'), Decimal('24.41'), Decimal('5695123080'), Decimal('896000000'), Decimal('4.703259'), Decimal('4.51'), 'http://www.sec.gov/cgi-bin/browse-edgar?action=getcompany&CIK=NFX'], ['NEM', 'Newmont Mining Corporation', 'Materials', Decimal('36.61'), Decimal('26.34'), Decimal('0.8101539'), Decimal('-1.18'), Decimal('42.04'), Decimal('31.42'), Decimal('19749449484'), Decimal('1509000000'), Decimal('3.7076392'), Decimal('1.81'), 'http://www.sec.gov/cgi-bin/browse-edgar?action=getcompany&CIK=NEM'], ['NWSA', 'News Corp. Class A', 'Consumer Discretionary', Decimal('15.65'), Decimal('43.47'), Decimal('1.24533'), Decimal('-1.28'), Decimal('17.29'), Decimal('12'), Decimal('9356906461'), Decimal('679000000'), Decimal('1.5518167'), Decimal('0.85'), 'http://www.sec.gov/cgi-bin/browse-edgar?action=getcompany&CIK=NWSA'], ['NWS', 'News Corp. Class B', 'Consumer Discretionary', Decimal('15.85'), Decimal('44.03'), Decimal('1.2269939'), Decimal('-1.28'), Decimal('17.7'), Decimal('12.35'), Decimal('9496735699'), Decimal('679000000'), Decimal('1.5718216'), Decimal('0.86'), 'http://www.sec.gov/cgi-bin/browse-edgar?action=getcompany&CIK=NWS'], ['NEE', 'NextEra Energy', 'Utilities', Decimal('145.29'), Decimal('21.65'), Decimal('2.6537917'), Decimal('11.39'), Decimal('159.64'), Decimal('124.18'), Decimal('69661177770'), Decimal('9018000000'), Decimal('4.091698'), Decimal('2.75'), 'http://www.sec.gov/cgi-bin/browse-edgar?action=getcompany&CIK=NEE'], ['NLSN', 'Nielsen Holdings', 'Industrials', Decimal('33.9'), Decimal('18.73'), Decimal('3.6208732'), Decimal('1.39'), Decimal('45.73'), Decimal('34.22'), Decimal('13377670080'), Decimal('1836000000'), Decimal('2.7288198'), Decimal('3.02'), 'http://www.sec.gov/cgi-bin/browse-edgar?action=getcompany&CIK=NLSN'], ['NKE', 'Nike', 'Consumer Discretionary', Decimal('62.49'), Decimal('24.9'), Decimal('1.2189548'), Decimal('2.51'), Decimal('68.83'), Decimal('50.35'), Decimal('106776113744'), Decimal('5162000000'), Decimal('3.0549932'), Decimal('8.91'), 'http://www.sec.gov/cgi-bin/browse-edgar?action=getcompany&CIK=NKE'], ['NI', 'NiSource Inc.', 'Utilities', Decimal('22.51'), Decimal('19.57'), Decimal('3.3780859'), Decimal('1.02'), Decimal('27.76'), Decimal('21.93'), Decimal('7776566371'), Decimal('1448600000'), Decimal('2.2361343'), Decimal('1.82'), 'http://www.sec.gov/cgi-bin/browse-edgar?action=getcompany&CIK=NI'], ['NBL', 'Noble Energy Inc', 'Energy', Decimal('25.43'), Decimal('105.96'), Decimal('1.4771049'), Decimal('-2.32'), Decimal('39.6'), Decimal('22.985'), Decimal('13177325251'), Decimal('-518000000'), Decimal('4.6976447'), Decimal('1.44'), 'http://www.sec.gov/cgi-bin/browse-edgar?action=getcompany&CIK=NBL'], ['JWN', 'Nordstrom', 'Consumer Discretionary', Decimal('47.23'), Decimal('15.04'), Decimal('3.0020285'), Decimal('2.02'), Decimal('53'), Decimal('37.7924'), Decimal('8212509855'), Decimal('1448000000'), Decimal('0.74603415'), Decimal('9.1'), 'http://www.sec.gov/cgi-bin/browse-edgar?action=getcompany&CIK=JWN'], ['NSC', 'Norfolk Southern Corp.', 'Industrials', Decimal('136.89'), Decimal('20.65'), Decimal('2.018503'), Decimal('18.73'), Decimal('157.1499'), Decimal('109.27'), Decimal('40543547441'), Decimal('4737000000'), Decimal('3.8525908'), Decimal('3.09'), 'http://www.sec.gov/cgi-bin/browse-edgar?action=getcompany&CIK=NSC'], ['NTRS', 'Northern Trust Corp.', 'Financials', Decimal('96.2'), Decimal('19.96'), Decimal('1.6678249'), Decimal('4.92'), Decimal('108.91'), Decimal('83.17'), Decimal('22908130223'), Decimal('0'), Decimal('4.031728'), Decimal('2.44'), 'http://www.sec.gov/cgi-bin/browse-edgar?action=getcompany&CIK=NTRS'], ['NOC', 'Northrop Grumman Corp.', 'Industrials', Decimal('324.01'), Decimal('24.4'), Decimal('1.3030859'), Decimal('11.47'), Decimal('349.18'), Decimal('231.98'), Decimal('58782413951'), Decimal('3884000000'), Decimal('2.209576'), Decimal('7.96'), 'http://www.sec.gov/cgi-bin/browse-edgar?action=getcompany&CIK=NOC'], ['NCLH', 'Norwegian Cruise Line', 'Consumer Discretionary', Decimal('56.01'), Decimal('15.35'), Decimal('0'), Decimal('2.78'), Decimal('61.48'), Decimal('46.96'), Decimal('13191507318'), Decimal('1529401000'), Decimal('3.2066104'), Decimal('2.35'), 'http://www.sec.gov/cgi-bin/browse-edgar?action=getcompany&CIK=NCLH'], ['NRG', 'NRG Energy', 'Utilities', Decimal('24'), Decimal('17.78'), Decimal('1.4195584'), Decimal('-2.23'), Decimal('29.78'), Decimal('14.52'), Decimal('8030036023'), Decimal('1774000000'), Decimal('0.9933021'), Decimal('6.73'), 'http://www.sec.gov/cgi-bin/browse-edgar?action=getcompany&CIK=NRG'], ['NUE', 'Nucor Corp.', 'Materials', Decimal('60.38'), Decimal('17.01'), Decimal('2.415766'), Decimal('4.1'), Decimal('70.48'), Decimal('51.67'), Decimal('20003317128'), Decimal('2648729000'), Decimal('0.99837583'), Decimal('2.34'), 'http://www.sec.gov/cgi-bin/browse-edgar?action=getcompany&CIK=NUE'], ['NVDA', 'Nvidia Corporation', 'Information Technology', Decimal('217.52'), Decimal('82.08'), Decimal('0.26223776'), Decimal('2.57'), Decimal('249.27'), Decimal('95.17'), Decimal('138652800000'), Decimal('3098000000'), Decimal('20.094294'), Decimal('20.39'), 'http://www.sec.gov/cgi-bin/browse-edgar?action=getcompany&CIK=NVDA'], ['ORLY', \"O'Reilly Automotive\", 'Consumer Discretionary', Decimal('252.22'), Decimal('21.91'), Decimal('0'), Decimal('10.73'), Decimal('279.23'), Decimal('169.43'), Decimal('21433781860'), Decimal('1965187000'), Decimal('3.1934319'), Decimal('34.12'), 'http://www.sec.gov/cgi-bin/browse-edgar?action=getcompany&CIK=ORLY'], ['OXY', 'Occidental Petroleum', 'Energy', Decimal('68.47'), Decimal('195.63'), Decimal('4.4081864'), Decimal('-0.75'), Decimal('78.09'), Decimal('57.2'), Decimal('53467692395'), Decimal('5205000000'), Decimal('6.044895'), None, 'http://www.sec.gov/cgi-bin/browse-edgar?action=getcompany&CIK=OXY'], ['OMC', 'Omnicom Group', 'Consumer Discretionary', Decimal('75.91'), Decimal('15.27'), Decimal('3.1838684'), Decimal('4.79'), Decimal('86.71'), Decimal('65.32'), Decimal('17377551986'), Decimal('2366000000'), Decimal('1.5327156'), Decimal('6.66'), 'http://www.sec.gov/cgi-bin/browse-edgar?action=getcompany&CIK=OMC'], ['OKE', 'ONEOK', 'Energy', Decimal('54.4'), Decimal('34'), Decimal('5.4436197'), Decimal('1.66'), Decimal('61.36'), Decimal('47.14'), Decimal('21988472489'), Decimal('1851783000'), Decimal('2.6159565'), Decimal('4.03'), 'http://www.sec.gov/cgi-bin/browse-edgar?action=getcompany&CIK=OKE'], ['ORCL', 'Oracle Corp.', 'Information Technology', Decimal('46.84'), Decimal('18.81'), Decimal('1.5551463'), Decimal('2.2'), Decimal('53.14'), Decimal('40.01'), Decimal('202302349740'), Decimal('16545000000'), Decimal('5.2561646'), Decimal('3.56'), 'http://www.sec.gov/cgi-bin/browse-edgar?action=getcompany&CIK=ORCL'], ['PCAR', 'PACCAR Inc.', 'Industrials', Decimal('66.98'), Decimal('15.72'), Decimal('1.455816'), Decimal('4.75'), Decimal('79.69'), Decimal('61.93'), Decimal('24152102921'), Decimal('3619200000'), Decimal('1.28693'), Decimal('3.07'), 'http://www.sec.gov/cgi-bin/browse-edgar?action=getcompany&CIK=PCAR'], ['PKG', 'Packaging Corporation of America', 'Materials', Decimal('111.95'), Decimal('18.57'), Decimal('2.1514556'), Decimal('7.07'), Decimal('131.1316'), Decimal('88.47'), Decimal('11051273948'), Decimal('1214900000'), Decimal('1.741522'), Decimal('5.54'), 'http://www.sec.gov/cgi-bin/browse-edgar?action=getcompany&CIK=PKG'], ['PH', 'Parker-Hannifin', 'Industrials', Decimal('174.51'), Decimal('21.6'), Decimal('1.4401833'), Decimal('7.24'), Decimal('212.8'), Decimal('145.38'), Decimal('24421668509'), Decimal('2092089000'), Decimal('1.8652664'), Decimal('4.39'), 'http://www.sec.gov/cgi-bin/browse-edgar?action=getcompany&CIK=PH'], ['PDCO', 'Patterson Companies', 'Health Care', Decimal('32.88'), Decimal('14.05'), Decimal('3.0723782'), Decimal('1.79'), Decimal('48.295'), Decimal('32.07'), Decimal('3209792400'), Decimal('359644000'), Decimal('0.7872792'), Decimal('2.34'), 'http://www.sec.gov/cgi-bin/browse-edgar?action=getcompany&CIK=PDCO'], ['PAYX', 'Paychex Inc.', 'Information Technology', Decimal('61.86'), Decimal('27.49'), Decimal('3.0892801'), Decimal('2.26'), Decimal('73.1'), Decimal('54.2'), Decimal('23253666810'), Decimal('1414900000'), Decimal('7.248487'), Decimal('11.77'), 'http://www.sec.gov/cgi-bin/browse-edgar?action=getcompany&CIK=PAYX'], ['PYPL', 'PayPal', 'Information Technology', Decimal('72.32'), Decimal('49.53'), Decimal('0'), Decimal('1.47'), Decimal('86.32'), Decimal('39.92'), Decimal('90708000000'), Decimal('2932000000'), Decimal('6.935696'), Decimal('5.81'), 'http://www.sec.gov/cgi-bin/browse-edgar?action=getcompany&CIK=PYPL'], ['PNR', 'Pentair Ltd.', 'Industrials', Decimal('66.67'), Decimal('18.89'), Decimal('2.03933'), Decimal('3.63'), Decimal('74.84'), Decimal('57.63'), Decimal('12466660892'), Decimal('863700000'), Decimal('2.5191512'), Decimal('2.48'), 'http://www.sec.gov/cgi-bin/browse-edgar?action=getcompany&CIK=PNR'], ['PBCT', \"People's United Financial\", 'Financials', Decimal('18.56'), Decimal('18.02'), Decimal('3.59375'), Decimal('0.97'), Decimal('20.14'), Decimal('15.965'), Decimal('6527616000'), Decimal('0'), Decimal('3.9272704'), Decimal('1.17'), 'http://www.sec.gov/cgi-bin/browse-edgar?action=getcompany&CIK=PBCT'], ['PEP', 'PepsiCo Inc.', 'Consumer Staples', Decimal('110.15'), Decimal('21.51'), Decimal('2.8370044'), Decimal('4.36'), Decimal('122.51'), Decimal('104.77'), Decimal('161413271020'), Decimal('12843000000'), Decimal('3.6705062'), None, 'http://www.sec.gov/cgi-bin/browse-edgar?action=getcompany&CIK=PEP'], ['PKI', 'PerkinElmer', 'Health Care', Decimal('72.06'), Decimal('24.68'), Decimal('0.3695394'), Decimal('2.64'), Decimal('84.49'), Decimal('52.63'), Decimal('8351767268'), Decimal('445658000'), Decimal('3.7116463'), Decimal('3.25'), 'http://www.sec.gov/cgi-bin/browse-edgar?action=getcompany&CIK=PKI'], ['PRGO', 'Perrigo', 'Health Care', Decimal('84.44'), None, Decimal('0.73126143'), Decimal('-28.01'), Decimal('95.93'), Decimal('63.68'), Decimal('12326379902'), Decimal('0'), Decimal('3.3850067'), Decimal('2.03'), 'http://www.sec.gov/cgi-bin/browse-edgar?action=getcompany&CIK=PRGO'], ['PFE', 'Pfizer Inc.', 'Health Care', Decimal('33.63'), Decimal('12.69'), Decimal('3.8879359'), Decimal('3.51'), Decimal('39.43'), Decimal('31.67'), Decimal('208505541949'), Decimal('20569000000'), Decimal('4.0020885'), Decimal('3.4'), 'http://www.sec.gov/cgi-bin/browse-edgar?action=getcompany&CIK=PFE'], ['PCG', 'PG&E Corp.', 'Utilities', Decimal('38.24'), Decimal('8.75'), Decimal('0'), Decimal('2.78'), Decimal('71.57'), Decimal('38.45'), Decimal('20309412381'), Decimal('6471000000'), Decimal('1.5730644'), Decimal('1.09'), 'http://www.sec.gov/cgi-bin/browse-edgar?action=getcompany&CIK=PCG'], ['PM', 'Philip Morris International', 'Consumer Staples', Decimal('100.39'), Decimal('22.36'), Decimal('4.328479'), Decimal('4.48'), Decimal('123.55'), Decimal('96.66'), Decimal('153580671803'), Decimal('11802000000'), Decimal('2.7574685'), Decimal('1318.7'), 'http://www.sec.gov/cgi-bin/browse-edgar?action=getcompany&CIK=PM'], ['PSX', 'Phillips 66', 'Energy', Decimal('92.44'), Decimal('21.11'), Decimal('2.928564'), Decimal('9.93'), Decimal('107.47'), Decimal('75.135'), Decimal('47996220000'), Decimal('5311000000'), Decimal('0.47499472'), Decimal('2.12'), 'http://www.sec.gov/cgi-bin/browse-edgar?action=getcompany&CIK=PSX'], ['PNW', 'Pinnacle West Capital', 'Utilities', Decimal('74.34'), Decimal('16.06'), Decimal('3.698776'), Decimal('3.95'), Decimal('92.48'), Decimal('73.81'), Decimal('8397609889'), Decimal('1614399000'), Decimal('2.9931207'), Decimal('1.65'), 'http://www.sec.gov/cgi-bin/browse-edgar?action=getcompany&CIK=PNW'], ['PXD', 'Pioneer Natural Resources', 'Energy', Decimal('169.16'), Decimal('118.29'), Decimal('0.1816118'), Decimal('-3.39'), Decimal('199.83'), Decimal('125.46'), Decimal('29983119693'), Decimal('1717000000'), Decimal('6.7890477'), Decimal('2.76'), 'http://www.sec.gov/cgi-bin/browse-edgar?action=getcompany&CIK=PXD'], ['PNC', 'PNC Financial Services', 'Financials', Decimal('149.38'), Decimal('17.55'), Decimal('1.9354838'), Decimal('10.4'), Decimal('160.07'), Decimal('115.25'), Decimal('73315000000'), Decimal('0'), Decimal('4.04653'), Decimal('1.53'), 'http://www.sec.gov/cgi-bin/browse-edgar?action=getcompany&CIK=PNC'], ['RL', 'Polo Ralph Lauren Corp.', 'Consumer Discretionary', Decimal('101.32'), Decimal('17.74'), Decimal('1.8570102'), Decimal('-1.19'), Decimal('119.33'), Decimal('66.06'), Decimal('8753430477'), Decimal('506100000'), Decimal('1.3948758'), Decimal('2.44'), 'http://www.sec.gov/cgi-bin/browse-edgar?action=getcompany&CIK=RL'], ['PPG', 'PPG Industries', 'Materials', Decimal('110.3'), Decimal('18.73'), Decimal('1.5771489'), Decimal('6.31'), Decimal('122.0697'), Decimal('99.57'), Decimal('29043337549'), Decimal('2585000000'), Decimal('1.9551051'), Decimal('4.83'), 'http://www.sec.gov/cgi-bin/browse-edgar?action=getcompany&CIK=PPG'], ['PPL', 'PPL Corp.', 'Utilities', Decimal('29.52'), Decimal('12.83'), Decimal('5.2196894'), Decimal('2.79'), Decimal('40.2'), Decimal('29.205'), Decimal('20839814845'), Decimal('3937000000'), Decimal('3.7497053'), Decimal('1.95'), 'http://www.sec.gov/cgi-bin/browse-edgar?action=getcompany&CIK=PPL'], ['PX', 'Praxair Inc.', 'Materials', Decimal('144.07'), Decimal('24.63'), Decimal('2.1998534'), Decimal('4.32'), Decimal('166.95'), Decimal('115.53'), Decimal('42948664203'), Decimal('3632000000'), Decimal('3.887915'), Decimal('6.88'), 'http://www.sec.gov/cgi-bin/browse-edgar?action=getcompany&CIK=PX'], ['PCLN', 'Priceline.com Inc', 'Consumer Discretionary', Decimal('1806.06'), Decimal('24.26'), Decimal('0'), Decimal('42.66'), Decimal('2067.99'), Decimal('1589'), Decimal('91817448863'), Decimal('4803487000'), Decimal('9.176564'), Decimal('6.92'), 'http://www.sec.gov/cgi-bin/browse-edgar?action=getcompany&CIK=PCLN'], ['PFG', 'Principal Financial Group', 'Financials', Decimal('60.38'), Decimal('11.96'), Decimal('3.1914895'), Decimal('4.5'), Decimal('75.585'), Decimal('58.9401'), Decimal('18457199721'), Decimal('0'), Decimal('1.7167546'), Decimal('1.53'), 'http://www.sec.gov/cgi-bin/browse-edgar?action=getcompany&CIK=PFG'], ['PG', 'Procter & Gamble', 'Consumer Staples', Decimal('80.22'), Decimal('20.46'), Decimal('3.3704789'), Decimal('5.6'), Decimal('94.67'), Decimal('80.1'), Decimal('206318943299'), Decimal('17249000000'), Decimal('3.1595004'), Decimal('3.85'), 'http://www.sec.gov/cgi-bin/browse-edgar?action=getcompany&CIK=PG'], ['PGR', 'Progressive Corp.', 'Financials', Decimal('51.07'), Decimal('20.76'), Decimal('2.1061797'), Decimal('2.73'), Decimal('58.25'), Decimal('36.84'), Decimal('31062780000'), Decimal('0'), Decimal('1.1458876'), Decimal('3.25'), 'http://www.sec.gov/cgi-bin/browse-edgar?action=getcompany&CIK=PGR'], ['PLD', 'Prologis', 'Real Estate', Decimal('58.33'), Decimal('20.76'), Decimal('2.931379'), Decimal('3.06'), Decimal('67.53'), Decimal('48.69'), Decimal('31953288000'), Decimal('2969194000'), Decimal('14.380373'), Decimal('2.11'), 'http://www.sec.gov/cgi-bin/browse-edgar?action=getcompany&CIK=PLD'], ['PRU', 'Prudential Financial', 'Financials', Decimal('103.38'), Decimal('9.99'), Decimal('2.6985698'), Decimal('9.73'), Decimal('127.14'), Decimal('97.88'), Decimal('47136080000'), Decimal('0'), Decimal('1.083727'), Decimal('0.93'), 'http://www.sec.gov/cgi-bin/browse-edgar?action=getcompany&CIK=PRU'], ['PEG', 'Public Serv. Enterprise Inc.', 'Utilities', Decimal('46.73'), Decimal('16.11'), Decimal('3.60587'), Decimal('1.75'), Decimal('53.28'), Decimal('41.67'), Decimal('24138050331'), Decimal('3613000000'), Decimal('3.4491453'), Decimal('1.88'), 'http://www.sec.gov/cgi-bin/browse-edgar?action=getcompany&CIK=PEG'], ['PSA', 'Public Storage', 'Real Estate', Decimal('180.49'), Decimal('18.21'), Decimal('4.316159'), Decimal('6.81'), Decimal('232.21'), Decimal('180.9254'), Decimal('32258539942'), Decimal('1924803000'), Decimal('16.16417'), Decimal('6.56'), 'http://www.sec.gov/cgi-bin/browse-edgar?action=getcompany&CIK=PSA'], ['PHM', 'Pulte Homes Inc.', 'Consumer Discretionary', Decimal('28.67'), Decimal('12.86'), Decimal('1.2036108'), Decimal('1.44'), Decimal('35.21'), Decimal('21.06'), Decimal('8792572352'), Decimal('992811000'), Decimal('1.0341544'), Decimal('1.99'), 'http://www.sec.gov/cgi-bin/browse-edgar?action=getcompany&CIK=PHM'], ['PVH', 'PVH Corp.', 'Consumer Discretionary', Decimal('142.68'), Decimal('20.98'), Decimal('0.100529455'), Decimal('6.77'), Decimal('157.96'), Decimal('84.53'), Decimal('11478625926'), Decimal('1057500000'), Decimal('1.7617522'), Decimal('2.14'), 'http://www.sec.gov/cgi-bin/browse-edgar?action=getcompany&CIK=PVH'], ['QRVO', 'Qorvo', 'Information Technology', Decimal('76.85'), Decimal('19.71'), Decimal('0'), Decimal('-0.13'), Decimal('85.24'), Decimal('62.68'), Decimal('9877885146'), Decimal('806875000'), Decimal('3.389142'), Decimal('1.98'), 'http://www.sec.gov/cgi-bin/browse-edgar?action=getcompany&CIK=QRVO'], ['QCOM', 'QUALCOMM Inc.', 'Information Technology', Decimal('62.42'), Decimal('16.51'), Decimal('3.5055351'), Decimal('1.65'), Decimal('69.28'), Decimal('48.92'), Decimal('96282828902'), Decimal('4191000000'), Decimal('4.263658'), Decimal('3.82'), 'http://www.sec.gov/cgi-bin/browse-edgar?action=getcompany&CIK=QCOM'], ['PWR', 'Quanta Services Inc.', 'Industrials', Decimal('33.51'), Decimal('17.54'), Decimal('0'), Decimal('1.28'), Decimal('40.105'), Decimal('30.23'), Decimal('5330131216'), Decimal('649404000'), Decimal('0.77893436'), Decimal('1.43'), 'http://www.sec.gov/cgi-bin/browse-edgar?action=getcompany&CIK=PWR'], ['DGX', 'Quest Diagnostics', 'Health Care', Decimal('96.42'), Decimal('17.07'), Decimal('1.9884669'), Decimal('5.5'), Decimal('112.965'), Decimal('90.1'), Decimal('13578300000'), Decimal('1453000000'), Decimal('1.7709883'), Decimal('2.82'), 'http://www.sec.gov/cgi-bin/browse-edgar?action=getcompany&CIK=DGX'], ['RRC', 'Range Resources Corp.', 'Energy', Decimal('12.82'), Decimal('35.61'), Decimal('0.6097561'), Decimal('-2.79'), Decimal('34.09'), Decimal('12.7'), Decimal('3255587970'), Decimal('820095000'), Decimal('1.9624339'), Decimal('0.59'), 'http://www.sec.gov/cgi-bin/browse-edgar?action=getcompany&CIK=RRC'], ['RJF', 'Raymond James Financial Inc.', 'Financials', Decimal('86.06'), Decimal('16.94'), Decimal('1.0982976'), Decimal('4.12'), Decimal('99.1'), Decimal('71.35'), Decimal('13216271700'), Decimal('0'), Decimal('1.9734555'), Decimal('2.34'), 'http://www.sec.gov/cgi-bin/browse-edgar?action=getcompany&CIK=RJF'], ['RTN', 'Raytheon Co.', 'Industrials', Decimal('198.74'), Decimal('25.78'), Decimal('1.5612764'), Decimal('6.95'), Decimal('213.45'), Decimal('147.86'), Decimal('59066255840'), Decimal('3868000000'), Decimal('2.2938328'), Decimal('5.28'), 'http://www.sec.gov/cgi-bin/browse-edgar?action=getcompany&CIK=RTN'], ['O', 'Realty Income Corporation', 'Real Estate', Decimal('47.56'), Decimal('15.54'), Decimal('5.372036'), Decimal('1.12'), Decimal('63.6'), Decimal('48.89'), Decimal('13784942453'), Decimal('1075568000'), Decimal('15.588069'), Decimal('1.92'), 'http://www.sec.gov/cgi-bin/browse-edgar?action=getcompany&CIK=O'], ['RHT', 'Red Hat Inc.', 'Information Technology', Decimal('124.65'), Decimal('79.9'), Decimal('0'), Decimal('1.68'), Decimal('135.77'), Decimal('78.48'), Decimal('22799923883'), Decimal('541809000'), Decimal('8.202077'), Decimal('15.69'), 'http://www.sec.gov/cgi-bin/browse-edgar?action=getcompany&CIK=RHT'], ['REG', 'Regency Centers Corporation', 'Real Estate', Decimal('55.58'), Decimal('15.27'), Decimal('3.6850338'), Decimal('1.43'), Decimal('72.05'), Decimal('56.66'), Decimal('9858367494'), Decimal('487636000'), Decimal('13.762162'), Decimal('1.51'), 'http://www.sec.gov/cgi-bin/browse-edgar?action=getcompany&CIK=REG'], ['REGN', 'Regeneron', 'Health Care', Decimal('322.62'), Decimal('27.93'), Decimal('0'), Decimal('7.74'), Decimal('543.5518'), Decimal('319.5'), Decimal('35950369241'), Decimal('2043160000'), Decimal('8.48541'), Decimal('5.89'), 'http://www.sec.gov/cgi-bin/browse-edgar?action=getcompany&CIK=REGN'], ['RF', 'Regions Financial Corp.', 'Financials', Decimal('17.9'), Decimal('17.9'), Decimal('1.8987342'), Decimal('1'), Decimal('19.9'), Decimal('13'), Decimal('21500640000'), Decimal('0'), Decimal('3.474771'), Decimal('1.32'), 'http://www.sec.gov/cgi-bin/browse-edgar?action=getcompany&CIK=RF'], ['RSG', 'Republic Services Inc', 'Industrials', Decimal('62.72'), Decimal('26.13'), Decimal('2.1362228'), Decimal('1.77'), Decimal('69.4'), Decimal('57.53'), Decimal('21590903863'), Decimal('2734000000'), Decimal('2.8841186'), Decimal('2.83'), 'http://www.sec.gov/cgi-bin/browse-edgar?action=getcompany&CIK=RSG'], ['RMD', 'ResMed', 'Health Care', Decimal('89.26'), Decimal('31.54'), Decimal('1.5120423'), Decimal('2.41'), Decimal('104.78'), Decimal('67.04'), Decimal('13233622689'), Decimal('636942000'), Decimal('6.1640687'), Decimal('6.61'), 'http://www.sec.gov/cgi-bin/browse-edgar?action=getcompany&CIK=RMD'], ['RHI', 'Robert Half International', 'Industrials', Decimal('52.26'), Decimal('20.18'), Decimal('1.7075773'), Decimal('2.32'), Decimal('60.59'), Decimal('42.92'), Decimal('7047165475'), Decimal('565196000'), Decimal('1.3330402'), Decimal('5.98'), 'http://www.sec.gov/cgi-bin/browse-edgar?action=getcompany&CIK=RHI'], ['ROK', 'Rockwell Automation Inc.', 'Industrials', Decimal('178.73'), Decimal('26.48'), Decimal('1.7692552'), Decimal('6.35'), Decimal('210.72'), Decimal('147.67'), Decimal('24123216432'), Decimal('1323200000'), Decimal('3.760594'), Decimal('10.94'), 'http://www.sec.gov/cgi-bin/browse-edgar?action=getcompany&CIK=ROK'], ['COL', 'Rockwell Collins', 'Industrials', Decimal('133.31'), Decimal('22.29'), Decimal('0.9748892'), Decimal('4.8'), Decimal('139.63'), Decimal('89.9'), Decimal('22197870556'), Decimal('1696000000'), Decimal('3.781273'), Decimal('3.46'), 'http://www.sec.gov/cgi-bin/browse-edgar?action=getcompany&CIK=COL'], ['ROP', 'Roper Technologies', 'Industrials', Decimal('259.4'), Decimal('27.57'), Decimal('0.61985797'), Decimal('9.38'), Decimal('290.415'), Decimal('191.22'), Decimal('27247789759'), Decimal('1555209000'), Decimal('5.9715905'), Decimal('4.23'), 'http://www.sec.gov/cgi-bin/browse-edgar?action=getcompany&CIK=ROP'], ['ROST', 'Ross Stores', 'Consumer Discretionary', Decimal('75.06'), Decimal('26.52'), Decimal('0.82061803'), Decimal('2.83'), Decimal('85.66'), Decimal('52.85'), Decimal('29803566306'), Decimal('2247009000'), Decimal('2.9734495'), Decimal('10.28'), 'http://www.sec.gov/cgi-bin/browse-edgar?action=getcompany&CIK=ROST'], ['RCL', 'Royal Caribbean Cruises Ltd', 'Consumer Discretionary', Decimal('122.45'), Decimal('16.26'), Decimal('1.8674136'), Decimal('7.53'), Decimal('135.65'), Decimal('93.4'), Decimal('27418147452'), Decimal('2876309000'), Decimal('3.1026611'), Decimal('2.56'), 'http://www.sec.gov/cgi-bin/browse-edgar?action=getcompany&CIK=RCL'], ['SPGI', 'S&P Global, Inc.', 'Financials', Decimal('173.31'), Decimal('27.38'), Decimal('1.0947506'), Decimal('7.95'), Decimal('185.38'), Decimal('124.64'), Decimal('46585950000'), Decimal('3021000000'), Decimal('10.254704'), Decimal('50.56'), 'http://www.sec.gov/cgi-bin/browse-edgar?action=getcompany&CIK=SPGI'], ['CRM', 'Salesforce.com', 'Information Technology', Decimal('104.03'), Decimal('520.15'), Decimal('0'), Decimal('0.27'), Decimal('114.52'), Decimal('79.63'), Decimal('79489115000'), Decimal('925804000'), Decimal('10.3738785'), Decimal('8.81'), 'http://www.sec.gov/cgi-bin/browse-edgar?action=getcompany&CIK=CRM'], ['SBAC', 'SBA Communications', 'Real Estate', Decimal('159.85'), Decimal('199.81'), Decimal('0'), Decimal('0.62'), Decimal('177.67'), Decimal('103.51'), Decimal('19572031314'), Decimal('1074240000'), Decimal('15.189207'), Decimal('91.04'), 'http://www.sec.gov/cgi-bin/browse-edgar?action=getcompany&CIK=SBAC'], ['SCG', 'SCANA Corp', 'Utilities', Decimal('35.6'), Decimal('8.75'), Decimal('6.6830335'), Decimal('4.16'), Decimal('71.28'), Decimal('35.31'), Decimal('5229448882'), Decimal('1459000000'), Decimal('1.651705'), Decimal('0.92'), 'http://www.sec.gov/cgi-bin/browse-edgar?action=getcompany&CIK=SCG'], ['SLB', 'Schlumberger Ltd.', 'Energy', Decimal('67.4'), Decimal('44.93'), Decimal('2.8673835'), Decimal('-1.08'), Decimal('82.71'), Decimal('61.02'), Decimal('96529311126'), Decimal('3222000000'), Decimal('3.2297828'), Decimal('2.64'), 'http://www.sec.gov/cgi-bin/browse-edgar?action=getcompany&CIK=SLB'], ['SNI', 'Scripps Networks Interactive Inc.', 'Consumer Discretionary', Decimal('86.46'), Decimal('16.04'), Decimal('1.3761468'), Decimal('5.18'), Decimal('88.87'), Decimal('64.87'), Decimal('11328642413'), Decimal('1351059000'), Decimal('4.374079'), Decimal('4.22'), 'http://www.sec.gov/cgi-bin/browse-edgar?action=getcompany&CIK=SNI'], ['STX', 'Seagate Technology', 'Information Technology', Decimal('47.44'), Decimal('11.51'), Decimal('5.085772'), Decimal('2.58'), Decimal('56.45'), Decimal('30.6'), Decimal('14113197720'), Decimal('1811000000'), Decimal('1.3048558'), Decimal('13.33'), 'http://www.sec.gov/cgi-bin/browse-edgar?action=getcompany&CIK=STX'], ['SEE', 'Sealed Air', 'Materials', Decimal('42.62'), Decimal('21.31'), Decimal('1.4427412'), Decimal('2.46'), Decimal('50.62'), Decimal('41.22'), Decimal('8001938397'), Decimal('969700000'), Decimal('2.4700067'), Decimal('10.55'), 'http://www.sec.gov/cgi-bin/browse-edgar?action=getcompany&CIK=SEE'], ['SRE', 'Sempra Energy', 'Utilities', Decimal('103.36'), Decimal('19.14'), Decimal('3.1607263'), Decimal('5.45'), Decimal('122.975'), Decimal('100.63'), Decimal('26163862235'), Decimal('3763000000'), Decimal('3.15303'), Decimal('1.98'), 'http://www.sec.gov/cgi-bin/browse-edgar?action=getcompany&CIK=SRE'], ['SHW', 'Sherwin-Williams', 'Materials', Decimal('387.65'), Decimal('26.75'), Decimal('0.8426688'), Decimal('18.61'), Decimal('435.15'), Decimal('302.0101'), Decimal('37730994828'), Decimal('2160668000'), Decimal('2.5276077'), Decimal('13.42'), 'http://www.sec.gov/cgi-bin/browse-edgar?action=getcompany&CIK=SHW'], ['SIG', 'Signet Jewelers', 'Consumer Discretionary', Decimal('49.38'), Decimal('6.65'), Decimal('2.4730754'), Decimal('7.03'), Decimal('77.94'), Decimal('46.09'), Decimal('3034275549'), Decimal('852700000'), Decimal('0.7564699'), Decimal('1.38'), 'http://www.sec.gov/cgi-bin/browse-edgar?action=getcompany&CIK=SIG'], ['SPG', 'Simon Property Group Inc', 'Real Estate', Decimal('152.18'), Decimal('13.56'), Decimal('5.0368075'), Decimal('6.25'), Decimal('187.35'), Decimal('150.15'), Decimal('48139839531'), Decimal('4411515000'), Decimal('8.754495'), Decimal('13.24'), 'http://www.sec.gov/cgi-bin/browse-edgar?action=getcompany&CIK=SPG'], ['SWKS', 'Skyworks Solutions', 'Information Technology', Decimal('99.04'), Decimal('16.45'), Decimal('1.2629502'), Decimal('5.41'), Decimal('117.65'), Decimal('90.53'), Decimal('18493080922'), Decimal('1122900000'), Decimal('6.9704437'), Decimal('4.25'), 'http://www.sec.gov/cgi-bin/browse-edgar?action=getcompany&CIK=SWKS'], ['SLG', 'SL Green Realty', 'Real Estate', Decimal('90.61'), Decimal('14.07'), Decimal('3.4998922'), Decimal('0.88'), Decimal('115.34'), Decimal('91.2'), Decimal('8617714345'), Decimal('795889000'), Decimal('6.5820084'), Decimal('1.32'), 'http://www.sec.gov/cgi-bin/browse-edgar?action=getcompany&CIK=SLG'], ['SNA', 'Snap-On Inc.', 'Consumer Discretionary', Decimal('156.72'), Decimal('15.81'), Decimal('1.968433'), Decimal('9.2'), Decimal('185.47'), Decimal('140.83'), Decimal('9499107736'), Decimal('982200000'), Decimal('3.5114813'), Decimal('3.21'), 'http://www.sec.gov/cgi-bin/browse-edgar?action=getcompany&CIK=SNA'], ['SO', 'Southern Co.', 'Utilities', Decimal('43.4'), Decimal('15.78'), Decimal('5.3530226'), Decimal('2.53'), Decimal('53.51'), Decimal('42.63'), Decimal('43497224128'), Decimal('6012000000'), Decimal('2.5080602'), Decimal('1.82'), 'http://www.sec.gov/cgi-bin/browse-edgar?action=getcompany&CIK=SO'], ['LUV', 'Southwest Airlines', 'Industrials', Decimal('55.63'), Decimal('15.89'), Decimal('0.863707'), Decimal('5.82'), Decimal('66.985'), Decimal('49.76'), Decimal('34351211637'), Decimal('4533000000'), Decimal('1.6294897'), Decimal('3.84'), 'http://www.sec.gov/cgi-bin/browse-edgar?action=getcompany&CIK=LUV'], ['SWK', 'Stanley Black & Decker', 'Consumer Discretionary', Decimal('152.86'), Decimal('20.57'), Decimal('1.5775635'), Decimal('8.05'), Decimal('176.62'), Decimal('121.09'), Decimal('24496399600'), Decimal('2264600000'), Decimal('1.944325'), Decimal('3.34'), 'http://www.sec.gov/cgi-bin/browse-edgar?action=getcompany&CIK=SWK'], ['SBUX', 'Starbucks Corp.', 'Consumer Discretionary', Decimal('53.77'), Decimal('25.98'), Decimal('2.203452'), Decimal('1.97'), Decimal('64.87'), Decimal('52.58'), Decimal('76548976000'), Decimal('7361500000'), Decimal('3.4392443'), Decimal('13.36'), 'http://www.sec.gov/cgi-bin/browse-edgar?action=getcompany&CIK=SBUX'], ['STT', 'State Street Corp.', 'Financials', Decimal('98.54'), Decimal('15.35'), Decimal('1.6228749'), Decimal('5.23'), Decimal('114.27'), Decimal('75.27'), Decimal('38059113300'), Decimal('0'), Decimal('3.263072'), Decimal('1.95'), 'http://www.sec.gov/cgi-bin/browse-edgar?action=getcompany&CIK=STT'], ['SRCL', 'Stericycle Inc', 'Industrials', Decimal('70.55'), Decimal('16.26'), Decimal('0'), Decimal('2.08'), Decimal('88'), Decimal('61.25'), Decimal('6218560288'), Decimal('305085000'), Decimal('2.2607324'), Decimal('2.15'), 'http://www.sec.gov/cgi-bin/browse-edgar?action=getcompany&CIK=SRCL'], ['SYK', 'Stryker Corp.', 'Health Care', Decimal('148.01'), Decimal('23.46'), Decimal('1.2234008'), Decimal('2.68'), Decimal('170'), Decimal('122.01'), Decimal('57509096756'), Decimal('2863000000'), Decimal('4.635566'), Decimal('5.54'), 'http://www.sec.gov/cgi-bin/browse-edgar?action=getcompany&CIK=SYK'], ['STI', 'SunTrust Banks', 'Financials', Decimal('65.8'), Decimal('16.25'), Decimal('2.3185046'), Decimal('4.48'), Decimal('72.06'), Decimal('51.96'), Decimal('32498948310'), Decimal('0'), Decimal('3.3089445'), Decimal('1.38'), 'http://www.sec.gov/cgi-bin/browse-edgar?action=getcompany&CIK=STI'], ['SYMC', 'Symantec Corp.', 'Information Technology', Decimal('25.59'), Decimal('39.37'), Decimal('1.1286682'), Decimal('-0.17'), Decimal('34.2'), Decimal('25.65'), Decimal('16520497264'), Decimal('1227000000'), Decimal('3.5516493'), Decimal('3.36'), 'http://www.sec.gov/cgi-bin/browse-edgar?action=getcompany&CIK=SYMC'], ['SYF', 'Synchrony Financial', 'Financials', Decimal('34.98'), Decimal('13.35'), Decimal('1.6'), Decimal('2.41'), Decimal('40.59'), Decimal('26.01'), Decimal('28893750000'), Decimal('0'), Decimal('2.1096623'), Decimal('1.97'), 'http://www.sec.gov/cgi-bin/browse-edgar?action=getcompany&CIK=SYF'], ['SNPS', 'Synopsys Inc.', 'Information Technology', Decimal('82.62'), Decimal('67.72'), Decimal('0'), Decimal('0.87'), Decimal('94.8'), Decimal('64.75'), Decimal('12767067883'), Decimal('579844000'), Decimal('6.276264'), Decimal('3.98'), 'http://www.sec.gov/cgi-bin/browse-edgar?action=getcompany&CIK=SNPS'], ['SYY', 'Sysco Corp.', 'Consumer Staples', Decimal('57'), Decimal('22.98'), Decimal('2.4644873'), Decimal('2.08'), Decimal('64.27'), Decimal('48.85'), Decimal('30445320778'), Decimal('2988725000'), Decimal('0.7295535'), Decimal('13.4'), 'http://www.sec.gov/cgi-bin/browse-edgar?action=getcompany&CIK=SYY'], ['TROW', 'T. Rowe Price Group', 'Financials', Decimal('101.99'), Decimal('19.92'), Decimal('2.140443'), Decimal('4.75'), Decimal('120.07'), Decimal('66.7'), Decimal('25810865035'), Decimal('2281400000'), Decimal('7.3911157'), Decimal('4.61'), 'http://www.sec.gov/cgi-bin/browse-edgar?action=getcompany&CIK=TROW'], ['TPR', 'Tapestry, Inc.', 'Consumer Discretionary', Decimal('48.85'), None, Decimal('0'), Decimal('2.09'), Decimal('50.71'), Decimal('36.69'), Decimal('14247199374'), Decimal('0'), Decimal('4.0785494'), Decimal('4.35'), 'http://www.sec.gov/cgi-bin/browse-edgar?action=getcompany&CIK=TPR'], ['TGT', 'Target Corp.', 'Consumer Discretionary', Decimal('71.11'), Decimal('14.19'), Decimal('3.3856654'), Decimal('4.71'), Decimal('78.7'), Decimal('48.56'), Decimal('39816696539'), Decimal('7105000000'), Decimal('0.8047394'), Decimal('3.45'), 'http://www.sec.gov/cgi-bin/browse-edgar?action=getcompany&CIK=TGT'], ['TEL', 'TE Connectivity Ltd.', 'Information Technology', Decimal('95.27'), Decimal('19.72'), Decimal('1.6062645'), Decimal('4.71'), Decimal('108.23'), Decimal('71.93'), Decimal('34983666316'), Decimal('2797000000'), Decimal('2.5734365'), Decimal('3.6'), 'http://www.sec.gov/cgi-bin/browse-edgar?action=getcompany&CIK=TEL'], ['FTI', 'TechnipFMC', 'Energy', Decimal('29.1'), Decimal('18.77'), Decimal('1.7060367'), Decimal('0'), Decimal('35'), Decimal('24.53'), Decimal('14163064455'), Decimal('540167833.423084'), Decimal('1.561575'), Decimal('1.06'), 'http://www.sec.gov/cgi-bin/browse-edgar?action=getcompany&CIK=FTI'], ['TXN', 'Texas Instruments', 'Information Technology', Decimal('97.66'), Decimal('24.05'), Decimal('2.4318495'), Decimal('3.6'), Decimal('120.75'), Decimal('74.52'), Decimal('100262526470'), Decimal('7013000000'), Decimal('6.9572234'), Decimal('9.32'), 'http://www.sec.gov/cgi-bin/browse-edgar?action=getcompany&CIK=TXN'], ['TXT', 'Textron Inc.', 'Industrials', Decimal('55.54'), Decimal('22.13'), Decimal('0.1381454'), Decimal('1.14'), Decimal('62.19'), Decimal('45'), Decimal('15254672353'), Decimal('1454000000'), Decimal('1.0645695'), Decimal('2.57'), 'http://www.sec.gov/cgi-bin/browse-edgar?action=getcompany&CIK=TXT'], ['BK', 'The Bank of New York Mellon Corp.', 'Financials', Decimal('53.29'), Decimal('14.76'), Decimal('1.7347307'), Decimal('3.73'), Decimal('58.99'), Decimal('44.91'), Decimal('56083904906'), Decimal('0'), Decimal('3.3834257'), Decimal('1.49'), 'http://www.sec.gov/cgi-bin/browse-edgar?action=getcompany&CIK=BK'], ['CLX', 'The Clorox Company', 'Consumer Staples', Decimal('127.76'), Decimal('23.44'), Decimal('2.6286967'), Decimal('5.33'), Decimal('150.4'), Decimal('124.09'), Decimal('16540418002'), Decimal('1295000000'), Decimal('2.798683'), Decimal('21.62'), 'http://www.sec.gov/cgi-bin/browse-edgar?action=getcompany&CIK=CLX'], ['COO', 'The Cooper Companies', 'Health Care', Decimal('223.17'), Decimal('22.96'), Decimal('0.026033757'), Decimal('7.52'), Decimal('256.39'), Decimal('187.02'), Decimal('11297958140'), Decimal('615700000'), Decimal('6.8538465'), Decimal('3.57'), 'http://www.sec.gov/cgi-bin/browse-edgar?action=getcompany&CIK=COO'], ['HSY', 'The Hershey Company', 'Consumer Staples', Decimal('97.65'), Decimal('20.51'), Decimal('2.6494346'), Decimal('3.66'), Decimal('116.49'), Decimal('98.851'), Decimal('20867272020'), Decimal('1404123000'), Decimal('2.8396711'), Decimal('25.64'), 'http://www.sec.gov/cgi-bin/browse-edgar?action=getcompany&CIK=HSY'], ['MOS', 'The Mosaic Company', 'Materials', Decimal('24.13'), Decimal('23.66'), Decimal('0.3960396'), Decimal('0.85'), Decimal('34.36'), Decimal('19.23'), Decimal('9726962131'), Decimal('1165100000'), Decimal('1.8161958'), Decimal('0.94'), 'http://www.sec.gov/cgi-bin/browse-edgar?action=getcompany&CIK=MOS'], ['TRV', 'The Travelers Companies Inc.', 'Financials', Decimal('135.01'), Decimal('16.48'), Decimal('2.0261714'), Decimal('7.31'), Decimal('150.55'), Decimal('113.76'), Decimal('38903131815'), Decimal('0'), Decimal('1.33382'), Decimal('1.63'), 'http://www.sec.gov/cgi-bin/browse-edgar?action=getcompany&CIK=TRV'], ['DIS', 'The Walt Disney Company', 'Consumer Discretionary', Decimal('101.35'), Decimal('17.78'), Decimal('1.6036655'), Decimal('5.7'), Decimal('116.1'), Decimal('96.2'), Decimal('157817273295'), Decimal('12544000000'), Decimal('3.9635563'), Decimal('3.82'), 'http://www.sec.gov/cgi-bin/browse-edgar?action=getcompany&CIK=DIS'], ['TMO', 'Thermo Fisher Scientific', 'Health Care', Decimal('198.73'), Decimal('21.84'), Decimal('0.3276319'), Decimal('5.6'), Decimal('226.44'), Decimal('151.69'), Decimal('83226586345'), Decimal('4751300000'), Decimal('4.015666'), Decimal('3.38'), 'http://www.sec.gov/cgi-bin/browse-edgar?action=getcompany&CIK=TMO'], ['TIF', 'Tiffany & Co.', 'Consumer Discretionary', Decimal('99.62'), Decimal('27'), Decimal('1.9402406'), Decimal('3.55'), Decimal('111.44'), Decimal('77.93'), Decimal('12810515320'), Decimal('949500000'), Decimal('4.516748'), Decimal('3.97'), 'http://www.sec.gov/cgi-bin/browse-edgar?action=getcompany&CIK=TIF'], ['TWX', 'Time Warner Inc.', 'Consumer Discretionary', Decimal('93.02'), Decimal('15.35'), Decimal('1.6927768'), Decimal('6.62'), Decimal('103.9'), Decimal('85.88'), Decimal('74185800000'), Decimal('7671000000'), Decimal('2.3735986'), Decimal('2.73'), 'http://www.sec.gov/cgi-bin/browse-edgar?action=getcompany&CIK=TWX'], ['TJX', 'TJX Companies Inc.', 'Consumer Discretionary', Decimal('74.36'), Decimal('21.01'), Decimal('1.64042'), Decimal('3.46'), Decimal('81.46'), Decimal('66.44'), Decimal('48181450881'), Decimal('4600216000'), Decimal('1.9293598'), Decimal('10.35'), 'http://www.sec.gov/cgi-bin/browse-edgar?action=getcompany&CIK=TJX'], ['TMK', 'Torchmark Corp.', 'Financials', Decimal('80.52'), Decimal('17.02'), Decimal('0.7204611'), Decimal('4.5'), Decimal('93.595'), Decimal('73.53'), Decimal('9614412169'), Decimal('0'), Decimal('3.1079664'), Decimal('1.88'), 'http://www.sec.gov/cgi-bin/browse-edgar?action=getcompany&CIK=TMK'], ['TSS', 'Total System Services', 'Information Technology', Decimal('81.17'), Decimal('25.85'), Decimal('0.6091133'), Decimal('3.16'), Decimal('89.92'), Decimal('50.96'), Decimal('15694951118'), Decimal('1097534000'), Decimal('3.175548'), Decimal('6.57'), 'http://www.sec.gov/cgi-bin/browse-edgar?action=getcompany&CIK=TSS'], ['TSCO', 'Tractor Supply Company', 'Consumer Discretionary', Decimal('65.94'), Decimal('19.57'), Decimal('1.6030874'), Decimal('3.3'), Decimal('82.68'), Decimal('49.87'), Decimal('8459271203'), Decimal('859519000'), Decimal('1.1642125'), Decimal('6.01'), 'http://www.sec.gov/cgi-bin/browse-edgar?action=getcompany&CIK=TSCO'], ['TDG', 'TransDigm Group', 'Industrials', Decimal('283'), Decimal('23.76'), Decimal('0'), Decimal('7.92'), Decimal('321.38'), Decimal('203.72'), Decimal('15241203731'), Decimal('1635916000'), Decimal('4.268832'), None, 'http://www.sec.gov/cgi-bin/browse-edgar?action=getcompany&CIK=TDG'], ['TRIP', 'TripAdvisor', 'Consumer Discretionary', Decimal('40.05'), Decimal('58.04'), Decimal('0'), Decimal('0.81'), Decimal('53.29'), Decimal('29.5'), Decimal('5700998508'), Decimal('234000000'), Decimal('4.5925775'), Decimal('3.49'), 'http://www.sec.gov/cgi-bin/browse-edgar?action=getcompany&CIK=TRIP'], ['FOXA', 'Twenty-First Century Fox Class A', 'Consumer Discretionary', Decimal('34.56'), Decimal('17.81'), Decimal('0.9983361'), Decimal('1.59'), Decimal('39.135'), Decimal('24.81'), Decimal('44027094922'), Decimal('5280000000'), Decimal('2.1080317'), Decimal('4.11'), 'http://www.sec.gov/cgi-bin/browse-edgar?action=getcompany&CIK=FOXA'], ['FOX', 'Twenty-First Century Fox Class B', 'Consumer Discretionary', Decimal('34.09'), Decimal('17.57'), Decimal('1.0084034'), Decimal('1.59'), Decimal('38.56'), Decimal('24.3'), Decimal('66135313503'), Decimal('5280000000'), Decimal('3.1654842'), Decimal('4.04'), 'http://www.sec.gov/cgi-bin/browse-edgar?action=getcompany&CIK=FOX'], ['TSN', 'Tyson Foods', 'Consumer Staples', Decimal('73.92'), Decimal('13.92'), Decimal('1.6353229'), Decimal('4.79'), Decimal('84.65'), Decimal('57.2'), Decimal('26957526800'), Decimal('2521000000'), Decimal('0.93730986'), Decimal('2.55'), 'http://www.sec.gov/cgi-bin/browse-edgar?action=getcompany&CIK=TSN'], ['USB', 'U.S. Bancorp', 'Financials', Decimal('52.65'), Decimal('15.35'), Decimal('2.189781'), Decimal('3.52'), Decimal('58.5'), Decimal('49.535'), Decimal('90940115897'), Decimal('0'), Decimal('3.7773547'), Decimal('2.09'), 'http://www.sec.gov/cgi-bin/browse-edgar?action=getcompany&CIK=USB'], ['UDR', 'UDR Inc', 'Real Estate', Decimal('32.92'), Decimal('17.79'), Decimal('3.668639'), Decimal('1.08'), Decimal('40.71'), Decimal('33.31'), Decimal('9050154422'), Decimal('665141000'), Decimal('12.365829'), Decimal('3.27'), 'http://www.sec.gov/cgi-bin/browse-edgar?action=getcompany&CIK=UDR'], ['ULTA', 'Ulta Salon Cosmetics & Fragrance Inc', 'Consumer Discretionary', Decimal('209.09'), Decimal('32.07'), Decimal('0'), Decimal('6.52'), Decimal('314.86'), Decimal('187.96'), Decimal('13300000127'), Decimal('1002093000'), Decimal('3.3779113'), Decimal('8.04'), 'http://www.sec.gov/cgi-bin/browse-edgar?action=getcompany&CIK=ULTA'], ['UAA', 'Under Armour Class A', 'Consumer Discretionary', Decimal('13.14'), Decimal('32.05'), Decimal('0'), Decimal('0.45'), Decimal('23.46'), Decimal('11.4'), Decimal('5856913571'), Decimal('399277000'), Decimal('1.602308'), Decimal('2.72'), 'http://www.sec.gov/cgi-bin/browse-edgar?action=getcompany&CIK=UAA'], ['UA', 'Under Armour Class C', 'Consumer Discretionary', Decimal('11.95'), Decimal('29.15'), Decimal('0'), Decimal('0.45'), Decimal('21.805'), Decimal('10.36'), Decimal('5366628950'), Decimal('399277000'), Decimal('1.4738787'), Decimal('2.5'), 'http://www.sec.gov/cgi-bin/browse-edgar?action=getcompany&CIK=UA'], ['UNP', 'Union Pacific', 'Industrials', Decimal('124.86'), Decimal('22.06'), Decimal('2.062655'), Decimal('13.52'), Decimal('143.05'), Decimal('101.06'), Decimal('101513290382'), Decimal('10169000000'), Decimal('4.8605075'), None, 'http://www.sec.gov/cgi-bin/browse-edgar?action=getcompany&CIK=UNP'], ['UAL', 'United Continental Holdings', 'Industrials', Decimal('63.37'), Decimal('8.85'), Decimal('0'), Decimal('7.05'), Decimal('83.04'), Decimal('56.51'), Decimal('19363059152'), Decimal('5929000000'), Decimal('0.5020496'), Decimal('2.09'), 'http://www.sec.gov/cgi-bin/browse-edgar?action=getcompany&CIK=UAL'], ['UNH', 'United Health Group Inc.', 'Health Care', Decimal('216.46'), Decimal('21.47'), Decimal('1.3284917'), Decimal('10.71'), Decimal('250.79'), Decimal('156.49'), Decimal('218834811333'), Decimal('17454000000'), Decimal('1.0903316'), Decimal('4.71'), 'http://www.sec.gov/cgi-bin/browse-edgar?action=getcompany&CIK=UNH'], ['UPS', 'United Parcel Service', 'Industrials', Decimal('109.28'), Decimal('18.27'), Decimal('2.9666696'), Decimal('5.62'), Decimal('135.53'), Decimal('102.12'), Decimal('96436356833'), Decimal('7919000000'), Decimal('1.4744618'), Decimal('64.7'), 'http://www.sec.gov/cgi-bin/browse-edgar?action=getcompany&CIK=UPS'], ['URI', 'United Rentals, Inc.', 'Industrials', Decimal('161.99'), Decimal('16.33'), Decimal('0'), Decimal('15.72'), Decimal('189'), Decimal('100.621'), Decimal('14654954091'), Decimal('2760000000'), Decimal('2.1782618'), Decimal('4.53'), 'http://www.sec.gov/cgi-bin/browse-edgar?action=getcompany&CIK=URI'], ['UTX', 'United Technologies', 'Industrials', Decimal('127.48'), Decimal('19.26'), Decimal('2.1216943'), Decimal('5.7'), Decimal('139.24'), Decimal('107.05'), Decimal('105387272474'), Decimal('10584000000'), Decimal('1.7324123'), Decimal('3.4'), 'http://www.sec.gov/cgi-bin/browse-edgar?action=getcompany&CIK=UTX'], ['UHS', 'Universal Health Services, Inc.', 'Health Care', Decimal('114.87'), Decimal('15.36'), Decimal('0.34153005'), Decimal('7.14'), Decimal('129.74'), Decimal('95.26'), Decimal('11116075286'), Decimal('1676204000'), Decimal('1.3158662'), Decimal('2.21'), 'http://www.sec.gov/cgi-bin/browse-edgar?action=getcompany&CIK=UHS'], ['UNM', 'Unum Group', 'Financials', Decimal('47.87'), Decimal('11.51'), Decimal('1.8189007'), Decimal('4.38'), Decimal('58.73'), Decimal('43.55'), Decimal('11256432318'), Decimal('0'), Decimal('0.9984924'), Decimal('1.19'), 'http://www.sec.gov/cgi-bin/browse-edgar?action=getcompany&CIK=UNM'], ['VFC', 'V.F. Corp.', 'Consumer Discretionary', Decimal('78.75'), Decimal('25.9'), Decimal('2.2865665'), Decimal('2.55'), Decimal('82.95'), Decimal('48.05'), Decimal('31797645904'), Decimal('1624441000'), Decimal('3.7110944'), Decimal('7.89'), 'http://www.sec.gov/cgi-bin/browse-edgar?action=getcompany&CIK=VFC'], ['VLO', 'Valero Energy', 'Energy', Decimal('86.77'), Decimal('18.74'), Decimal('3.5618877'), Decimal('9.24'), Decimal('99.95'), Decimal('60.69'), Decimal('39312309113'), Decimal('5401000000'), Decimal('0.4211918'), Decimal('1.93'), 'http://www.sec.gov/cgi-bin/browse-edgar?action=getcompany&CIK=VLO'], ['VAR', 'Varian Medical Systems', 'Health Care', Decimal('112.82'), Decimal('29.93'), Decimal('0'), Decimal('2.69'), Decimal('130.29'), Decimal('77.73'), Decimal('10692681720'), Decimal('500600000'), Decimal('3.9652252'), Decimal('7.32'), 'http://www.sec.gov/cgi-bin/browse-edgar?action=getcompany&CIK=VAR'], ['VTR', 'Ventas Inc', 'Real Estate', Decimal('50.92'), Decimal('12.21'), Decimal('5.965641'), Decimal('1.86'), Decimal('72.36'), Decimal('51.8'), Decimal('18865999082'), Decimal('1935931000'), Decimal('7.0740495'), Decimal('1.76'), 'http://www.sec.gov/cgi-bin/browse-edgar?action=getcompany&CIK=VTR'], ['VRSN', 'Verisign Inc.', 'Information Technology', Decimal('105.62'), Decimal('29.5'), Decimal('0'), Decimal('3.43'), Decimal('118.28'), Decimal('81.17'), Decimal('10754983829'), Decimal('767864000'), Decimal('12.401829'), Decimal('10.82'), 'http://www.sec.gov/cgi-bin/browse-edgar?action=getcompany&CIK=VRSN'], ['VRSK', 'Verisk Analytics', 'Industrials', Decimal('92.28'), Decimal('28.84'), Decimal('0'), Decimal('3.45'), Decimal('100.54'), Decimal('75.6'), Decimal('15594677147'), Decimal('1011200000'), Decimal('9.935474'), Decimal('9.34'), 'http://www.sec.gov/cgi-bin/browse-edgar?action=getcompany&CIK=VRSK'], ['VZ', 'Verizon Communications', 'Telecommunication Services', Decimal('49.04'), Decimal('13.08'), Decimal('4.626544'), Decimal('7.36'), Decimal('54.77'), Decimal('42.8'), Decimal('208092277044'), Decimal('45745000000'), Decimal('1.6452544'), Decimal('7.96'), 'http://www.sec.gov/cgi-bin/browse-edgar?action=getcompany&CIK=VZ'], ['VRTX', 'Vertex Pharmaceuticals Inc', 'Health Care', Decimal('151.6'), Decimal('252.67'), Decimal('0'), Decimal('1.04'), Decimal('174.955'), Decimal('84.39'), Decimal('39369386348'), Decimal('97562000'), Decimal('16.185404'), Decimal('21.91'), 'http://www.sec.gov/cgi-bin/browse-edgar?action=getcompany&CIK=VRTX'], ['VIAB', 'Viacom Inc.', 'Consumer Discretionary', Decimal('32.71'), Decimal('8.68'), Decimal('2.622091'), Decimal('4.68'), Decimal('46.72'), Decimal('22.13'), Decimal('10601008017'), Decimal('5600000000'), Decimal('1.0924768'), Decimal('2.08'), 'http://www.sec.gov/cgi-bin/browse-edgar?action=getcompany&CIK=VIAB'], ['V', 'Visa Inc.', 'Information Technology', Decimal('113.86'), Decimal('32.72'), Decimal('0.70204765'), Decimal('2.8'), Decimal('126.88'), Decimal('84.88'), Decimal('270038723213'), Decimal('13086000000'), Decimal('14.433654'), Decimal('9.4'), 'http://www.sec.gov/cgi-bin/browse-edgar?action=getcompany&CIK=V'], ['VNO', 'Vornado Realty Trust', 'Real Estate', Decimal('66.18'), Decimal('16.22'), Decimal('3.744428'), Decimal('4.33'), Decimal('111.72'), Decimal('66.0101'), Decimal('12778779911'), Decimal('0'), Decimal('7.1491003'), Decimal('3.63'), 'http://www.sec.gov/cgi-bin/browse-edgar?action=getcompany&CIK=VNO'], ['VMC', 'Vulcan Materials', 'Materials', Decimal('121.47'), Decimal('40.9'), Decimal('0.7797879'), Decimal('3.1'), Decimal('141.2'), Decimal('108.95'), Decimal('16964162228'), Decimal('970976000'), Decimal('5.7576876'), Decimal('3.54'), 'http://www.sec.gov/cgi-bin/browse-edgar?action=getcompany&CIK=VMC'], ['WMT', 'Wal-Mart Stores', 'Consumer Staples', Decimal('100.02'), Decimal('23.1'), Decimal('1.983471'), Decimal('4.39'), Decimal('109.98'), Decimal('66.89'), Decimal('304680931618'), Decimal('30721000000'), Decimal('0.82099426'), Decimal('3.89'), 'http://www.sec.gov/cgi-bin/browse-edgar?action=getcompany&CIK=WMT'], ['WBA', 'Walgreens Boots Alliance', 'Consumer Staples', Decimal('68.22'), Decimal('13.38'), Decimal('2.2368238'), Decimal('3.78'), Decimal('88'), Decimal('63.82'), Decimal('70862541911'), Decimal('7083000000'), Decimal('0.5904388'), Decimal('3.06'), 'http://www.sec.gov/cgi-bin/browse-edgar?action=getcompany&CIK=WBA'], ['WM', 'Waste Management Inc.', 'Industrials', Decimal('79.12'), Decimal('25.36'), Decimal('2.0800195'), Decimal('2.66'), Decimal('89.73'), Decimal('69.55'), Decimal('35488486675'), Decimal('3896000000'), Decimal('3.2787669'), Decimal('6.73'), 'http://www.sec.gov/cgi-bin/browse-edgar?action=getcompany&CIK=WM'], ['WAT', 'Waters Corporation', 'Health Care', Decimal('191.79'), Decimal('26.64'), Decimal('0'), Decimal('0.19'), Decimal('220.2'), Decimal('145.94'), Decimal('16064078572'), Decimal('773932000'), Decimal('6.9824114'), Decimal('6.15'), 'http://www.sec.gov/cgi-bin/browse-edgar?action=getcompany&CIK=WAT'], ['WEC', 'Wec Energy Group Inc', 'Utilities', Decimal('59.5'), Decimal('19.57'), Decimal('3.691948'), Decimal('3.79'), Decimal('70.09'), Decimal('56.63'), Decimal('18890296993'), Decimal('2736500000'), Decimal('2.4834197'), Decimal('2.1'), 'http://www.sec.gov/cgi-bin/browse-edgar?action=getcompany&CIK=WEC'], ['WFC', 'Wells Fargo', 'Financials', Decimal('55.4'), Decimal('13.58'), Decimal('2.7111576'), Decimal('4.07'), Decimal('66.31'), Decimal('49.27'), Decimal('281463620775'), Decimal('0'), Decimal('2.8728192'), Decimal('1.58'), 'http://www.sec.gov/cgi-bin/browse-edgar?action=getcompany&CIK=WFC'], ['HCN', 'Welltower Inc.', 'Real Estate', Decimal('54.67'), Decimal('12.74'), Decimal('6.1538463'), Decimal('2.81'), Decimal('78.17'), Decimal('55.29'), Decimal('20943679019'), Decimal('1908253000'), Decimal('6.725218'), Decimal('1.49'), 'http://www.sec.gov/cgi-bin/browse-edgar?action=getcompany&CIK=HCN'], ['WDC', 'Western Digital', 'Information Technology', Decimal('80.09'), Decimal('10.19'), Decimal('2.389201'), Decimal('1.29'), Decimal('95.77'), Decimal('71.38'), Decimal('24760297793'), Decimal('5169000000'), Decimal('1.245503'), Decimal('2'), 'http://www.sec.gov/cgi-bin/browse-edgar?action=getcompany&CIK=WDC'], ['WU', 'Western Union Co', 'Information Technology', Decimal('18.81'), Decimal('10.17'), Decimal('3.5915854'), Decimal('0.51'), Decimal('22.21'), Decimal('18.39'), Decimal('8951609207'), Decimal('694600000'), Decimal('2.22677'), Decimal('12.65'), 'http://www.sec.gov/cgi-bin/browse-edgar?action=getcompany&CIK=WU'], ['WRK', 'WestRock Company', 'Materials', Decimal('60.93'), Decimal('23.26'), Decimal('2.6699784'), Decimal('2.77'), Decimal('71.55'), Decimal('49.23'), Decimal('16433340688'), Decimal('2262300000'), Decimal('1.075785'), Decimal('1.58'), 'http://www.sec.gov/cgi-bin/browse-edgar?action=getcompany&CIK=WRK'], ['WY', 'Weyerhaeuser Corp.', 'Real Estate', Decimal('33.6'), Decimal('34.29'), Decimal('3.7079954'), Decimal('0.77'), Decimal('37.89'), Decimal('30.9504'), Decimal('26070297960'), Decimal('1365000000'), Decimal('3.6396794'), Decimal('2.9'), 'http://www.sec.gov/cgi-bin/browse-edgar?action=getcompany&CIK=WY'], ['WHR', 'Whirlpool Corp.', 'Consumer Discretionary', Decimal('164.95'), Decimal('11.77'), Decimal('2.5652986'), Decimal('4.51'), Decimal('202.99'), Decimal('158.8'), Decimal('12177920000'), Decimal('1842000000'), Decimal('0.58064795'), Decimal('2.57'), 'http://www.sec.gov/cgi-bin/browse-edgar?action=getcompany&CIK=WHR'], ['WMB', 'Williams Cos.', 'Energy', Decimal('28.56'), Decimal('48.41'), Decimal('4'), Decimal('-0.57'), Decimal('33.67'), Decimal('26.8188'), Decimal('24802396470'), Decimal('3955000000'), Decimal('4.2982845'), Decimal('3.01'), 'http://www.sec.gov/cgi-bin/browse-edgar?action=getcompany&CIK=WMB'], ['WLTW', 'Willis Towers Watson', 'Financials', Decimal('152.36'), Decimal('18.67'), Decimal('1.347058'), Decimal('3.07'), Decimal('165'), Decimal('120.869'), Decimal('20780269334'), Decimal('1440000000'), Decimal('3.4484663'), Decimal('2.1'), 'http://www.sec.gov/cgi-bin/browse-edgar?action=getcompany&CIK=WLTW'], ['WYN', 'Wyndham Worldwide', 'Consumer Discretionary', Decimal('113.56'), Decimal('18.77'), Decimal('1.9541779'), Decimal('5.53'), Decimal('127.96'), Decimal('80.11'), Decimal('11993835688'), Decimal('1232000000'), Decimal('2.7332082'), Decimal('18.91'), 'http://www.sec.gov/cgi-bin/browse-edgar?action=getcompany&CIK=WYN'], ['WYNN', 'Wynn Resorts Ltd', 'Consumer Discretionary', Decimal('169.28'), Decimal('31.7'), Decimal('1.1279043'), Decimal('7.27'), Decimal('203.63'), Decimal('92.67'), Decimal('18225400525'), Decimal('1501301000'), Decimal('2.478658'), Decimal('51.69'), 'http://www.sec.gov/cgi-bin/browse-edgar?action=getcompany&CIK=WYNN'], ['XEL', 'Xcel Energy Inc', 'Utilities', Decimal('42.44'), Decimal('18.14'), Decimal('3.3914273'), Decimal('2.21'), Decimal('52.22'), Decimal('41.16'), Decimal('21559611927'), Decimal('3885828000'), Decimal('2.520456'), Decimal('1.94'), 'http://www.sec.gov/cgi-bin/browse-edgar?action=getcompany&CIK=XEL'], ['XRX', 'Xerox Corp.', 'Information Technology', Decimal('29.8'), Decimal('8.87'), Decimal('3.207184'), Decimal('0.59'), Decimal('37.42'), Decimal('26.64'), Decimal('7938833340'), Decimal('1191000000'), Decimal('0.7877656'), Decimal('1.49'), 'http://www.sec.gov/cgi-bin/browse-edgar?action=getcompany&CIK=XRX'], ['XLNX', 'Xilinx Inc', 'Information Technology', Decimal('62.82'), Decimal('27.19'), Decimal('2.0904882'), Decimal('2.32'), Decimal('77.26'), Decimal('54.99'), Decimal('17064975551'), Decimal('845468000'), Decimal('7.101206'), Decimal('7.22'), 'http://www.sec.gov/cgi-bin/browse-edgar?action=getcompany&CIK=XLNX'], ['XL', 'XL Capital', 'Financials', Decimal('41.26'), Decimal('-19.93'), Decimal('2.0952382'), Decimal('-2.24'), Decimal('47.27'), Decimal('33.77'), Decimal('10753423590'), Decimal('0'), Decimal('0.84394187'), Decimal('0.97'), 'http://www.sec.gov/cgi-bin/browse-edgar?action=getcompany&CIK=XL'], ['XYL', 'Xylem Inc.', 'Industrials', Decimal('70.24'), Decimal('30.94'), Decimal('1.1700794'), Decimal('1.83'), Decimal('76.81'), Decimal('46.86'), Decimal('12915021000'), Decimal('722000000'), Decimal('2.7262094'), Decimal('5.31'), 'http://www.sec.gov/cgi-bin/browse-edgar?action=getcompany&CIK=XYL'], ['YUM', 'Yum! Brands Inc', 'Consumer Discretionary', Decimal('76.3'), Decimal('27.25'), Decimal('1.7970798'), Decimal('4.07'), Decimal('86.93'), Decimal('62.85'), Decimal('27003303098'), Decimal('2289000000'), Decimal('6.3136363'), Decimal('212.08'), 'http://www.sec.gov/cgi-bin/browse-edgar?action=getcompany&CIK=YUM'], ['ZBH', 'Zimmer Biomet Holdings', 'Health Care', Decimal('115.53'), Decimal('14.32'), Decimal('0.7948336'), Decimal('9.01'), Decimal('133.49'), Decimal('108.17'), Decimal('24454698119'), Decimal('2007400000'), Decimal('3.1648953'), Decimal('2.39'), 'http://www.sec.gov/cgi-bin/browse-edgar?action=getcompany&CIK=ZBH'], ['ZION', 'Zions Bancorp', 'Financials', Decimal('50.71'), Decimal('17.73'), Decimal('1.480933'), Decimal('2.6'), Decimal('55.61'), Decimal('38.43'), Decimal('10670678640'), Decimal('0'), Decimal('3.7945793'), Decimal('1.42'), 'http://www.sec.gov/cgi-bin/browse-edgar?action=getcompany&CIK=ZION'], ['ZTS', 'Zoetis', 'Health Care', Decimal('71.51'), Decimal('32.8'), Decimal('0.68237203'), Decimal('1.65'), Decimal('80.13'), Decimal('52'), Decimal('35991109776'), Decimal('1734000000'), Decimal('9.280896'), Decimal('18.09'), 'http://www.sec.gov/cgi-bin/browse-edgar?action=getcompany&CIK=ZTS']]\n"
          ]
        }
      ]
    },
    {
      "cell_type": "code",
      "source": [
        "import pandas as pd\n",
        "df = pd.DataFrame(resource.read())\n",
        "df"
      ],
      "metadata": {
        "colab": {
          "base_uri": "https://localhost:8080/",
          "height": 597
        },
        "id": "FCs80t4Hp48V",
        "outputId": "90371ade-30ce-46d3-b4a7-f9cc1cf69265"
      },
      "execution_count": 10,
      "outputs": [
        {
          "output_type": "execute_result",
          "data": {
            "text/plain": [
              "       0                       1                       2       3      4   \\\n",
              "0     MMM              3M Company             Industrials  222.89  24.31   \n",
              "1     AOS         A.O. Smith Corp             Industrials   60.24  27.76   \n",
              "2     ABT     Abbott Laboratories             Health Care   56.27  22.51   \n",
              "3    ABBV             AbbVie Inc.             Health Care  108.48  19.41   \n",
              "4     ACN           Accenture plc  Information Technology  150.51  25.47   \n",
              "..    ...                     ...                     ...     ...    ...   \n",
              "500   XYL              Xylem Inc.             Industrials   70.24  30.94   \n",
              "501   YUM         Yum! Brands Inc  Consumer Discretionary    76.3  27.25   \n",
              "502   ZBH  Zimmer Biomet Holdings             Health Care  115.53  14.32   \n",
              "503  ZION           Zions Bancorp              Financials   50.71  17.73   \n",
              "504   ZTS                  Zoetis             Health Care   71.51   32.8   \n",
              "\n",
              "             5     6       7       8             9            10         11  \\\n",
              "0     2.3328617  7.92  259.77  175.49  138721055226   9048000000  4.3902707   \n",
              "1     1.1479592   1.7   68.39  48.925   10783419933    601000000  3.5754826   \n",
              "2     1.9089824  0.26    64.6   42.28  102121042306   5744000000  3.7404804   \n",
              "3     2.4995599  3.29  125.86   60.05  181386347059  10310000000   6.291571   \n",
              "4     1.7144699  5.44   162.6  114.82   98765855553   5643228000   2.604117   \n",
              "..          ...   ...     ...     ...           ...          ...        ...   \n",
              "500   1.1700794  1.83   76.81   46.86   12915021000    722000000  2.7262094   \n",
              "501   1.7970798  4.07   86.93   62.85   27003303098   2289000000  6.3136363   \n",
              "502   0.7948336  9.01  133.49  108.17   24454698119   2007400000  3.1648953   \n",
              "503    1.480933   2.6   55.61   38.43   10670678640            0  3.7945793   \n",
              "504  0.68237203  1.65   80.13      52   35991109776   1734000000   9.280896   \n",
              "\n",
              "         12                                                 13  \n",
              "0     11.34  http://www.sec.gov/cgi-bin/browse-edgar?action...  \n",
              "1      6.35  http://www.sec.gov/cgi-bin/browse-edgar?action...  \n",
              "2      3.19  http://www.sec.gov/cgi-bin/browse-edgar?action...  \n",
              "3     26.14  http://www.sec.gov/cgi-bin/browse-edgar?action...  \n",
              "4     10.62  http://www.sec.gov/cgi-bin/browse-edgar?action...  \n",
              "..      ...                                                ...  \n",
              "500    5.31  http://www.sec.gov/cgi-bin/browse-edgar?action...  \n",
              "501  212.08  http://www.sec.gov/cgi-bin/browse-edgar?action...  \n",
              "502    2.39  http://www.sec.gov/cgi-bin/browse-edgar?action...  \n",
              "503    1.42  http://www.sec.gov/cgi-bin/browse-edgar?action...  \n",
              "504   18.09  http://www.sec.gov/cgi-bin/browse-edgar?action...  \n",
              "\n",
              "[505 rows x 14 columns]"
            ],
            "text/html": [
              "\n",
              "  <div id=\"df-727b8c5f-0bec-4a31-80b9-af8a080d1f0a\" class=\"colab-df-container\">\n",
              "    <div>\n",
              "<style scoped>\n",
              "    .dataframe tbody tr th:only-of-type {\n",
              "        vertical-align: middle;\n",
              "    }\n",
              "\n",
              "    .dataframe tbody tr th {\n",
              "        vertical-align: top;\n",
              "    }\n",
              "\n",
              "    .dataframe thead th {\n",
              "        text-align: right;\n",
              "    }\n",
              "</style>\n",
              "<table border=\"1\" class=\"dataframe\">\n",
              "  <thead>\n",
              "    <tr style=\"text-align: right;\">\n",
              "      <th></th>\n",
              "      <th>0</th>\n",
              "      <th>1</th>\n",
              "      <th>2</th>\n",
              "      <th>3</th>\n",
              "      <th>4</th>\n",
              "      <th>5</th>\n",
              "      <th>6</th>\n",
              "      <th>7</th>\n",
              "      <th>8</th>\n",
              "      <th>9</th>\n",
              "      <th>10</th>\n",
              "      <th>11</th>\n",
              "      <th>12</th>\n",
              "      <th>13</th>\n",
              "    </tr>\n",
              "  </thead>\n",
              "  <tbody>\n",
              "    <tr>\n",
              "      <th>0</th>\n",
              "      <td>MMM</td>\n",
              "      <td>3M Company</td>\n",
              "      <td>Industrials</td>\n",
              "      <td>222.89</td>\n",
              "      <td>24.31</td>\n",
              "      <td>2.3328617</td>\n",
              "      <td>7.92</td>\n",
              "      <td>259.77</td>\n",
              "      <td>175.49</td>\n",
              "      <td>138721055226</td>\n",
              "      <td>9048000000</td>\n",
              "      <td>4.3902707</td>\n",
              "      <td>11.34</td>\n",
              "      <td>http://www.sec.gov/cgi-bin/browse-edgar?action...</td>\n",
              "    </tr>\n",
              "    <tr>\n",
              "      <th>1</th>\n",
              "      <td>AOS</td>\n",
              "      <td>A.O. Smith Corp</td>\n",
              "      <td>Industrials</td>\n",
              "      <td>60.24</td>\n",
              "      <td>27.76</td>\n",
              "      <td>1.1479592</td>\n",
              "      <td>1.7</td>\n",
              "      <td>68.39</td>\n",
              "      <td>48.925</td>\n",
              "      <td>10783419933</td>\n",
              "      <td>601000000</td>\n",
              "      <td>3.5754826</td>\n",
              "      <td>6.35</td>\n",
              "      <td>http://www.sec.gov/cgi-bin/browse-edgar?action...</td>\n",
              "    </tr>\n",
              "    <tr>\n",
              "      <th>2</th>\n",
              "      <td>ABT</td>\n",
              "      <td>Abbott Laboratories</td>\n",
              "      <td>Health Care</td>\n",
              "      <td>56.27</td>\n",
              "      <td>22.51</td>\n",
              "      <td>1.9089824</td>\n",
              "      <td>0.26</td>\n",
              "      <td>64.6</td>\n",
              "      <td>42.28</td>\n",
              "      <td>102121042306</td>\n",
              "      <td>5744000000</td>\n",
              "      <td>3.7404804</td>\n",
              "      <td>3.19</td>\n",
              "      <td>http://www.sec.gov/cgi-bin/browse-edgar?action...</td>\n",
              "    </tr>\n",
              "    <tr>\n",
              "      <th>3</th>\n",
              "      <td>ABBV</td>\n",
              "      <td>AbbVie Inc.</td>\n",
              "      <td>Health Care</td>\n",
              "      <td>108.48</td>\n",
              "      <td>19.41</td>\n",
              "      <td>2.4995599</td>\n",
              "      <td>3.29</td>\n",
              "      <td>125.86</td>\n",
              "      <td>60.05</td>\n",
              "      <td>181386347059</td>\n",
              "      <td>10310000000</td>\n",
              "      <td>6.291571</td>\n",
              "      <td>26.14</td>\n",
              "      <td>http://www.sec.gov/cgi-bin/browse-edgar?action...</td>\n",
              "    </tr>\n",
              "    <tr>\n",
              "      <th>4</th>\n",
              "      <td>ACN</td>\n",
              "      <td>Accenture plc</td>\n",
              "      <td>Information Technology</td>\n",
              "      <td>150.51</td>\n",
              "      <td>25.47</td>\n",
              "      <td>1.7144699</td>\n",
              "      <td>5.44</td>\n",
              "      <td>162.6</td>\n",
              "      <td>114.82</td>\n",
              "      <td>98765855553</td>\n",
              "      <td>5643228000</td>\n",
              "      <td>2.604117</td>\n",
              "      <td>10.62</td>\n",
              "      <td>http://www.sec.gov/cgi-bin/browse-edgar?action...</td>\n",
              "    </tr>\n",
              "    <tr>\n",
              "      <th>...</th>\n",
              "      <td>...</td>\n",
              "      <td>...</td>\n",
              "      <td>...</td>\n",
              "      <td>...</td>\n",
              "      <td>...</td>\n",
              "      <td>...</td>\n",
              "      <td>...</td>\n",
              "      <td>...</td>\n",
              "      <td>...</td>\n",
              "      <td>...</td>\n",
              "      <td>...</td>\n",
              "      <td>...</td>\n",
              "      <td>...</td>\n",
              "      <td>...</td>\n",
              "    </tr>\n",
              "    <tr>\n",
              "      <th>500</th>\n",
              "      <td>XYL</td>\n",
              "      <td>Xylem Inc.</td>\n",
              "      <td>Industrials</td>\n",
              "      <td>70.24</td>\n",
              "      <td>30.94</td>\n",
              "      <td>1.1700794</td>\n",
              "      <td>1.83</td>\n",
              "      <td>76.81</td>\n",
              "      <td>46.86</td>\n",
              "      <td>12915021000</td>\n",
              "      <td>722000000</td>\n",
              "      <td>2.7262094</td>\n",
              "      <td>5.31</td>\n",
              "      <td>http://www.sec.gov/cgi-bin/browse-edgar?action...</td>\n",
              "    </tr>\n",
              "    <tr>\n",
              "      <th>501</th>\n",
              "      <td>YUM</td>\n",
              "      <td>Yum! Brands Inc</td>\n",
              "      <td>Consumer Discretionary</td>\n",
              "      <td>76.3</td>\n",
              "      <td>27.25</td>\n",
              "      <td>1.7970798</td>\n",
              "      <td>4.07</td>\n",
              "      <td>86.93</td>\n",
              "      <td>62.85</td>\n",
              "      <td>27003303098</td>\n",
              "      <td>2289000000</td>\n",
              "      <td>6.3136363</td>\n",
              "      <td>212.08</td>\n",
              "      <td>http://www.sec.gov/cgi-bin/browse-edgar?action...</td>\n",
              "    </tr>\n",
              "    <tr>\n",
              "      <th>502</th>\n",
              "      <td>ZBH</td>\n",
              "      <td>Zimmer Biomet Holdings</td>\n",
              "      <td>Health Care</td>\n",
              "      <td>115.53</td>\n",
              "      <td>14.32</td>\n",
              "      <td>0.7948336</td>\n",
              "      <td>9.01</td>\n",
              "      <td>133.49</td>\n",
              "      <td>108.17</td>\n",
              "      <td>24454698119</td>\n",
              "      <td>2007400000</td>\n",
              "      <td>3.1648953</td>\n",
              "      <td>2.39</td>\n",
              "      <td>http://www.sec.gov/cgi-bin/browse-edgar?action...</td>\n",
              "    </tr>\n",
              "    <tr>\n",
              "      <th>503</th>\n",
              "      <td>ZION</td>\n",
              "      <td>Zions Bancorp</td>\n",
              "      <td>Financials</td>\n",
              "      <td>50.71</td>\n",
              "      <td>17.73</td>\n",
              "      <td>1.480933</td>\n",
              "      <td>2.6</td>\n",
              "      <td>55.61</td>\n",
              "      <td>38.43</td>\n",
              "      <td>10670678640</td>\n",
              "      <td>0</td>\n",
              "      <td>3.7945793</td>\n",
              "      <td>1.42</td>\n",
              "      <td>http://www.sec.gov/cgi-bin/browse-edgar?action...</td>\n",
              "    </tr>\n",
              "    <tr>\n",
              "      <th>504</th>\n",
              "      <td>ZTS</td>\n",
              "      <td>Zoetis</td>\n",
              "      <td>Health Care</td>\n",
              "      <td>71.51</td>\n",
              "      <td>32.8</td>\n",
              "      <td>0.68237203</td>\n",
              "      <td>1.65</td>\n",
              "      <td>80.13</td>\n",
              "      <td>52</td>\n",
              "      <td>35991109776</td>\n",
              "      <td>1734000000</td>\n",
              "      <td>9.280896</td>\n",
              "      <td>18.09</td>\n",
              "      <td>http://www.sec.gov/cgi-bin/browse-edgar?action...</td>\n",
              "    </tr>\n",
              "  </tbody>\n",
              "</table>\n",
              "<p>505 rows × 14 columns</p>\n",
              "</div>\n",
              "    <div class=\"colab-df-buttons\">\n",
              "\n",
              "  <div class=\"colab-df-container\">\n",
              "    <button class=\"colab-df-convert\" onclick=\"convertToInteractive('df-727b8c5f-0bec-4a31-80b9-af8a080d1f0a')\"\n",
              "            title=\"Convert this dataframe to an interactive table.\"\n",
              "            style=\"display:none;\">\n",
              "\n",
              "  <svg xmlns=\"http://www.w3.org/2000/svg\" height=\"24px\" viewBox=\"0 -960 960 960\">\n",
              "    <path d=\"M120-120v-720h720v720H120Zm60-500h600v-160H180v160Zm220 220h160v-160H400v160Zm0 220h160v-160H400v160ZM180-400h160v-160H180v160Zm440 0h160v-160H620v160ZM180-180h160v-160H180v160Zm440 0h160v-160H620v160Z\"/>\n",
              "  </svg>\n",
              "    </button>\n",
              "\n",
              "  <style>\n",
              "    .colab-df-container {\n",
              "      display:flex;\n",
              "      gap: 12px;\n",
              "    }\n",
              "\n",
              "    .colab-df-convert {\n",
              "      background-color: #E8F0FE;\n",
              "      border: none;\n",
              "      border-radius: 50%;\n",
              "      cursor: pointer;\n",
              "      display: none;\n",
              "      fill: #1967D2;\n",
              "      height: 32px;\n",
              "      padding: 0 0 0 0;\n",
              "      width: 32px;\n",
              "    }\n",
              "\n",
              "    .colab-df-convert:hover {\n",
              "      background-color: #E2EBFA;\n",
              "      box-shadow: 0px 1px 2px rgba(60, 64, 67, 0.3), 0px 1px 3px 1px rgba(60, 64, 67, 0.15);\n",
              "      fill: #174EA6;\n",
              "    }\n",
              "\n",
              "    .colab-df-buttons div {\n",
              "      margin-bottom: 4px;\n",
              "    }\n",
              "\n",
              "    [theme=dark] .colab-df-convert {\n",
              "      background-color: #3B4455;\n",
              "      fill: #D2E3FC;\n",
              "    }\n",
              "\n",
              "    [theme=dark] .colab-df-convert:hover {\n",
              "      background-color: #434B5C;\n",
              "      box-shadow: 0px 1px 3px 1px rgba(0, 0, 0, 0.15);\n",
              "      filter: drop-shadow(0px 1px 2px rgba(0, 0, 0, 0.3));\n",
              "      fill: #FFFFFF;\n",
              "    }\n",
              "  </style>\n",
              "\n",
              "    <script>\n",
              "      const buttonEl =\n",
              "        document.querySelector('#df-727b8c5f-0bec-4a31-80b9-af8a080d1f0a button.colab-df-convert');\n",
              "      buttonEl.style.display =\n",
              "        google.colab.kernel.accessAllowed ? 'block' : 'none';\n",
              "\n",
              "      async function convertToInteractive(key) {\n",
              "        const element = document.querySelector('#df-727b8c5f-0bec-4a31-80b9-af8a080d1f0a');\n",
              "        const dataTable =\n",
              "          await google.colab.kernel.invokeFunction('convertToInteractive',\n",
              "                                                    [key], {});\n",
              "        if (!dataTable) return;\n",
              "\n",
              "        const docLinkHtml = 'Like what you see? Visit the ' +\n",
              "          '<a target=\"_blank\" href=https://colab.research.google.com/notebooks/data_table.ipynb>data table notebook</a>'\n",
              "          + ' to learn more about interactive tables.';\n",
              "        element.innerHTML = '';\n",
              "        dataTable['output_type'] = 'display_data';\n",
              "        await google.colab.output.renderOutput(dataTable, element);\n",
              "        const docLink = document.createElement('div');\n",
              "        docLink.innerHTML = docLinkHtml;\n",
              "        element.appendChild(docLink);\n",
              "      }\n",
              "    </script>\n",
              "  </div>\n",
              "\n",
              "\n",
              "<div id=\"df-24ef3065-6986-4a4d-af72-8ba544df38b3\">\n",
              "  <button class=\"colab-df-quickchart\" onclick=\"quickchart('df-24ef3065-6986-4a4d-af72-8ba544df38b3')\"\n",
              "            title=\"Suggest charts\"\n",
              "            style=\"display:none;\">\n",
              "\n",
              "<svg xmlns=\"http://www.w3.org/2000/svg\" height=\"24px\"viewBox=\"0 0 24 24\"\n",
              "     width=\"24px\">\n",
              "    <g>\n",
              "        <path d=\"M19 3H5c-1.1 0-2 .9-2 2v14c0 1.1.9 2 2 2h14c1.1 0 2-.9 2-2V5c0-1.1-.9-2-2-2zM9 17H7v-7h2v7zm4 0h-2V7h2v10zm4 0h-2v-4h2v4z\"/>\n",
              "    </g>\n",
              "</svg>\n",
              "  </button>\n",
              "\n",
              "<style>\n",
              "  .colab-df-quickchart {\n",
              "      --bg-color: #E8F0FE;\n",
              "      --fill-color: #1967D2;\n",
              "      --hover-bg-color: #E2EBFA;\n",
              "      --hover-fill-color: #174EA6;\n",
              "      --disabled-fill-color: #AAA;\n",
              "      --disabled-bg-color: #DDD;\n",
              "  }\n",
              "\n",
              "  [theme=dark] .colab-df-quickchart {\n",
              "      --bg-color: #3B4455;\n",
              "      --fill-color: #D2E3FC;\n",
              "      --hover-bg-color: #434B5C;\n",
              "      --hover-fill-color: #FFFFFF;\n",
              "      --disabled-bg-color: #3B4455;\n",
              "      --disabled-fill-color: #666;\n",
              "  }\n",
              "\n",
              "  .colab-df-quickchart {\n",
              "    background-color: var(--bg-color);\n",
              "    border: none;\n",
              "    border-radius: 50%;\n",
              "    cursor: pointer;\n",
              "    display: none;\n",
              "    fill: var(--fill-color);\n",
              "    height: 32px;\n",
              "    padding: 0;\n",
              "    width: 32px;\n",
              "  }\n",
              "\n",
              "  .colab-df-quickchart:hover {\n",
              "    background-color: var(--hover-bg-color);\n",
              "    box-shadow: 0 1px 2px rgba(60, 64, 67, 0.3), 0 1px 3px 1px rgba(60, 64, 67, 0.15);\n",
              "    fill: var(--button-hover-fill-color);\n",
              "  }\n",
              "\n",
              "  .colab-df-quickchart-complete:disabled,\n",
              "  .colab-df-quickchart-complete:disabled:hover {\n",
              "    background-color: var(--disabled-bg-color);\n",
              "    fill: var(--disabled-fill-color);\n",
              "    box-shadow: none;\n",
              "  }\n",
              "\n",
              "  .colab-df-spinner {\n",
              "    border: 2px solid var(--fill-color);\n",
              "    border-color: transparent;\n",
              "    border-bottom-color: var(--fill-color);\n",
              "    animation:\n",
              "      spin 1s steps(1) infinite;\n",
              "  }\n",
              "\n",
              "  @keyframes spin {\n",
              "    0% {\n",
              "      border-color: transparent;\n",
              "      border-bottom-color: var(--fill-color);\n",
              "      border-left-color: var(--fill-color);\n",
              "    }\n",
              "    20% {\n",
              "      border-color: transparent;\n",
              "      border-left-color: var(--fill-color);\n",
              "      border-top-color: var(--fill-color);\n",
              "    }\n",
              "    30% {\n",
              "      border-color: transparent;\n",
              "      border-left-color: var(--fill-color);\n",
              "      border-top-color: var(--fill-color);\n",
              "      border-right-color: var(--fill-color);\n",
              "    }\n",
              "    40% {\n",
              "      border-color: transparent;\n",
              "      border-right-color: var(--fill-color);\n",
              "      border-top-color: var(--fill-color);\n",
              "    }\n",
              "    60% {\n",
              "      border-color: transparent;\n",
              "      border-right-color: var(--fill-color);\n",
              "    }\n",
              "    80% {\n",
              "      border-color: transparent;\n",
              "      border-right-color: var(--fill-color);\n",
              "      border-bottom-color: var(--fill-color);\n",
              "    }\n",
              "    90% {\n",
              "      border-color: transparent;\n",
              "      border-bottom-color: var(--fill-color);\n",
              "    }\n",
              "  }\n",
              "</style>\n",
              "\n",
              "  <script>\n",
              "    async function quickchart(key) {\n",
              "      const quickchartButtonEl =\n",
              "        document.querySelector('#' + key + ' button');\n",
              "      quickchartButtonEl.disabled = true;  // To prevent multiple clicks.\n",
              "      quickchartButtonEl.classList.add('colab-df-spinner');\n",
              "      try {\n",
              "        const charts = await google.colab.kernel.invokeFunction(\n",
              "            'suggestCharts', [key], {});\n",
              "      } catch (error) {\n",
              "        console.error('Error during call to suggestCharts:', error);\n",
              "      }\n",
              "      quickchartButtonEl.classList.remove('colab-df-spinner');\n",
              "      quickchartButtonEl.classList.add('colab-df-quickchart-complete');\n",
              "    }\n",
              "    (() => {\n",
              "      let quickchartButtonEl =\n",
              "        document.querySelector('#df-24ef3065-6986-4a4d-af72-8ba544df38b3 button');\n",
              "      quickchartButtonEl.style.display =\n",
              "        google.colab.kernel.accessAllowed ? 'block' : 'none';\n",
              "    })();\n",
              "  </script>\n",
              "</div>\n",
              "\n",
              "  <div id=\"id_30bcff2b-5c47-44cc-a625-0585842dba7a\">\n",
              "    <style>\n",
              "      .colab-df-generate {\n",
              "        background-color: #E8F0FE;\n",
              "        border: none;\n",
              "        border-radius: 50%;\n",
              "        cursor: pointer;\n",
              "        display: none;\n",
              "        fill: #1967D2;\n",
              "        height: 32px;\n",
              "        padding: 0 0 0 0;\n",
              "        width: 32px;\n",
              "      }\n",
              "\n",
              "      .colab-df-generate:hover {\n",
              "        background-color: #E2EBFA;\n",
              "        box-shadow: 0px 1px 2px rgba(60, 64, 67, 0.3), 0px 1px 3px 1px rgba(60, 64, 67, 0.15);\n",
              "        fill: #174EA6;\n",
              "      }\n",
              "\n",
              "      [theme=dark] .colab-df-generate {\n",
              "        background-color: #3B4455;\n",
              "        fill: #D2E3FC;\n",
              "      }\n",
              "\n",
              "      [theme=dark] .colab-df-generate:hover {\n",
              "        background-color: #434B5C;\n",
              "        box-shadow: 0px 1px 3px 1px rgba(0, 0, 0, 0.15);\n",
              "        filter: drop-shadow(0px 1px 2px rgba(0, 0, 0, 0.3));\n",
              "        fill: #FFFFFF;\n",
              "      }\n",
              "    </style>\n",
              "    <button class=\"colab-df-generate\" onclick=\"generateWithVariable('df')\"\n",
              "            title=\"Generate code using this dataframe.\"\n",
              "            style=\"display:none;\">\n",
              "\n",
              "  <svg xmlns=\"http://www.w3.org/2000/svg\" height=\"24px\"viewBox=\"0 0 24 24\"\n",
              "       width=\"24px\">\n",
              "    <path d=\"M7,19H8.4L18.45,9,17,7.55,7,17.6ZM5,21V16.75L18.45,3.32a2,2,0,0,1,2.83,0l1.4,1.43a1.91,1.91,0,0,1,.58,1.4,1.91,1.91,0,0,1-.58,1.4L9.25,21ZM18.45,9,17,7.55Zm-12,3A5.31,5.31,0,0,0,4.9,8.1,5.31,5.31,0,0,0,1,6.5,5.31,5.31,0,0,0,4.9,4.9,5.31,5.31,0,0,0,6.5,1,5.31,5.31,0,0,0,8.1,4.9,5.31,5.31,0,0,0,12,6.5,5.46,5.46,0,0,0,6.5,12Z\"/>\n",
              "  </svg>\n",
              "    </button>\n",
              "    <script>\n",
              "      (() => {\n",
              "      const buttonEl =\n",
              "        document.querySelector('#id_30bcff2b-5c47-44cc-a625-0585842dba7a button.colab-df-generate');\n",
              "      buttonEl.style.display =\n",
              "        google.colab.kernel.accessAllowed ? 'block' : 'none';\n",
              "\n",
              "      buttonEl.onclick = () => {\n",
              "        google.colab.notebook.generateWithVariable('df');\n",
              "      }\n",
              "      })();\n",
              "    </script>\n",
              "  </div>\n",
              "\n",
              "    </div>\n",
              "  </div>\n"
            ]
          },
          "metadata": {},
          "execution_count": 10
        }
      ]
    },
    {
      "cell_type": "code",
      "source": [
        "df.rename({0:'Symbol',1:'Name',9:'Market_Cap'},inplace=True,axis=1)\n",
        "df"
      ],
      "metadata": {
        "colab": {
          "base_uri": "https://localhost:8080/",
          "height": 597
        },
        "id": "tHMXzhHGqVz6",
        "outputId": "1d78604a-778b-464a-fce2-350ef802b201"
      },
      "execution_count": 12,
      "outputs": [
        {
          "output_type": "execute_result",
          "data": {
            "text/plain": [
              "    Symbol                    Name                       2       3      4  \\\n",
              "0      MMM              3M Company             Industrials  222.89  24.31   \n",
              "1      AOS         A.O. Smith Corp             Industrials   60.24  27.76   \n",
              "2      ABT     Abbott Laboratories             Health Care   56.27  22.51   \n",
              "3     ABBV             AbbVie Inc.             Health Care  108.48  19.41   \n",
              "4      ACN           Accenture plc  Information Technology  150.51  25.47   \n",
              "..     ...                     ...                     ...     ...    ...   \n",
              "500    XYL              Xylem Inc.             Industrials   70.24  30.94   \n",
              "501    YUM         Yum! Brands Inc  Consumer Discretionary    76.3  27.25   \n",
              "502    ZBH  Zimmer Biomet Holdings             Health Care  115.53  14.32   \n",
              "503   ZION           Zions Bancorp              Financials   50.71  17.73   \n",
              "504    ZTS                  Zoetis             Health Care   71.51   32.8   \n",
              "\n",
              "              5     6       7       8    Market_Cap           10         11  \\\n",
              "0     2.3328617  7.92  259.77  175.49  138721055226   9048000000  4.3902707   \n",
              "1     1.1479592   1.7   68.39  48.925   10783419933    601000000  3.5754826   \n",
              "2     1.9089824  0.26    64.6   42.28  102121042306   5744000000  3.7404804   \n",
              "3     2.4995599  3.29  125.86   60.05  181386347059  10310000000   6.291571   \n",
              "4     1.7144699  5.44   162.6  114.82   98765855553   5643228000   2.604117   \n",
              "..          ...   ...     ...     ...           ...          ...        ...   \n",
              "500   1.1700794  1.83   76.81   46.86   12915021000    722000000  2.7262094   \n",
              "501   1.7970798  4.07   86.93   62.85   27003303098   2289000000  6.3136363   \n",
              "502   0.7948336  9.01  133.49  108.17   24454698119   2007400000  3.1648953   \n",
              "503    1.480933   2.6   55.61   38.43   10670678640            0  3.7945793   \n",
              "504  0.68237203  1.65   80.13      52   35991109776   1734000000   9.280896   \n",
              "\n",
              "         12                                                 13  \n",
              "0     11.34  http://www.sec.gov/cgi-bin/browse-edgar?action...  \n",
              "1      6.35  http://www.sec.gov/cgi-bin/browse-edgar?action...  \n",
              "2      3.19  http://www.sec.gov/cgi-bin/browse-edgar?action...  \n",
              "3     26.14  http://www.sec.gov/cgi-bin/browse-edgar?action...  \n",
              "4     10.62  http://www.sec.gov/cgi-bin/browse-edgar?action...  \n",
              "..      ...                                                ...  \n",
              "500    5.31  http://www.sec.gov/cgi-bin/browse-edgar?action...  \n",
              "501  212.08  http://www.sec.gov/cgi-bin/browse-edgar?action...  \n",
              "502    2.39  http://www.sec.gov/cgi-bin/browse-edgar?action...  \n",
              "503    1.42  http://www.sec.gov/cgi-bin/browse-edgar?action...  \n",
              "504   18.09  http://www.sec.gov/cgi-bin/browse-edgar?action...  \n",
              "\n",
              "[505 rows x 14 columns]"
            ],
            "text/html": [
              "\n",
              "  <div id=\"df-cb62f77c-d696-4534-95de-3490c9af2608\" class=\"colab-df-container\">\n",
              "    <div>\n",
              "<style scoped>\n",
              "    .dataframe tbody tr th:only-of-type {\n",
              "        vertical-align: middle;\n",
              "    }\n",
              "\n",
              "    .dataframe tbody tr th {\n",
              "        vertical-align: top;\n",
              "    }\n",
              "\n",
              "    .dataframe thead th {\n",
              "        text-align: right;\n",
              "    }\n",
              "</style>\n",
              "<table border=\"1\" class=\"dataframe\">\n",
              "  <thead>\n",
              "    <tr style=\"text-align: right;\">\n",
              "      <th></th>\n",
              "      <th>Symbol</th>\n",
              "      <th>Name</th>\n",
              "      <th>2</th>\n",
              "      <th>3</th>\n",
              "      <th>4</th>\n",
              "      <th>5</th>\n",
              "      <th>6</th>\n",
              "      <th>7</th>\n",
              "      <th>8</th>\n",
              "      <th>Market_Cap</th>\n",
              "      <th>10</th>\n",
              "      <th>11</th>\n",
              "      <th>12</th>\n",
              "      <th>13</th>\n",
              "    </tr>\n",
              "  </thead>\n",
              "  <tbody>\n",
              "    <tr>\n",
              "      <th>0</th>\n",
              "      <td>MMM</td>\n",
              "      <td>3M Company</td>\n",
              "      <td>Industrials</td>\n",
              "      <td>222.89</td>\n",
              "      <td>24.31</td>\n",
              "      <td>2.3328617</td>\n",
              "      <td>7.92</td>\n",
              "      <td>259.77</td>\n",
              "      <td>175.49</td>\n",
              "      <td>138721055226</td>\n",
              "      <td>9048000000</td>\n",
              "      <td>4.3902707</td>\n",
              "      <td>11.34</td>\n",
              "      <td>http://www.sec.gov/cgi-bin/browse-edgar?action...</td>\n",
              "    </tr>\n",
              "    <tr>\n",
              "      <th>1</th>\n",
              "      <td>AOS</td>\n",
              "      <td>A.O. Smith Corp</td>\n",
              "      <td>Industrials</td>\n",
              "      <td>60.24</td>\n",
              "      <td>27.76</td>\n",
              "      <td>1.1479592</td>\n",
              "      <td>1.7</td>\n",
              "      <td>68.39</td>\n",
              "      <td>48.925</td>\n",
              "      <td>10783419933</td>\n",
              "      <td>601000000</td>\n",
              "      <td>3.5754826</td>\n",
              "      <td>6.35</td>\n",
              "      <td>http://www.sec.gov/cgi-bin/browse-edgar?action...</td>\n",
              "    </tr>\n",
              "    <tr>\n",
              "      <th>2</th>\n",
              "      <td>ABT</td>\n",
              "      <td>Abbott Laboratories</td>\n",
              "      <td>Health Care</td>\n",
              "      <td>56.27</td>\n",
              "      <td>22.51</td>\n",
              "      <td>1.9089824</td>\n",
              "      <td>0.26</td>\n",
              "      <td>64.6</td>\n",
              "      <td>42.28</td>\n",
              "      <td>102121042306</td>\n",
              "      <td>5744000000</td>\n",
              "      <td>3.7404804</td>\n",
              "      <td>3.19</td>\n",
              "      <td>http://www.sec.gov/cgi-bin/browse-edgar?action...</td>\n",
              "    </tr>\n",
              "    <tr>\n",
              "      <th>3</th>\n",
              "      <td>ABBV</td>\n",
              "      <td>AbbVie Inc.</td>\n",
              "      <td>Health Care</td>\n",
              "      <td>108.48</td>\n",
              "      <td>19.41</td>\n",
              "      <td>2.4995599</td>\n",
              "      <td>3.29</td>\n",
              "      <td>125.86</td>\n",
              "      <td>60.05</td>\n",
              "      <td>181386347059</td>\n",
              "      <td>10310000000</td>\n",
              "      <td>6.291571</td>\n",
              "      <td>26.14</td>\n",
              "      <td>http://www.sec.gov/cgi-bin/browse-edgar?action...</td>\n",
              "    </tr>\n",
              "    <tr>\n",
              "      <th>4</th>\n",
              "      <td>ACN</td>\n",
              "      <td>Accenture plc</td>\n",
              "      <td>Information Technology</td>\n",
              "      <td>150.51</td>\n",
              "      <td>25.47</td>\n",
              "      <td>1.7144699</td>\n",
              "      <td>5.44</td>\n",
              "      <td>162.6</td>\n",
              "      <td>114.82</td>\n",
              "      <td>98765855553</td>\n",
              "      <td>5643228000</td>\n",
              "      <td>2.604117</td>\n",
              "      <td>10.62</td>\n",
              "      <td>http://www.sec.gov/cgi-bin/browse-edgar?action...</td>\n",
              "    </tr>\n",
              "    <tr>\n",
              "      <th>...</th>\n",
              "      <td>...</td>\n",
              "      <td>...</td>\n",
              "      <td>...</td>\n",
              "      <td>...</td>\n",
              "      <td>...</td>\n",
              "      <td>...</td>\n",
              "      <td>...</td>\n",
              "      <td>...</td>\n",
              "      <td>...</td>\n",
              "      <td>...</td>\n",
              "      <td>...</td>\n",
              "      <td>...</td>\n",
              "      <td>...</td>\n",
              "      <td>...</td>\n",
              "    </tr>\n",
              "    <tr>\n",
              "      <th>500</th>\n",
              "      <td>XYL</td>\n",
              "      <td>Xylem Inc.</td>\n",
              "      <td>Industrials</td>\n",
              "      <td>70.24</td>\n",
              "      <td>30.94</td>\n",
              "      <td>1.1700794</td>\n",
              "      <td>1.83</td>\n",
              "      <td>76.81</td>\n",
              "      <td>46.86</td>\n",
              "      <td>12915021000</td>\n",
              "      <td>722000000</td>\n",
              "      <td>2.7262094</td>\n",
              "      <td>5.31</td>\n",
              "      <td>http://www.sec.gov/cgi-bin/browse-edgar?action...</td>\n",
              "    </tr>\n",
              "    <tr>\n",
              "      <th>501</th>\n",
              "      <td>YUM</td>\n",
              "      <td>Yum! Brands Inc</td>\n",
              "      <td>Consumer Discretionary</td>\n",
              "      <td>76.3</td>\n",
              "      <td>27.25</td>\n",
              "      <td>1.7970798</td>\n",
              "      <td>4.07</td>\n",
              "      <td>86.93</td>\n",
              "      <td>62.85</td>\n",
              "      <td>27003303098</td>\n",
              "      <td>2289000000</td>\n",
              "      <td>6.3136363</td>\n",
              "      <td>212.08</td>\n",
              "      <td>http://www.sec.gov/cgi-bin/browse-edgar?action...</td>\n",
              "    </tr>\n",
              "    <tr>\n",
              "      <th>502</th>\n",
              "      <td>ZBH</td>\n",
              "      <td>Zimmer Biomet Holdings</td>\n",
              "      <td>Health Care</td>\n",
              "      <td>115.53</td>\n",
              "      <td>14.32</td>\n",
              "      <td>0.7948336</td>\n",
              "      <td>9.01</td>\n",
              "      <td>133.49</td>\n",
              "      <td>108.17</td>\n",
              "      <td>24454698119</td>\n",
              "      <td>2007400000</td>\n",
              "      <td>3.1648953</td>\n",
              "      <td>2.39</td>\n",
              "      <td>http://www.sec.gov/cgi-bin/browse-edgar?action...</td>\n",
              "    </tr>\n",
              "    <tr>\n",
              "      <th>503</th>\n",
              "      <td>ZION</td>\n",
              "      <td>Zions Bancorp</td>\n",
              "      <td>Financials</td>\n",
              "      <td>50.71</td>\n",
              "      <td>17.73</td>\n",
              "      <td>1.480933</td>\n",
              "      <td>2.6</td>\n",
              "      <td>55.61</td>\n",
              "      <td>38.43</td>\n",
              "      <td>10670678640</td>\n",
              "      <td>0</td>\n",
              "      <td>3.7945793</td>\n",
              "      <td>1.42</td>\n",
              "      <td>http://www.sec.gov/cgi-bin/browse-edgar?action...</td>\n",
              "    </tr>\n",
              "    <tr>\n",
              "      <th>504</th>\n",
              "      <td>ZTS</td>\n",
              "      <td>Zoetis</td>\n",
              "      <td>Health Care</td>\n",
              "      <td>71.51</td>\n",
              "      <td>32.8</td>\n",
              "      <td>0.68237203</td>\n",
              "      <td>1.65</td>\n",
              "      <td>80.13</td>\n",
              "      <td>52</td>\n",
              "      <td>35991109776</td>\n",
              "      <td>1734000000</td>\n",
              "      <td>9.280896</td>\n",
              "      <td>18.09</td>\n",
              "      <td>http://www.sec.gov/cgi-bin/browse-edgar?action...</td>\n",
              "    </tr>\n",
              "  </tbody>\n",
              "</table>\n",
              "<p>505 rows × 14 columns</p>\n",
              "</div>\n",
              "    <div class=\"colab-df-buttons\">\n",
              "\n",
              "  <div class=\"colab-df-container\">\n",
              "    <button class=\"colab-df-convert\" onclick=\"convertToInteractive('df-cb62f77c-d696-4534-95de-3490c9af2608')\"\n",
              "            title=\"Convert this dataframe to an interactive table.\"\n",
              "            style=\"display:none;\">\n",
              "\n",
              "  <svg xmlns=\"http://www.w3.org/2000/svg\" height=\"24px\" viewBox=\"0 -960 960 960\">\n",
              "    <path d=\"M120-120v-720h720v720H120Zm60-500h600v-160H180v160Zm220 220h160v-160H400v160Zm0 220h160v-160H400v160ZM180-400h160v-160H180v160Zm440 0h160v-160H620v160ZM180-180h160v-160H180v160Zm440 0h160v-160H620v160Z\"/>\n",
              "  </svg>\n",
              "    </button>\n",
              "\n",
              "  <style>\n",
              "    .colab-df-container {\n",
              "      display:flex;\n",
              "      gap: 12px;\n",
              "    }\n",
              "\n",
              "    .colab-df-convert {\n",
              "      background-color: #E8F0FE;\n",
              "      border: none;\n",
              "      border-radius: 50%;\n",
              "      cursor: pointer;\n",
              "      display: none;\n",
              "      fill: #1967D2;\n",
              "      height: 32px;\n",
              "      padding: 0 0 0 0;\n",
              "      width: 32px;\n",
              "    }\n",
              "\n",
              "    .colab-df-convert:hover {\n",
              "      background-color: #E2EBFA;\n",
              "      box-shadow: 0px 1px 2px rgba(60, 64, 67, 0.3), 0px 1px 3px 1px rgba(60, 64, 67, 0.15);\n",
              "      fill: #174EA6;\n",
              "    }\n",
              "\n",
              "    .colab-df-buttons div {\n",
              "      margin-bottom: 4px;\n",
              "    }\n",
              "\n",
              "    [theme=dark] .colab-df-convert {\n",
              "      background-color: #3B4455;\n",
              "      fill: #D2E3FC;\n",
              "    }\n",
              "\n",
              "    [theme=dark] .colab-df-convert:hover {\n",
              "      background-color: #434B5C;\n",
              "      box-shadow: 0px 1px 3px 1px rgba(0, 0, 0, 0.15);\n",
              "      filter: drop-shadow(0px 1px 2px rgba(0, 0, 0, 0.3));\n",
              "      fill: #FFFFFF;\n",
              "    }\n",
              "  </style>\n",
              "\n",
              "    <script>\n",
              "      const buttonEl =\n",
              "        document.querySelector('#df-cb62f77c-d696-4534-95de-3490c9af2608 button.colab-df-convert');\n",
              "      buttonEl.style.display =\n",
              "        google.colab.kernel.accessAllowed ? 'block' : 'none';\n",
              "\n",
              "      async function convertToInteractive(key) {\n",
              "        const element = document.querySelector('#df-cb62f77c-d696-4534-95de-3490c9af2608');\n",
              "        const dataTable =\n",
              "          await google.colab.kernel.invokeFunction('convertToInteractive',\n",
              "                                                    [key], {});\n",
              "        if (!dataTable) return;\n",
              "\n",
              "        const docLinkHtml = 'Like what you see? Visit the ' +\n",
              "          '<a target=\"_blank\" href=https://colab.research.google.com/notebooks/data_table.ipynb>data table notebook</a>'\n",
              "          + ' to learn more about interactive tables.';\n",
              "        element.innerHTML = '';\n",
              "        dataTable['output_type'] = 'display_data';\n",
              "        await google.colab.output.renderOutput(dataTable, element);\n",
              "        const docLink = document.createElement('div');\n",
              "        docLink.innerHTML = docLinkHtml;\n",
              "        element.appendChild(docLink);\n",
              "      }\n",
              "    </script>\n",
              "  </div>\n",
              "\n",
              "\n",
              "<div id=\"df-93f885da-200e-472f-b39c-5cb6dd5c3ae4\">\n",
              "  <button class=\"colab-df-quickchart\" onclick=\"quickchart('df-93f885da-200e-472f-b39c-5cb6dd5c3ae4')\"\n",
              "            title=\"Suggest charts\"\n",
              "            style=\"display:none;\">\n",
              "\n",
              "<svg xmlns=\"http://www.w3.org/2000/svg\" height=\"24px\"viewBox=\"0 0 24 24\"\n",
              "     width=\"24px\">\n",
              "    <g>\n",
              "        <path d=\"M19 3H5c-1.1 0-2 .9-2 2v14c0 1.1.9 2 2 2h14c1.1 0 2-.9 2-2V5c0-1.1-.9-2-2-2zM9 17H7v-7h2v7zm4 0h-2V7h2v10zm4 0h-2v-4h2v4z\"/>\n",
              "    </g>\n",
              "</svg>\n",
              "  </button>\n",
              "\n",
              "<style>\n",
              "  .colab-df-quickchart {\n",
              "      --bg-color: #E8F0FE;\n",
              "      --fill-color: #1967D2;\n",
              "      --hover-bg-color: #E2EBFA;\n",
              "      --hover-fill-color: #174EA6;\n",
              "      --disabled-fill-color: #AAA;\n",
              "      --disabled-bg-color: #DDD;\n",
              "  }\n",
              "\n",
              "  [theme=dark] .colab-df-quickchart {\n",
              "      --bg-color: #3B4455;\n",
              "      --fill-color: #D2E3FC;\n",
              "      --hover-bg-color: #434B5C;\n",
              "      --hover-fill-color: #FFFFFF;\n",
              "      --disabled-bg-color: #3B4455;\n",
              "      --disabled-fill-color: #666;\n",
              "  }\n",
              "\n",
              "  .colab-df-quickchart {\n",
              "    background-color: var(--bg-color);\n",
              "    border: none;\n",
              "    border-radius: 50%;\n",
              "    cursor: pointer;\n",
              "    display: none;\n",
              "    fill: var(--fill-color);\n",
              "    height: 32px;\n",
              "    padding: 0;\n",
              "    width: 32px;\n",
              "  }\n",
              "\n",
              "  .colab-df-quickchart:hover {\n",
              "    background-color: var(--hover-bg-color);\n",
              "    box-shadow: 0 1px 2px rgba(60, 64, 67, 0.3), 0 1px 3px 1px rgba(60, 64, 67, 0.15);\n",
              "    fill: var(--button-hover-fill-color);\n",
              "  }\n",
              "\n",
              "  .colab-df-quickchart-complete:disabled,\n",
              "  .colab-df-quickchart-complete:disabled:hover {\n",
              "    background-color: var(--disabled-bg-color);\n",
              "    fill: var(--disabled-fill-color);\n",
              "    box-shadow: none;\n",
              "  }\n",
              "\n",
              "  .colab-df-spinner {\n",
              "    border: 2px solid var(--fill-color);\n",
              "    border-color: transparent;\n",
              "    border-bottom-color: var(--fill-color);\n",
              "    animation:\n",
              "      spin 1s steps(1) infinite;\n",
              "  }\n",
              "\n",
              "  @keyframes spin {\n",
              "    0% {\n",
              "      border-color: transparent;\n",
              "      border-bottom-color: var(--fill-color);\n",
              "      border-left-color: var(--fill-color);\n",
              "    }\n",
              "    20% {\n",
              "      border-color: transparent;\n",
              "      border-left-color: var(--fill-color);\n",
              "      border-top-color: var(--fill-color);\n",
              "    }\n",
              "    30% {\n",
              "      border-color: transparent;\n",
              "      border-left-color: var(--fill-color);\n",
              "      border-top-color: var(--fill-color);\n",
              "      border-right-color: var(--fill-color);\n",
              "    }\n",
              "    40% {\n",
              "      border-color: transparent;\n",
              "      border-right-color: var(--fill-color);\n",
              "      border-top-color: var(--fill-color);\n",
              "    }\n",
              "    60% {\n",
              "      border-color: transparent;\n",
              "      border-right-color: var(--fill-color);\n",
              "    }\n",
              "    80% {\n",
              "      border-color: transparent;\n",
              "      border-right-color: var(--fill-color);\n",
              "      border-bottom-color: var(--fill-color);\n",
              "    }\n",
              "    90% {\n",
              "      border-color: transparent;\n",
              "      border-bottom-color: var(--fill-color);\n",
              "    }\n",
              "  }\n",
              "</style>\n",
              "\n",
              "  <script>\n",
              "    async function quickchart(key) {\n",
              "      const quickchartButtonEl =\n",
              "        document.querySelector('#' + key + ' button');\n",
              "      quickchartButtonEl.disabled = true;  // To prevent multiple clicks.\n",
              "      quickchartButtonEl.classList.add('colab-df-spinner');\n",
              "      try {\n",
              "        const charts = await google.colab.kernel.invokeFunction(\n",
              "            'suggestCharts', [key], {});\n",
              "      } catch (error) {\n",
              "        console.error('Error during call to suggestCharts:', error);\n",
              "      }\n",
              "      quickchartButtonEl.classList.remove('colab-df-spinner');\n",
              "      quickchartButtonEl.classList.add('colab-df-quickchart-complete');\n",
              "    }\n",
              "    (() => {\n",
              "      let quickchartButtonEl =\n",
              "        document.querySelector('#df-93f885da-200e-472f-b39c-5cb6dd5c3ae4 button');\n",
              "      quickchartButtonEl.style.display =\n",
              "        google.colab.kernel.accessAllowed ? 'block' : 'none';\n",
              "    })();\n",
              "  </script>\n",
              "</div>\n",
              "\n",
              "  <div id=\"id_d2d90679-0366-46aa-86ae-6dbe53f7bbe4\">\n",
              "    <style>\n",
              "      .colab-df-generate {\n",
              "        background-color: #E8F0FE;\n",
              "        border: none;\n",
              "        border-radius: 50%;\n",
              "        cursor: pointer;\n",
              "        display: none;\n",
              "        fill: #1967D2;\n",
              "        height: 32px;\n",
              "        padding: 0 0 0 0;\n",
              "        width: 32px;\n",
              "      }\n",
              "\n",
              "      .colab-df-generate:hover {\n",
              "        background-color: #E2EBFA;\n",
              "        box-shadow: 0px 1px 2px rgba(60, 64, 67, 0.3), 0px 1px 3px 1px rgba(60, 64, 67, 0.15);\n",
              "        fill: #174EA6;\n",
              "      }\n",
              "\n",
              "      [theme=dark] .colab-df-generate {\n",
              "        background-color: #3B4455;\n",
              "        fill: #D2E3FC;\n",
              "      }\n",
              "\n",
              "      [theme=dark] .colab-df-generate:hover {\n",
              "        background-color: #434B5C;\n",
              "        box-shadow: 0px 1px 3px 1px rgba(0, 0, 0, 0.15);\n",
              "        filter: drop-shadow(0px 1px 2px rgba(0, 0, 0, 0.3));\n",
              "        fill: #FFFFFF;\n",
              "      }\n",
              "    </style>\n",
              "    <button class=\"colab-df-generate\" onclick=\"generateWithVariable('df')\"\n",
              "            title=\"Generate code using this dataframe.\"\n",
              "            style=\"display:none;\">\n",
              "\n",
              "  <svg xmlns=\"http://www.w3.org/2000/svg\" height=\"24px\"viewBox=\"0 0 24 24\"\n",
              "       width=\"24px\">\n",
              "    <path d=\"M7,19H8.4L18.45,9,17,7.55,7,17.6ZM5,21V16.75L18.45,3.32a2,2,0,0,1,2.83,0l1.4,1.43a1.91,1.91,0,0,1,.58,1.4,1.91,1.91,0,0,1-.58,1.4L9.25,21ZM18.45,9,17,7.55Zm-12,3A5.31,5.31,0,0,0,4.9,8.1,5.31,5.31,0,0,0,1,6.5,5.31,5.31,0,0,0,4.9,4.9,5.31,5.31,0,0,0,6.5,1,5.31,5.31,0,0,0,8.1,4.9,5.31,5.31,0,0,0,12,6.5,5.46,5.46,0,0,0,6.5,12Z\"/>\n",
              "  </svg>\n",
              "    </button>\n",
              "    <script>\n",
              "      (() => {\n",
              "      const buttonEl =\n",
              "        document.querySelector('#id_d2d90679-0366-46aa-86ae-6dbe53f7bbe4 button.colab-df-generate');\n",
              "      buttonEl.style.display =\n",
              "        google.colab.kernel.accessAllowed ? 'block' : 'none';\n",
              "\n",
              "      buttonEl.onclick = () => {\n",
              "        google.colab.notebook.generateWithVariable('df');\n",
              "      }\n",
              "      })();\n",
              "    </script>\n",
              "  </div>\n",
              "\n",
              "    </div>\n",
              "  </div>\n"
            ]
          },
          "metadata": {},
          "execution_count": 12
        }
      ]
    },
    {
      "cell_type": "code",
      "source": [
        "symbols = pd.Series(df['Symbol'].values, index=df['Name'])\n",
        "symbols"
      ],
      "metadata": {
        "colab": {
          "base_uri": "https://localhost:8080/"
        },
        "id": "j1v4MOx1q1Ib",
        "outputId": "0ee6ca61-0310-4d0e-8681-b2eba4b8f589"
      },
      "execution_count": 15,
      "outputs": [
        {
          "output_type": "execute_result",
          "data": {
            "text/plain": [
              "Name\n",
              "3M Company                 MMM\n",
              "A.O. Smith Corp            AOS\n",
              "Abbott Laboratories        ABT\n",
              "AbbVie Inc.               ABBV\n",
              "Accenture plc              ACN\n",
              "                          ... \n",
              "Xylem Inc.                 XYL\n",
              "Yum! Brands Inc            YUM\n",
              "Zimmer Biomet Holdings     ZBH\n",
              "Zions Bancorp             ZION\n",
              "Zoetis                     ZTS\n",
              "Length: 505, dtype: object"
            ]
          },
          "metadata": {},
          "execution_count": 15
        }
      ]
    },
    {
      "cell_type": "code",
      "source": [
        "market_cap = pd.Series(df['Market_Cap'].values, index=df['Symbol'])\n",
        "market_cap"
      ],
      "metadata": {
        "colab": {
          "base_uri": "https://localhost:8080/"
        },
        "id": "tIHdP7oTrvCq",
        "outputId": "dcd57e8e-da42-477d-880a-c3faca8a5891"
      },
      "execution_count": 14,
      "outputs": [
        {
          "output_type": "execute_result",
          "data": {
            "text/plain": [
              "Symbol\n",
              "MMM     138721055226\n",
              "AOS      10783419933\n",
              "ABT     102121042306\n",
              "ABBV    181386347059\n",
              "ACN      98765855553\n",
              "            ...     \n",
              "XYL      12915021000\n",
              "YUM      27003303098\n",
              "ZBH      24454698119\n",
              "ZION     10670678640\n",
              "ZTS      35991109776\n",
              "Length: 505, dtype: object"
            ]
          },
          "metadata": {},
          "execution_count": 14
        }
      ]
    },
    {
      "cell_type": "markdown",
      "source": [
        "What's the dtype of market_cap"
      ],
      "metadata": {
        "id": "pTKBA7gyoWVY"
      }
    },
    {
      "cell_type": "code",
      "source": [
        "market_cap.dtype"
      ],
      "metadata": {
        "colab": {
          "base_uri": "https://localhost:8080/"
        },
        "id": "dPX1AUUqoX5Q",
        "outputId": "44e70212-3deb-4488-9878-06f55651281d"
      },
      "execution_count": 17,
      "outputs": [
        {
          "output_type": "execute_result",
          "data": {
            "text/plain": [
              "dtype('O')"
            ]
          },
          "metadata": {},
          "execution_count": 17
        }
      ]
    },
    {
      "cell_type": "markdown",
      "source": [
        "What's the dtype of symbols"
      ],
      "metadata": {
        "id": "oGDn5GNqoYAC"
      }
    },
    {
      "cell_type": "code",
      "source": [
        "symbols.dtype"
      ],
      "metadata": {
        "colab": {
          "base_uri": "https://localhost:8080/"
        },
        "id": "ZNn1G06roZmw",
        "outputId": "e6d1df16-ea3e-4ffb-af52-181514c249a8"
      },
      "execution_count": 18,
      "outputs": [
        {
          "output_type": "execute_result",
          "data": {
            "text/plain": [
              "dtype('O')"
            ]
          },
          "metadata": {},
          "execution_count": 18
        }
      ]
    },
    {
      "cell_type": "markdown",
      "source": [
        "How many elements do the series have?"
      ],
      "metadata": {
        "id": "PT3PAPOJoZv8"
      }
    },
    {
      "cell_type": "code",
      "source": [
        "print(market_cap.size, symbols.size)"
      ],
      "metadata": {
        "colab": {
          "base_uri": "https://localhost:8080/"
        },
        "id": "m6WYHT8qobKa",
        "outputId": "403152ee-e65f-4a77-b682-f536a28cd46c"
      },
      "execution_count": 21,
      "outputs": [
        {
          "output_type": "stream",
          "name": "stdout",
          "text": [
            "505 505\n"
          ]
        }
      ]
    },
    {
      "cell_type": "markdown",
      "source": [
        "What's the minimum value for Market Cap?"
      ],
      "metadata": {
        "id": "iHS0HQ_8obT4"
      }
    },
    {
      "cell_type": "code",
      "source": [
        "market_cap.min()"
      ],
      "metadata": {
        "colab": {
          "base_uri": "https://localhost:8080/"
        },
        "id": "c_12YZ2nodFr",
        "outputId": "21a2acd3-0069-44cf-ab7c-ea582c29016d"
      },
      "execution_count": 22,
      "outputs": [
        {
          "output_type": "execute_result",
          "data": {
            "text/plain": [
              "Decimal('2626102121')"
            ]
          },
          "metadata": {},
          "execution_count": 22
        }
      ]
    },
    {
      "cell_type": "markdown",
      "source": [
        "What's the maximum value for Market Cap?"
      ],
      "metadata": {
        "id": "2hP-QHECodPF"
      }
    },
    {
      "cell_type": "code",
      "source": [
        "market_cap.max()"
      ],
      "metadata": {
        "colab": {
          "base_uri": "https://localhost:8080/"
        },
        "id": "NqIa8DcFofvX",
        "outputId": "ae035351-072a-44b1-ad33-6472d7bddf7b"
      },
      "execution_count": 23,
      "outputs": [
        {
          "output_type": "execute_result",
          "data": {
            "text/plain": [
              "Decimal('809508034020')"
            ]
          },
          "metadata": {},
          "execution_count": 23
        }
      ]
    },
    {
      "cell_type": "markdown",
      "source": [
        "What's the average Market Cap?"
      ],
      "metadata": {
        "id": "o-ett1ZNof3K"
      }
    },
    {
      "cell_type": "code",
      "source": [
        "market_cap.mean()"
      ],
      "metadata": {
        "colab": {
          "base_uri": "https://localhost:8080/"
        },
        "id": "sqiU2x7Aohgo",
        "outputId": "62c68a90-9e92-4c14-ad8d-1934b01f68c9"
      },
      "execution_count": 24,
      "outputs": [
        {
          "output_type": "execute_result",
          "data": {
            "text/plain": [
              "49239436929.50495"
            ]
          },
          "metadata": {},
          "execution_count": 24
        }
      ]
    },
    {
      "cell_type": "markdown",
      "source": [
        "What's the median Market Cap?"
      ],
      "metadata": {
        "id": "_sbIF3IeohnR"
      }
    },
    {
      "cell_type": "code",
      "source": [
        "market_cap.median()"
      ],
      "metadata": {
        "colab": {
          "base_uri": "https://localhost:8080/"
        },
        "id": "yelvZY-SojCC",
        "outputId": "78c099af-5ea6-4d0c-8859-2d2574dc9230"
      },
      "execution_count": 25,
      "outputs": [
        {
          "output_type": "execute_result",
          "data": {
            "text/plain": [
              "21400952517.0"
            ]
          },
          "metadata": {},
          "execution_count": 25
        }
      ]
    },
    {
      "cell_type": "markdown",
      "source": [
        "What's the symbol of Oracle Corp.?"
      ],
      "metadata": {
        "id": "w_UVxOMXojJM"
      }
    },
    {
      "cell_type": "code",
      "source": [
        "symbols['Oracle Corp.']"
      ],
      "metadata": {
        "colab": {
          "base_uri": "https://localhost:8080/",
          "height": 35
        },
        "id": "VIDZkDURokwf",
        "outputId": "e361b49b-8334-4bd7-db84-0d1c6a82c446"
      },
      "execution_count": 27,
      "outputs": [
        {
          "output_type": "execute_result",
          "data": {
            "text/plain": [
              "'ORCL'"
            ],
            "application/vnd.google.colaboratory.intrinsic+json": {
              "type": "string"
            }
          },
          "metadata": {},
          "execution_count": 27
        }
      ]
    },
    {
      "cell_type": "markdown",
      "source": [
        "What's the Market Cap of Oracle Corp.?"
      ],
      "metadata": {
        "id": "lT8qFRlxok4R"
      }
    },
    {
      "cell_type": "code",
      "source": [
        "market_cap['ORCL']"
      ],
      "metadata": {
        "colab": {
          "base_uri": "https://localhost:8080/"
        },
        "id": "FSDi-4Qpomin",
        "outputId": "fefbb8be-72df-4f3f-b00b-c42c7b9f5d02"
      },
      "execution_count": 28,
      "outputs": [
        {
          "output_type": "execute_result",
          "data": {
            "text/plain": [
              "Decimal('202302349740')"
            ]
          },
          "metadata": {},
          "execution_count": 28
        }
      ]
    },
    {
      "cell_type": "markdown",
      "source": [
        "What's the Market Cap of Wal-Mart Stores?"
      ],
      "metadata": {
        "id": "FUiMZbY8ompY"
      }
    },
    {
      "cell_type": "code",
      "source": [
        "market_cap[symbols['Wal-Mart Stores']]"
      ],
      "metadata": {
        "colab": {
          "base_uri": "https://localhost:8080/"
        },
        "id": "xCEMt8CfookD",
        "outputId": "fb2fcfd6-040a-454e-dced-5703b2f1af26"
      },
      "execution_count": 30,
      "outputs": [
        {
          "output_type": "execute_result",
          "data": {
            "text/plain": [
              "Decimal('304680931618')"
            ]
          },
          "metadata": {},
          "execution_count": 30
        }
      ]
    },
    {
      "cell_type": "markdown",
      "source": [
        "What's the symbol of the 129th company?"
      ],
      "metadata": {
        "id": "cvB1nhM_oorQ"
      }
    },
    {
      "cell_type": "code",
      "source": [
        "symbols[128]"
      ],
      "metadata": {
        "colab": {
          "base_uri": "https://localhost:8080/",
          "height": 35
        },
        "id": "8dGfbs3ioqKQ",
        "outputId": "7bbe4380-78e0-4234-e723-0c8b6f3af634"
      },
      "execution_count": 34,
      "outputs": [
        {
          "output_type": "execute_result",
          "data": {
            "text/plain": [
              "'STZ'"
            ],
            "application/vnd.google.colaboratory.intrinsic+json": {
              "type": "string"
            }
          },
          "metadata": {},
          "execution_count": 34
        }
      ]
    },
    {
      "cell_type": "markdown",
      "source": [
        "What's the Market Cap of the 88th company in symbols?"
      ],
      "metadata": {
        "id": "ECU1gX_ooqRb"
      }
    },
    {
      "cell_type": "code",
      "source": [
        "market_cap[symbols[87]]"
      ],
      "metadata": {
        "colab": {
          "base_uri": "https://localhost:8080/"
        },
        "id": "2NoEEazporwY",
        "outputId": "439f1107-92fd-470e-f591-d490ef2ce1b2"
      },
      "execution_count": 35,
      "outputs": [
        {
          "output_type": "execute_result",
          "data": {
            "text/plain": [
              "Decimal('13467193376')"
            ]
          },
          "metadata": {},
          "execution_count": 35
        }
      ]
    },
    {
      "cell_type": "markdown",
      "source": [
        "Create a new series only with FAANG Stocks"
      ],
      "metadata": {
        "id": "VVtXi3VBor3E"
      }
    },
    {
      "cell_type": "code",
      "source": [
        "faang_market_cap = pd.Series({symbols['Amazon.com Inc']:market_cap[symbols['Amazon.com Inc']],\n",
        "                             symbols['Apple Inc.']:market_cap[symbols['Apple Inc.']],\n",
        "                            symbols['Microsoft Corp.']:market_cap[symbols['Microsoft Corp.']],\n",
        "                              symbols['Alphabet Inc Class A']:market_cap[symbols['Alphabet Inc Class A']],\n",
        "                              symbols['Facebook, Inc.']:market_cap[symbols['Facebook, Inc.']],\n",
        "                              symbols['Netflix Inc.']:market_cap[symbols['Netflix Inc.']]})\n",
        "\n",
        "faang_market_cap"
      ],
      "metadata": {
        "colab": {
          "base_uri": "https://localhost:8080/"
        },
        "id": "zgYF0rhjotdG",
        "outputId": "89cce891-bd11-4581-ea19-61f9f81e9982"
      },
      "execution_count": 36,
      "outputs": [
        {
          "output_type": "execute_result",
          "data": {
            "text/plain": [
              "AMZN     685873374731\n",
              "AAPL     809508034020\n",
              "MSFT     689978437468\n",
              "GOOGL    733823966137\n",
              "FB       523423036576\n",
              "NFLX     114805404842\n",
              "dtype: object"
            ]
          },
          "metadata": {},
          "execution_count": 36
        }
      ]
    },
    {
      "cell_type": "markdown",
      "source": [
        "Select the market cap of companies in position 1st, 100th, 200th, etc."
      ],
      "metadata": {
        "id": "0eWnB46yotju"
      }
    },
    {
      "cell_type": "code",
      "source": [
        "position_companies = market_cap.iloc[[0,99,199,299,399,499]]\n",
        "position_companies"
      ],
      "metadata": {
        "colab": {
          "base_uri": "https://localhost:8080/"
        },
        "id": "20Mb0oaYovjV",
        "outputId": "4f56f442-12b3-4061-bdfe-1d36e64722e6"
      },
      "execution_count": 39,
      "outputs": [
        {
          "output_type": "execute_result",
          "data": {
            "text/plain": [
              "Symbol\n",
              "MMM    138721055226\n",
              "CTL     18237196861\n",
              "FL       5819080328\n",
              "MAT      5843402350\n",
              "ROP     27247789759\n",
              "XL      10753423590\n",
              "dtype: object"
            ]
          },
          "metadata": {},
          "execution_count": 39
        }
      ]
    },
    {
      "cell_type": "markdown",
      "source": [
        "What's the 4th company sorted lexicographically by their symbol?"
      ],
      "metadata": {
        "id": "HTwVVj3gwkDk"
      }
    },
    {
      "cell_type": "code",
      "source": [
        "symbols.sort_values(ascending=True)[3:4]"
      ],
      "metadata": {
        "colab": {
          "base_uri": "https://localhost:8080/"
        },
        "id": "9bnCU3mkwhW9",
        "outputId": "c42d39c3-8525-469d-fc2f-6913a8a6c8cd"
      },
      "execution_count": 52,
      "outputs": [
        {
          "output_type": "execute_result",
          "data": {
            "text/plain": [
              "Name\n",
              "Apple Inc.    AAPL\n",
              "dtype: object"
            ]
          },
          "metadata": {},
          "execution_count": 52
        }
      ]
    },
    {
      "cell_type": "markdown",
      "source": [
        "What's the Market Cap of the 7th company (in descending order, sort index)?"
      ],
      "metadata": {
        "id": "GUC-H06pyJJb"
      }
    },
    {
      "cell_type": "code",
      "source": [
        "market_cap.sort_index(ascending=False)[6:7]"
      ],
      "metadata": {
        "colab": {
          "base_uri": "https://localhost:8080/"
        },
        "id": "d3RiqrJMyM4-",
        "outputId": "7f4cd149-1bf6-4a48-b684-5634e6e6fb62"
      },
      "execution_count": 59,
      "outputs": [
        {
          "output_type": "execute_result",
          "data": {
            "text/plain": [
              "Symbol\n",
              "XRAY    13390513478\n",
              "dtype: object"
            ]
          },
          "metadata": {},
          "execution_count": 59
        }
      ]
    }
  ]
}